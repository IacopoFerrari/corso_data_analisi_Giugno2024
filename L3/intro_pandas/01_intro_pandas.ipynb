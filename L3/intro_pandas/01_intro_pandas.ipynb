{
 "cells": [
  {
   "cell_type": "code",
   "execution_count": 2,
   "id": "416260b1-225e-417e-9ffc-613d59c4bdf2",
   "metadata": {},
   "outputs": [],
   "source": [
    "import pandas as pd\n",
    "import numpy as np"
   ]
  },
  {
   "cell_type": "markdown",
   "id": "53b8abbf-cf06-469e-b9d5-4db1fa149060",
   "metadata": {},
   "source": [
    "### strutture dati fondamentali\n",
    "- Series\n",
    "- DataFrame"
   ]
  },
  {
   "cell_type": "code",
   "execution_count": 2,
   "id": "e31f4be0-f767-4f39-93c9-cd04e921a5a4",
   "metadata": {},
   "outputs": [],
   "source": [
    "obj = pd.Series([4,7,-5,3])"
   ]
  },
  {
   "cell_type": "code",
   "execution_count": 3,
   "id": "331a4899-12f3-47e4-9dd9-4974d57d9ff5",
   "metadata": {},
   "outputs": [
    {
     "data": {
      "text/plain": [
       "0    4\n",
       "1    7\n",
       "2   -5\n",
       "3    3\n",
       "dtype: int64"
      ]
     },
     "execution_count": 3,
     "metadata": {},
     "output_type": "execute_result"
    }
   ],
   "source": [
    "obj"
   ]
  },
  {
   "cell_type": "code",
   "execution_count": 5,
   "id": "6d9fbabb-8027-4c9a-ab92-e4b304df848f",
   "metadata": {},
   "outputs": [],
   "source": [
    "arr = np.array([4.3,-1,0])\n",
    "obj_float = pd.Series(arr)"
   ]
  },
  {
   "cell_type": "code",
   "execution_count": 6,
   "id": "c68ee0db-70ee-4509-ba45-6787ceb21fef",
   "metadata": {},
   "outputs": [
    {
     "data": {
      "text/plain": [
       "0    4.3\n",
       "1   -1.0\n",
       "2    0.0\n",
       "dtype: float64"
      ]
     },
     "execution_count": 6,
     "metadata": {},
     "output_type": "execute_result"
    }
   ],
   "source": [
    "obj_float"
   ]
  },
  {
   "cell_type": "code",
   "execution_count": 7,
   "id": "772b7416-a7a0-4ab0-8d54-6384f926c5b4",
   "metadata": {},
   "outputs": [
    {
     "data": {
      "text/plain": [
       "<PandasArray>\n",
       "[4, 7, -5, 3]\n",
       "Length: 4, dtype: int64"
      ]
     },
     "execution_count": 7,
     "metadata": {},
     "output_type": "execute_result"
    }
   ],
   "source": [
    "obj.array"
   ]
  },
  {
   "cell_type": "code",
   "execution_count": 8,
   "id": "54a94004-b6f1-4ea6-9ba2-d8841a4b0825",
   "metadata": {},
   "outputs": [
    {
     "data": {
      "text/plain": [
       "RangeIndex(start=0, stop=4, step=1)"
      ]
     },
     "execution_count": 8,
     "metadata": {},
     "output_type": "execute_result"
    }
   ],
   "source": [
    "obj.index"
   ]
  },
  {
   "cell_type": "code",
   "execution_count": 15,
   "id": "ab451d98-2c3b-49d6-8f3b-0feebd294a23",
   "metadata": {},
   "outputs": [],
   "source": [
    "obj2 = pd.Series([4,7,-5,1], index=[\"a\",\"b\",\"c\",\"d\"])"
   ]
  },
  {
   "cell_type": "code",
   "execution_count": 14,
   "id": "4f03af12-7773-481b-a6e3-2bcd3ab759ea",
   "metadata": {},
   "outputs": [
    {
     "data": {
      "text/plain": [
       "a    4\n",
       "b    7\n",
       "c   -5\n",
       "1    1\n",
       "dtype: int64"
      ]
     },
     "execution_count": 14,
     "metadata": {},
     "output_type": "execute_result"
    }
   ],
   "source": [
    "obj2"
   ]
  },
  {
   "cell_type": "code",
   "execution_count": 19,
   "id": "dd7c7c7d-0e39-48dc-bb63-3b57be4f92af",
   "metadata": {},
   "outputs": [
    {
     "data": {
      "text/plain": [
       "Index(['a', 'b', 'c', 'd'], dtype='object')"
      ]
     },
     "execution_count": 19,
     "metadata": {},
     "output_type": "execute_result"
    }
   ],
   "source": [
    "obj2.index"
   ]
  },
  {
   "cell_type": "code",
   "execution_count": null,
   "id": "e6b2a1ca-ce47-4182-a8cd-e635576e6cd0",
   "metadata": {},
   "outputs": [],
   "source": []
  },
  {
   "cell_type": "code",
   "execution_count": 21,
   "id": "3ba0991a-ac70-41d2-b333-81e3f8e2f171",
   "metadata": {},
   "outputs": [
    {
     "data": {
      "text/plain": [
       "a    4\n",
       "b    7\n",
       "dtype: int64"
      ]
     },
     "execution_count": 21,
     "metadata": {},
     "output_type": "execute_result"
    }
   ],
   "source": [
    "obj2[[\"a\",\"b\"]]"
   ]
  },
  {
   "cell_type": "code",
   "execution_count": 22,
   "id": "439a3243-e3f6-4f57-84d7-e20221157b28",
   "metadata": {},
   "outputs": [
    {
     "data": {
      "text/plain": [
       "a     True\n",
       "b     True\n",
       "c    False\n",
       "d     True\n",
       "dtype: bool"
      ]
     },
     "execution_count": 22,
     "metadata": {},
     "output_type": "execute_result"
    }
   ],
   "source": [
    "obj2>0"
   ]
  },
  {
   "cell_type": "code",
   "execution_count": 23,
   "id": "ed496d75-144e-4b52-9517-7e9dc359aac9",
   "metadata": {},
   "outputs": [
    {
     "data": {
      "text/plain": [
       "a     8\n",
       "b    14\n",
       "c   -10\n",
       "d     2\n",
       "dtype: int64"
      ]
     },
     "execution_count": 23,
     "metadata": {},
     "output_type": "execute_result"
    }
   ],
   "source": [
    "obj2*2"
   ]
  },
  {
   "cell_type": "code",
   "execution_count": 24,
   "id": "670b24ab-bf1b-4ea1-9636-a9c61ef1ec8c",
   "metadata": {},
   "outputs": [
    {
     "data": {
      "text/plain": [
       "a      54.598150\n",
       "b    1096.633158\n",
       "c       0.006738\n",
       "d       2.718282\n",
       "dtype: float64"
      ]
     },
     "execution_count": 24,
     "metadata": {},
     "output_type": "execute_result"
    }
   ],
   "source": [
    "np.exp(obj2)"
   ]
  },
  {
   "cell_type": "markdown",
   "id": "c71e47dd-dcb3-4008-8e4c-85047363cd09",
   "metadata": {},
   "source": [
    "# Esercizio\n",
    "### Proviamo a creare un dizionario e trasformarlo una Serie pandas semplicemente passandolo  in ingresso al costruttore, poi lo ritrasformiamo con il metodo to_dict() delle Serie pandas. \n",
    "### Infine creiamo un altra pandas serie usando un dizionario e come indice una lista che ha qualche elemento in comune con un dizionario e vediamo cosa succede"
   ]
  },
  {
   "cell_type": "code",
   "execution_count": 29,
   "id": "9b9a102f-85cf-45d9-a53c-b90c9527e8e9",
   "metadata": {},
   "outputs": [],
   "source": [
    "stati = pd.Series([1,2,3,4,np.nan], index= [\"Ohio\",\"Texas\", \"Utah\",\"Alabama\",\"Idaho\"])"
   ]
  },
  {
   "cell_type": "code",
   "execution_count": 30,
   "id": "f8110b5c-5d32-4771-b65a-a9c5f853f674",
   "metadata": {},
   "outputs": [
    {
     "data": {
      "text/plain": [
       "Ohio       1.0\n",
       "Texas      2.0\n",
       "Utah       3.0\n",
       "Alabama    4.0\n",
       "Idaho      NaN\n",
       "dtype: float64"
      ]
     },
     "execution_count": 30,
     "metadata": {},
     "output_type": "execute_result"
    }
   ],
   "source": [
    "stati"
   ]
  },
  {
   "cell_type": "code",
   "execution_count": 31,
   "id": "1c626a18-5aca-4af4-97fc-9df375739e5f",
   "metadata": {},
   "outputs": [
    {
     "data": {
      "text/plain": [
       "Ohio       False\n",
       "Texas      False\n",
       "Utah       False\n",
       "Alabama    False\n",
       "Idaho       True\n",
       "dtype: bool"
      ]
     },
     "execution_count": 31,
     "metadata": {},
     "output_type": "execute_result"
    }
   ],
   "source": [
    "pd.isna(stati)"
   ]
  },
  {
   "cell_type": "code",
   "execution_count": 37,
   "id": "472f29a8-7125-4ad1-b294-ac0bb4b243f6",
   "metadata": {},
   "outputs": [],
   "source": [
    "stati2 = pd.notna(stati) # per copiaaa!"
   ]
  },
  {
   "cell_type": "code",
   "execution_count": 38,
   "id": "72f0df4c-672c-4400-8380-f74e6953bc61",
   "metadata": {},
   "outputs": [],
   "source": [
    "stati2[\"Ohio\"] = 10"
   ]
  },
  {
   "cell_type": "code",
   "execution_count": 41,
   "id": "ebddb045-b37b-4b1e-b950-0147a84de018",
   "metadata": {},
   "outputs": [],
   "source": [
    "stati[\"New Mexico\"] = 9"
   ]
  },
  {
   "cell_type": "code",
   "execution_count": 42,
   "id": "f864577c-6441-4437-85ba-3f9d7aafbfa1",
   "metadata": {},
   "outputs": [
    {
     "data": {
      "text/plain": [
       "Ohio          1.0\n",
       "Texas         2.0\n",
       "Utah          3.0\n",
       "Alabama       4.0\n",
       "Idaho         NaN\n",
       "New Mexico    9.0\n",
       "dtype: float64"
      ]
     },
     "execution_count": 42,
     "metadata": {},
     "output_type": "execute_result"
    }
   ],
   "source": [
    "stati"
   ]
  },
  {
   "cell_type": "code",
   "execution_count": 43,
   "id": "9aa3985b-258a-42aa-89f8-e6cf8480a5c4",
   "metadata": {},
   "outputs": [
    {
     "data": {
      "text/plain": [
       "Alabama        5.0\n",
       "Idaho          NaN\n",
       "New Mexico     NaN\n",
       "Ohio          11.0\n",
       "Texas          3.0\n",
       "Utah           4.0\n",
       "dtype: object"
      ]
     },
     "execution_count": 43,
     "metadata": {},
     "output_type": "execute_result"
    }
   ],
   "source": [
    "stati + stati2"
   ]
  },
  {
   "cell_type": "code",
   "execution_count": 47,
   "id": "adf78db3-add4-4e87-ada5-c5d30617ca20",
   "metadata": {},
   "outputs": [],
   "source": [
    "stati.name = \"rating\"\n",
    "stati.index.name = \"state\""
   ]
  },
  {
   "cell_type": "markdown",
   "id": "ea3aef19-91e7-4c73-9fed-197489ace079",
   "metadata": {},
   "source": [
    "### pd Serie per riferimento:"
   ]
  },
  {
   "cell_type": "code",
   "execution_count": 48,
   "id": "c2e52b36-fe0a-4802-8284-0ce330197277",
   "metadata": {},
   "outputs": [],
   "source": [
    "r = np.array([1, 2])\n",
    "ser = pd.Series(r, copy=False)\n",
    "ser.iloc[0] = 999"
   ]
  },
  {
   "cell_type": "code",
   "execution_count": 49,
   "id": "5212d7e4-b47c-4fd6-a177-c86174840caa",
   "metadata": {},
   "outputs": [
    {
     "data": {
      "text/plain": [
       "array([999,   2])"
      ]
     },
     "execution_count": 49,
     "metadata": {},
     "output_type": "execute_result"
    }
   ],
   "source": [
    "r"
   ]
  },
  {
   "cell_type": "code",
   "execution_count": 52,
   "id": "43ab74b9-2f8a-4f99-ac9d-c5675b009044",
   "metadata": {},
   "outputs": [
    {
     "data": {
      "text/plain": [
       "2"
      ]
     },
     "execution_count": 52,
     "metadata": {},
     "output_type": "execute_result"
    }
   ],
   "source": [
    "ser.size"
   ]
  },
  {
   "cell_type": "code",
   "execution_count": 55,
   "id": "454251b6-28c9-4354-996b-0d6775704bc3",
   "metadata": {},
   "outputs": [
    {
     "name": "stdout",
     "output_type": "stream",
     "text": [
      "day1    420.0\n",
      "day2    380.0\n",
      "day4      NaN\n",
      "dtype: float64\n"
     ]
    }
   ],
   "source": [
    "calories = {\"day1\": 420, \"day2\": 380, \"day3\": 390}\n",
    "myvar = pd.Series(calories, index = [\"day1\", \"day2\",\"day4\"])\n",
    "print(myvar)"
   ]
  },
  {
   "cell_type": "markdown",
   "id": "30fce654-956f-4b03-80d0-f4ac67f7d7cd",
   "metadata": {},
   "source": [
    "### cosa notiamo dalla precedente cella?"
   ]
  },
  {
   "cell_type": "markdown",
   "id": "b152e4fa-44b0-4d0b-91b3-9d867317625f",
   "metadata": {},
   "source": [
    "### Series multindices"
   ]
  },
  {
   "cell_type": "code",
   "execution_count": 125,
   "id": "9a45c5e9-86ae-4c82-80fc-88f0a98fabea",
   "metadata": {},
   "outputs": [
    {
     "data": {
      "text/plain": [
       "(A, X)    10\n",
       "(A, Y)    20\n",
       "(A, Z)    30\n",
       "(B, X)    40\n",
       "(B, Y)    50\n",
       "(B, Z)    60\n",
       "dtype: int64"
      ]
     },
     "execution_count": 125,
     "metadata": {},
     "output_type": "execute_result"
    }
   ],
   "source": [
    "data = [10, 20, 30, 40, 50, 60]\n",
    "index = [('A', 'X'), ('A', 'Y'), ('A', 'Z'), ('B', 'X'), ('B', 'Y'), ('B', 'Z')]\n",
    "\n",
    "# Creazione della Series con indice multi-livello\n",
    "s = pd.Series(data, index=index)\n",
    "s"
   ]
  },
  {
   "cell_type": "code",
   "execution_count": 127,
   "id": "6c0f2444-747f-4732-bc2d-a5bfb5cede33",
   "metadata": {},
   "outputs": [
    {
     "data": {
      "text/plain": [
       "Index([('A', 'X'), ('A', 'Y'), ('A', 'Z'), ('B', 'X'), ('B', 'Y'), ('B', 'Z')], dtype='object')"
      ]
     },
     "execution_count": 127,
     "metadata": {},
     "output_type": "execute_result"
    }
   ],
   "source": [
    "s.index"
   ]
  },
  {
   "cell_type": "code",
   "execution_count": 130,
   "id": "73a95490-0ff1-48da-8196-192ae7048892",
   "metadata": {},
   "outputs": [
    {
     "data": {
      "text/plain": [
       "array([10, 20, 30, 40, 50, 60], dtype=int64)"
      ]
     },
     "execution_count": 130,
     "metadata": {},
     "output_type": "execute_result"
    }
   ],
   "source": [
    "s.values"
   ]
  },
  {
   "cell_type": "markdown",
   "id": "292e424a-eccb-42b6-a171-68ae02e1f74e",
   "metadata": {},
   "source": [
    "## DataFrame"
   ]
  },
  {
   "cell_type": "markdown",
   "id": "876078b0-b45c-4ee3-a5c9-c854bca46de4",
   "metadata": {},
   "source": [
    "### Creare un dataframe da un dizionario di liste di uguale dimensione"
   ]
  },
  {
   "cell_type": "code",
   "execution_count": 4,
   "id": "1c82adba-f524-4603-a309-b02cd3cd420b",
   "metadata": {},
   "outputs": [],
   "source": [
    "data = {\"state\" : [\"italy\", \"france\",\"germany\",\"spain\",\"italy\"], \"year\" : [2000,2001,2000,1999,1998], \"pop\" : [59,70,80,48,57] }\n",
    "df = pd.DataFrame(data)"
   ]
  },
  {
   "cell_type": "code",
   "execution_count": 5,
   "id": "30a2811b-418e-45da-8c2b-b7c000499358",
   "metadata": {},
   "outputs": [
    {
     "data": {
      "text/html": [
       "<div>\n",
       "<style scoped>\n",
       "    .dataframe tbody tr th:only-of-type {\n",
       "        vertical-align: middle;\n",
       "    }\n",
       "\n",
       "    .dataframe tbody tr th {\n",
       "        vertical-align: top;\n",
       "    }\n",
       "\n",
       "    .dataframe thead th {\n",
       "        text-align: right;\n",
       "    }\n",
       "</style>\n",
       "<table border=\"1\" class=\"dataframe\">\n",
       "  <thead>\n",
       "    <tr style=\"text-align: right;\">\n",
       "      <th></th>\n",
       "      <th>state</th>\n",
       "      <th>year</th>\n",
       "      <th>pop</th>\n",
       "    </tr>\n",
       "  </thead>\n",
       "  <tbody>\n",
       "    <tr>\n",
       "      <th>0</th>\n",
       "      <td>italy</td>\n",
       "      <td>2000</td>\n",
       "      <td>59</td>\n",
       "    </tr>\n",
       "    <tr>\n",
       "      <th>1</th>\n",
       "      <td>france</td>\n",
       "      <td>2001</td>\n",
       "      <td>70</td>\n",
       "    </tr>\n",
       "    <tr>\n",
       "      <th>2</th>\n",
       "      <td>germany</td>\n",
       "      <td>2000</td>\n",
       "      <td>80</td>\n",
       "    </tr>\n",
       "    <tr>\n",
       "      <th>3</th>\n",
       "      <td>spain</td>\n",
       "      <td>1999</td>\n",
       "      <td>48</td>\n",
       "    </tr>\n",
       "    <tr>\n",
       "      <th>4</th>\n",
       "      <td>italy</td>\n",
       "      <td>1998</td>\n",
       "      <td>57</td>\n",
       "    </tr>\n",
       "  </tbody>\n",
       "</table>\n",
       "</div>"
      ],
      "text/plain": [
       "     state  year  pop\n",
       "0    italy  2000   59\n",
       "1   france  2001   70\n",
       "2  germany  2000   80\n",
       "3    spain  1999   48\n",
       "4    italy  1998   57"
      ]
     },
     "execution_count": 5,
     "metadata": {},
     "output_type": "execute_result"
    }
   ],
   "source": [
    "df"
   ]
  },
  {
   "cell_type": "code",
   "execution_count": 7,
   "id": "8ea47d4b-8494-43e6-83a2-3a0550857444",
   "metadata": {},
   "outputs": [
    {
     "data": {
      "text/html": [
       "<div>\n",
       "<style scoped>\n",
       "    .dataframe tbody tr th:only-of-type {\n",
       "        vertical-align: middle;\n",
       "    }\n",
       "\n",
       "    .dataframe tbody tr th {\n",
       "        vertical-align: top;\n",
       "    }\n",
       "\n",
       "    .dataframe thead th {\n",
       "        text-align: right;\n",
       "    }\n",
       "</style>\n",
       "<table border=\"1\" class=\"dataframe\">\n",
       "  <thead>\n",
       "    <tr style=\"text-align: right;\">\n",
       "      <th></th>\n",
       "      <th>state</th>\n",
       "      <th>year</th>\n",
       "      <th>pop</th>\n",
       "    </tr>\n",
       "  </thead>\n",
       "  <tbody>\n",
       "    <tr>\n",
       "      <th>0</th>\n",
       "      <td>italy</td>\n",
       "      <td>2000</td>\n",
       "      <td>59</td>\n",
       "    </tr>\n",
       "    <tr>\n",
       "      <th>1</th>\n",
       "      <td>france</td>\n",
       "      <td>2001</td>\n",
       "      <td>70</td>\n",
       "    </tr>\n",
       "    <tr>\n",
       "      <th>2</th>\n",
       "      <td>germany</td>\n",
       "      <td>2000</td>\n",
       "      <td>80</td>\n",
       "    </tr>\n",
       "    <tr>\n",
       "      <th>3</th>\n",
       "      <td>spain</td>\n",
       "      <td>1999</td>\n",
       "      <td>48</td>\n",
       "    </tr>\n",
       "    <tr>\n",
       "      <th>4</th>\n",
       "      <td>italy</td>\n",
       "      <td>1998</td>\n",
       "      <td>57</td>\n",
       "    </tr>\n",
       "  </tbody>\n",
       "</table>\n",
       "</div>"
      ],
      "text/plain": [
       "     state  year  pop\n",
       "0    italy  2000   59\n",
       "1   france  2001   70\n",
       "2  germany  2000   80\n",
       "3    spain  1999   48\n",
       "4    italy  1998   57"
      ]
     },
     "execution_count": 7,
     "metadata": {},
     "output_type": "execute_result"
    }
   ],
   "source": [
    "df.head() #df.tail()"
   ]
  },
  {
   "cell_type": "code",
   "execution_count": 207,
   "id": "a18ba2ff-a35f-4489-ab8b-3c79fd01378c",
   "metadata": {},
   "outputs": [
    {
     "data": {
      "text/plain": [
       "col_0    1.00\n",
       "col_1    2.30\n",
       "col_2    5.29\n",
       "col_3     NaN\n",
       "col_4     NaN\n",
       "Name: 0, dtype: float64"
      ]
     },
     "execution_count": 207,
     "metadata": {},
     "output_type": "execute_result"
    }
   ],
   "source": [
    "#Estrarre una serie da un df\n",
    "s = df.iloc[0]"
   ]
  },
  {
   "cell_type": "code",
   "execution_count": 209,
   "id": "8c14f438-d933-4212-b057-37a362f58ef5",
   "metadata": {},
   "outputs": [],
   "source": [
    "#s?"
   ]
  },
  {
   "cell_type": "code",
   "execution_count": 12,
   "id": "035ed551-7d8c-4493-9251-ad222b972036",
   "metadata": {},
   "outputs": [],
   "source": [
    "new_df = pd.DataFrame(data, columns=[\"year\", \"state\", \"pop\", \"debt\"]) #notiamo due cose!"
   ]
  },
  {
   "cell_type": "code",
   "execution_count": 13,
   "id": "daded94c-f71a-4e99-8273-92e2875b0501",
   "metadata": {},
   "outputs": [
    {
     "data": {
      "text/html": [
       "<div>\n",
       "<style scoped>\n",
       "    .dataframe tbody tr th:only-of-type {\n",
       "        vertical-align: middle;\n",
       "    }\n",
       "\n",
       "    .dataframe tbody tr th {\n",
       "        vertical-align: top;\n",
       "    }\n",
       "\n",
       "    .dataframe thead th {\n",
       "        text-align: right;\n",
       "    }\n",
       "</style>\n",
       "<table border=\"1\" class=\"dataframe\">\n",
       "  <thead>\n",
       "    <tr style=\"text-align: right;\">\n",
       "      <th></th>\n",
       "      <th>year</th>\n",
       "      <th>state</th>\n",
       "      <th>pop</th>\n",
       "      <th>debt</th>\n",
       "    </tr>\n",
       "  </thead>\n",
       "  <tbody>\n",
       "    <tr>\n",
       "      <th>0</th>\n",
       "      <td>2000</td>\n",
       "      <td>italy</td>\n",
       "      <td>59</td>\n",
       "      <td>NaN</td>\n",
       "    </tr>\n",
       "    <tr>\n",
       "      <th>1</th>\n",
       "      <td>2001</td>\n",
       "      <td>france</td>\n",
       "      <td>70</td>\n",
       "      <td>NaN</td>\n",
       "    </tr>\n",
       "    <tr>\n",
       "      <th>2</th>\n",
       "      <td>2000</td>\n",
       "      <td>germany</td>\n",
       "      <td>80</td>\n",
       "      <td>NaN</td>\n",
       "    </tr>\n",
       "    <tr>\n",
       "      <th>3</th>\n",
       "      <td>1999</td>\n",
       "      <td>spain</td>\n",
       "      <td>48</td>\n",
       "      <td>NaN</td>\n",
       "    </tr>\n",
       "    <tr>\n",
       "      <th>4</th>\n",
       "      <td>1998</td>\n",
       "      <td>italy</td>\n",
       "      <td>57</td>\n",
       "      <td>NaN</td>\n",
       "    </tr>\n",
       "  </tbody>\n",
       "</table>\n",
       "</div>"
      ],
      "text/plain": [
       "   year    state  pop debt\n",
       "0  2000    italy   59  NaN\n",
       "1  2001   france   70  NaN\n",
       "2  2000  germany   80  NaN\n",
       "3  1999    spain   48  NaN\n",
       "4  1998    italy   57  NaN"
      ]
     },
     "execution_count": 13,
     "metadata": {},
     "output_type": "execute_result"
    }
   ],
   "source": [
    "new_df"
   ]
  },
  {
   "cell_type": "code",
   "execution_count": 11,
   "id": "682c3c2a-a1a0-4942-a679-954c5abf94be",
   "metadata": {},
   "outputs": [
    {
     "data": {
      "text/plain": [
       "0    2000\n",
       "1    2001\n",
       "2    2000\n",
       "3    1999\n",
       "4    1998\n",
       "Name: year, dtype: int64"
      ]
     },
     "execution_count": 11,
     "metadata": {},
     "output_type": "execute_result"
    }
   ],
   "source": [
    "df.year"
   ]
  },
  {
   "cell_type": "code",
   "execution_count": 14,
   "id": "118ec6f6-9585-4126-8861-5f7c3160766e",
   "metadata": {},
   "outputs": [
    {
     "data": {
      "text/plain": [
       "0    2000\n",
       "1    2001\n",
       "2    2000\n",
       "3    1999\n",
       "4    1998\n",
       "Name: year, dtype: int64"
      ]
     },
     "execution_count": 14,
     "metadata": {},
     "output_type": "execute_result"
    }
   ],
   "source": [
    "df[\"year\"]"
   ]
  },
  {
   "cell_type": "code",
   "execution_count": 17,
   "id": "534415d0-3bba-4c61-b4eb-26fa285d902f",
   "metadata": {},
   "outputs": [
    {
     "data": {
      "text/plain": [
       "year      2000\n",
       "state    italy\n",
       "pop         59\n",
       "debt       NaN\n",
       "Name: 0, dtype: object"
      ]
     },
     "execution_count": 17,
     "metadata": {},
     "output_type": "execute_result"
    }
   ],
   "source": [
    "new_df.loc[0]"
   ]
  },
  {
   "cell_type": "code",
   "execution_count": 25,
   "id": "2e03dd86-8546-431e-9ab8-32044959cdba",
   "metadata": {},
   "outputs": [],
   "source": [
    "new_df[\"debt\"] = np.arange(5)"
   ]
  },
  {
   "cell_type": "code",
   "execution_count": 108,
   "id": "38a46cb3-356f-4c85-8ad0-98f6a3aadf22",
   "metadata": {},
   "outputs": [
    {
     "data": {
      "text/html": [
       "<div>\n",
       "<style scoped>\n",
       "    .dataframe tbody tr th:only-of-type {\n",
       "        vertical-align: middle;\n",
       "    }\n",
       "\n",
       "    .dataframe tbody tr th {\n",
       "        vertical-align: top;\n",
       "    }\n",
       "\n",
       "    .dataframe thead th {\n",
       "        text-align: right;\n",
       "    }\n",
       "</style>\n",
       "<table border=\"1\" class=\"dataframe\">\n",
       "  <thead>\n",
       "    <tr style=\"text-align: right;\">\n",
       "      <th></th>\n",
       "      <th>state</th>\n",
       "      <th>pop</th>\n",
       "      <th>debt</th>\n",
       "      <th>small</th>\n",
       "    </tr>\n",
       "  </thead>\n",
       "  <tbody>\n",
       "    <tr>\n",
       "      <th>0</th>\n",
       "      <td>italy</td>\n",
       "      <td>59</td>\n",
       "      <td>0</td>\n",
       "      <td>False</td>\n",
       "    </tr>\n",
       "    <tr>\n",
       "      <th>1</th>\n",
       "      <td>france</td>\n",
       "      <td>70</td>\n",
       "      <td>1</td>\n",
       "      <td>True</td>\n",
       "    </tr>\n",
       "    <tr>\n",
       "      <th>2</th>\n",
       "      <td>germany</td>\n",
       "      <td>80</td>\n",
       "      <td>2</td>\n",
       "      <td>True</td>\n",
       "    </tr>\n",
       "    <tr>\n",
       "      <th>3</th>\n",
       "      <td>spain</td>\n",
       "      <td>48</td>\n",
       "      <td>3</td>\n",
       "      <td>False</td>\n",
       "    </tr>\n",
       "    <tr>\n",
       "      <th>4</th>\n",
       "      <td>italy</td>\n",
       "      <td>57</td>\n",
       "      <td>4</td>\n",
       "      <td>False</td>\n",
       "    </tr>\n",
       "  </tbody>\n",
       "</table>\n",
       "</div>"
      ],
      "text/plain": [
       "     state  pop  debt  small\n",
       "0    italy   59     0  False\n",
       "1   france   70     1   True\n",
       "2  germany   80     2   True\n",
       "3    spain   48     3  False\n",
       "4    italy   57     4  False"
      ]
     },
     "execution_count": 108,
     "metadata": {},
     "output_type": "execute_result"
    }
   ],
   "source": [
    "new_df"
   ]
  },
  {
   "cell_type": "code",
   "execution_count": 111,
   "id": "1dea5487-3da8-46f4-aba4-1c92263c23a2",
   "metadata": {},
   "outputs": [
    {
     "data": {
      "text/html": [
       "<div>\n",
       "<style scoped>\n",
       "    .dataframe tbody tr th:only-of-type {\n",
       "        vertical-align: middle;\n",
       "    }\n",
       "\n",
       "    .dataframe tbody tr th {\n",
       "        vertical-align: top;\n",
       "    }\n",
       "\n",
       "    .dataframe thead th {\n",
       "        text-align: right;\n",
       "    }\n",
       "</style>\n",
       "<table border=\"1\" class=\"dataframe\">\n",
       "  <thead>\n",
       "    <tr style=\"text-align: right;\">\n",
       "      <th></th>\n",
       "      <th>state</th>\n",
       "      <th>pop</th>\n",
       "      <th>debt</th>\n",
       "      <th>small</th>\n",
       "    </tr>\n",
       "  </thead>\n",
       "  <tbody>\n",
       "    <tr>\n",
       "      <th>3</th>\n",
       "      <td>spain</td>\n",
       "      <td>48</td>\n",
       "      <td>3</td>\n",
       "      <td>False</td>\n",
       "    </tr>\n",
       "    <tr>\n",
       "      <th>4</th>\n",
       "      <td>italy</td>\n",
       "      <td>57</td>\n",
       "      <td>4</td>\n",
       "      <td>False</td>\n",
       "    </tr>\n",
       "    <tr>\n",
       "      <th>0</th>\n",
       "      <td>italy</td>\n",
       "      <td>59</td>\n",
       "      <td>0</td>\n",
       "      <td>False</td>\n",
       "    </tr>\n",
       "    <tr>\n",
       "      <th>1</th>\n",
       "      <td>france</td>\n",
       "      <td>70</td>\n",
       "      <td>1</td>\n",
       "      <td>True</td>\n",
       "    </tr>\n",
       "    <tr>\n",
       "      <th>2</th>\n",
       "      <td>germany</td>\n",
       "      <td>80</td>\n",
       "      <td>2</td>\n",
       "      <td>True</td>\n",
       "    </tr>\n",
       "  </tbody>\n",
       "</table>\n",
       "</div>"
      ],
      "text/plain": [
       "     state  pop  debt  small\n",
       "3    spain   48     3  False\n",
       "4    italy   57     4  False\n",
       "0    italy   59     0  False\n",
       "1   france   70     1   True\n",
       "2  germany   80     2   True"
      ]
     },
     "execution_count": 111,
     "metadata": {},
     "output_type": "execute_result"
    }
   ],
   "source": [
    "#ordiniamolo per popolazione\n",
    "new_df.sort_values(by='pop', ascending=True)"
   ]
  },
  {
   "cell_type": "markdown",
   "id": "32eb1bd5-9092-49b6-8ce2-f5559dbd60d0",
   "metadata": {},
   "source": [
    "# Proviamo insieme\n",
    "- Se cerco di ordinare una serie o un DF ma sono presenti dei nan posso decidere dove metterli. Con il parametro na_position.\n",
    "- Ordiniamo un dataframe per indici e poi per colonne\n",
    "- Posso avere un indice o una colonna duplicata in un DF?\n",
    "- "
   ]
  },
  {
   "cell_type": "code",
   "execution_count": 32,
   "id": "5f32db01-20dd-4441-8b80-f9a5aa6ec031",
   "metadata": {},
   "outputs": [
    {
     "data": {
      "text/plain": [
       "Index(['year', 'state', 'pop', 'debt'], dtype='object')"
      ]
     },
     "execution_count": 32,
     "metadata": {},
     "output_type": "execute_result"
    }
   ],
   "source": [
    "new_df.columns"
   ]
  },
  {
   "cell_type": "code",
   "execution_count": 33,
   "id": "3612104a-dcb1-47f6-8825-536ea3247bf2",
   "metadata": {},
   "outputs": [],
   "source": [
    "del new_df[\"year\"]"
   ]
  },
  {
   "cell_type": "code",
   "execution_count": 35,
   "id": "92f04437-fadc-489d-a152-ac7501c03333",
   "metadata": {},
   "outputs": [],
   "source": [
    "new_df[\"small\"] = new_df[\"pop\"] >= 60"
   ]
  },
  {
   "cell_type": "code",
   "execution_count": 36,
   "id": "218c7e64-569a-4470-bbbd-fc1ec32db551",
   "metadata": {},
   "outputs": [
    {
     "data": {
      "text/html": [
       "<div>\n",
       "<style scoped>\n",
       "    .dataframe tbody tr th:only-of-type {\n",
       "        vertical-align: middle;\n",
       "    }\n",
       "\n",
       "    .dataframe tbody tr th {\n",
       "        vertical-align: top;\n",
       "    }\n",
       "\n",
       "    .dataframe thead th {\n",
       "        text-align: right;\n",
       "    }\n",
       "</style>\n",
       "<table border=\"1\" class=\"dataframe\">\n",
       "  <thead>\n",
       "    <tr style=\"text-align: right;\">\n",
       "      <th></th>\n",
       "      <th>state</th>\n",
       "      <th>pop</th>\n",
       "      <th>debt</th>\n",
       "      <th>small</th>\n",
       "    </tr>\n",
       "  </thead>\n",
       "  <tbody>\n",
       "    <tr>\n",
       "      <th>0</th>\n",
       "      <td>italy</td>\n",
       "      <td>59</td>\n",
       "      <td>0</td>\n",
       "      <td>False</td>\n",
       "    </tr>\n",
       "    <tr>\n",
       "      <th>1</th>\n",
       "      <td>france</td>\n",
       "      <td>70</td>\n",
       "      <td>1</td>\n",
       "      <td>True</td>\n",
       "    </tr>\n",
       "    <tr>\n",
       "      <th>2</th>\n",
       "      <td>germany</td>\n",
       "      <td>80</td>\n",
       "      <td>2</td>\n",
       "      <td>True</td>\n",
       "    </tr>\n",
       "    <tr>\n",
       "      <th>3</th>\n",
       "      <td>spain</td>\n",
       "      <td>48</td>\n",
       "      <td>3</td>\n",
       "      <td>False</td>\n",
       "    </tr>\n",
       "    <tr>\n",
       "      <th>4</th>\n",
       "      <td>italy</td>\n",
       "      <td>57</td>\n",
       "      <td>4</td>\n",
       "      <td>False</td>\n",
       "    </tr>\n",
       "  </tbody>\n",
       "</table>\n",
       "</div>"
      ],
      "text/plain": [
       "     state  pop  debt  small\n",
       "0    italy   59     0  False\n",
       "1   france   70     1   True\n",
       "2  germany   80     2   True\n",
       "3    spain   48     3  False\n",
       "4    italy   57     4  False"
      ]
     },
     "execution_count": 36,
     "metadata": {},
     "output_type": "execute_result"
    }
   ],
   "source": [
    "new_df"
   ]
  },
  {
   "cell_type": "markdown",
   "id": "2da7feae-5d85-4243-a82a-08094e4280dd",
   "metadata": {},
   "source": [
    "## Prova a creare o cancellare una colonna usando la dot notation!"
   ]
  },
  {
   "cell_type": "code",
   "execution_count": null,
   "id": "297a2746-8ce4-42f2-b388-f6783c1da579",
   "metadata": {},
   "outputs": [],
   "source": []
  },
  {
   "cell_type": "markdown",
   "id": "8a0db99f-5a9e-4236-a4d6-5becc7181b67",
   "metadata": {},
   "source": [
    "### Creare un DataFrame da un dizionario con dizionari annidati"
   ]
  },
  {
   "cell_type": "code",
   "execution_count": 55,
   "id": "9925698e-9a2c-47ec-9e53-d94f63901954",
   "metadata": {},
   "outputs": [
    {
     "data": {
      "text/html": [
       "<div>\n",
       "<style scoped>\n",
       "    .dataframe tbody tr th:only-of-type {\n",
       "        vertical-align: middle;\n",
       "    }\n",
       "\n",
       "    .dataframe tbody tr th {\n",
       "        vertical-align: top;\n",
       "    }\n",
       "\n",
       "    .dataframe thead th {\n",
       "        text-align: right;\n",
       "    }\n",
       "</style>\n",
       "<table border=\"1\" class=\"dataframe\">\n",
       "  <thead>\n",
       "    <tr style=\"text-align: right;\">\n",
       "      <th></th>\n",
       "      <th>Italy</th>\n",
       "      <th>germany</th>\n",
       "    </tr>\n",
       "  </thead>\n",
       "  <tbody>\n",
       "    <tr>\n",
       "      <th>2000</th>\n",
       "      <td>59.0</td>\n",
       "      <td>NaN</td>\n",
       "    </tr>\n",
       "    <tr>\n",
       "      <th>1998</th>\n",
       "      <td>57.0</td>\n",
       "      <td>NaN</td>\n",
       "    </tr>\n",
       "    <tr>\n",
       "      <th>2001</th>\n",
       "      <td>NaN</td>\n",
       "      <td>80.0</td>\n",
       "    </tr>\n",
       "  </tbody>\n",
       "</table>\n",
       "</div>"
      ],
      "text/plain": [
       "      Italy  germany\n",
       "2000   59.0      NaN\n",
       "1998   57.0      NaN\n",
       "2001    NaN     80.0"
      ]
     },
     "execution_count": 55,
     "metadata": {},
     "output_type": "execute_result"
    }
   ],
   "source": [
    "populations = pd.DataFrame({\"Italy\" : {2000: 59, 1998 : 57}, \"germany\" : {2001 : 80} })\n",
    "populations"
   ]
  },
  {
   "cell_type": "code",
   "execution_count": 56,
   "id": "4d409abc-f664-4e8b-91c1-d8d32fc94b37",
   "metadata": {},
   "outputs": [
    {
     "data": {
      "text/html": [
       "<div>\n",
       "<style scoped>\n",
       "    .dataframe tbody tr th:only-of-type {\n",
       "        vertical-align: middle;\n",
       "    }\n",
       "\n",
       "    .dataframe tbody tr th {\n",
       "        vertical-align: top;\n",
       "    }\n",
       "\n",
       "    .dataframe thead th {\n",
       "        text-align: right;\n",
       "    }\n",
       "</style>\n",
       "<table border=\"1\" class=\"dataframe\">\n",
       "  <thead>\n",
       "    <tr style=\"text-align: right;\">\n",
       "      <th></th>\n",
       "      <th>2000</th>\n",
       "      <th>1998</th>\n",
       "      <th>2001</th>\n",
       "    </tr>\n",
       "  </thead>\n",
       "  <tbody>\n",
       "    <tr>\n",
       "      <th>Italy</th>\n",
       "      <td>59.0</td>\n",
       "      <td>57.0</td>\n",
       "      <td>NaN</td>\n",
       "    </tr>\n",
       "    <tr>\n",
       "      <th>germany</th>\n",
       "      <td>NaN</td>\n",
       "      <td>NaN</td>\n",
       "      <td>80.0</td>\n",
       "    </tr>\n",
       "  </tbody>\n",
       "</table>\n",
       "</div>"
      ],
      "text/plain": [
       "         2000  1998  2001\n",
       "Italy    59.0  57.0   NaN\n",
       "germany   NaN   NaN  80.0"
      ]
     },
     "execution_count": 56,
     "metadata": {},
     "output_type": "execute_result"
    }
   ],
   "source": [
    "populations.T"
   ]
  },
  {
   "cell_type": "markdown",
   "id": "3594ecee-329a-42d1-ab88-2ff70c5dcdf9",
   "metadata": {},
   "source": [
    "Rinominare le colonne di un dataframe:"
   ]
  },
  {
   "cell_type": "code",
   "execution_count": 63,
   "id": "7f39140d-18e3-4ccc-861c-fb2a2dee43c8",
   "metadata": {},
   "outputs": [
    {
     "data": {
      "text/html": [
       "<div>\n",
       "<style scoped>\n",
       "    .dataframe tbody tr th:only-of-type {\n",
       "        vertical-align: middle;\n",
       "    }\n",
       "\n",
       "    .dataframe tbody tr th {\n",
       "        vertical-align: top;\n",
       "    }\n",
       "\n",
       "    .dataframe thead th {\n",
       "        text-align: right;\n",
       "    }\n",
       "</style>\n",
       "<table border=\"1\" class=\"dataframe\">\n",
       "  <thead>\n",
       "    <tr style=\"text-align: right;\">\n",
       "      <th></th>\n",
       "      <th>france</th>\n",
       "      <th>spain</th>\n",
       "    </tr>\n",
       "  </thead>\n",
       "  <tbody>\n",
       "    <tr>\n",
       "      <th>2000</th>\n",
       "      <td>59.0</td>\n",
       "      <td>NaN</td>\n",
       "    </tr>\n",
       "    <tr>\n",
       "      <th>1998</th>\n",
       "      <td>57.0</td>\n",
       "      <td>NaN</td>\n",
       "    </tr>\n",
       "    <tr>\n",
       "      <th>2001</th>\n",
       "      <td>NaN</td>\n",
       "      <td>80.0</td>\n",
       "    </tr>\n",
       "  </tbody>\n",
       "</table>\n",
       "</div>"
      ],
      "text/plain": [
       "      france  spain\n",
       "2000    59.0    NaN\n",
       "1998    57.0    NaN\n",
       "2001     NaN   80.0"
      ]
     },
     "execution_count": 63,
     "metadata": {},
     "output_type": "execute_result"
    }
   ],
   "source": [
    "populations.columns = [\"france\", \"spain\"] # 1o metodo, rinominarle tutte!\n",
    "populations"
   ]
  },
  {
   "cell_type": "code",
   "execution_count": 65,
   "id": "c155ffc2-97ea-4639-8a88-f539f202cd38",
   "metadata": {},
   "outputs": [
    {
     "data": {
      "text/html": [
       "<div>\n",
       "<style scoped>\n",
       "    .dataframe tbody tr th:only-of-type {\n",
       "        vertical-align: middle;\n",
       "    }\n",
       "\n",
       "    .dataframe tbody tr th {\n",
       "        vertical-align: top;\n",
       "    }\n",
       "\n",
       "    .dataframe thead th {\n",
       "        text-align: right;\n",
       "    }\n",
       "</style>\n",
       "<table border=\"1\" class=\"dataframe\">\n",
       "  <thead>\n",
       "    <tr style=\"text-align: right;\">\n",
       "      <th></th>\n",
       "      <th>france</th>\n",
       "      <th>germany</th>\n",
       "    </tr>\n",
       "  </thead>\n",
       "  <tbody>\n",
       "    <tr>\n",
       "      <th>2000</th>\n",
       "      <td>59.0</td>\n",
       "      <td>NaN</td>\n",
       "    </tr>\n",
       "    <tr>\n",
       "      <th>1998</th>\n",
       "      <td>57.0</td>\n",
       "      <td>NaN</td>\n",
       "    </tr>\n",
       "    <tr>\n",
       "      <th>2001</th>\n",
       "      <td>NaN</td>\n",
       "      <td>80.0</td>\n",
       "    </tr>\n",
       "  </tbody>\n",
       "</table>\n",
       "</div>"
      ],
      "text/plain": [
       "      france  germany\n",
       "2000    59.0      NaN\n",
       "1998    57.0      NaN\n",
       "2001     NaN     80.0"
      ]
     },
     "execution_count": 65,
     "metadata": {},
     "output_type": "execute_result"
    }
   ],
   "source": [
    "populations.rename(columns={\"spain\":\"germany\"})# 2o metodo: Rinominare colonne specifiche"
   ]
  },
  {
   "cell_type": "code",
   "execution_count": 67,
   "id": "f1134c06-123b-4436-93cb-d935c1a8b131",
   "metadata": {},
   "outputs": [
    {
     "data": {
      "text/html": [
       "<div>\n",
       "<style scoped>\n",
       "    .dataframe tbody tr th:only-of-type {\n",
       "        vertical-align: middle;\n",
       "    }\n",
       "\n",
       "    .dataframe tbody tr th {\n",
       "        vertical-align: top;\n",
       "    }\n",
       "\n",
       "    .dataframe thead th {\n",
       "        text-align: right;\n",
       "    }\n",
       "</style>\n",
       "<table border=\"1\" class=\"dataframe\">\n",
       "  <thead>\n",
       "    <tr style=\"text-align: right;\">\n",
       "      <th></th>\n",
       "      <th>FRANCE_col</th>\n",
       "      <th>SPAIN_col</th>\n",
       "    </tr>\n",
       "  </thead>\n",
       "  <tbody>\n",
       "    <tr>\n",
       "      <th>2000</th>\n",
       "      <td>59.0</td>\n",
       "      <td>NaN</td>\n",
       "    </tr>\n",
       "    <tr>\n",
       "      <th>1998</th>\n",
       "      <td>57.0</td>\n",
       "      <td>NaN</td>\n",
       "    </tr>\n",
       "    <tr>\n",
       "      <th>2001</th>\n",
       "      <td>NaN</td>\n",
       "      <td>80.0</td>\n",
       "    </tr>\n",
       "  </tbody>\n",
       "</table>\n",
       "</div>"
      ],
      "text/plain": [
       "      FRANCE_col  SPAIN_col\n",
       "2000        59.0        NaN\n",
       "1998        57.0        NaN\n",
       "2001         NaN       80.0"
      ]
     },
     "execution_count": 67,
     "metadata": {},
     "output_type": "execute_result"
    }
   ],
   "source": [
    "populations = populations.rename(columns=lambda x: x.upper() + '_col')\n",
    "populations"
   ]
  },
  {
   "cell_type": "code",
   "execution_count": 68,
   "id": "159de043-b68f-42d1-81c7-92dfddabe8ce",
   "metadata": {},
   "outputs": [
    {
     "data": {
      "text/plain": [
       "FRANCE_col    float64\n",
       "SPAIN_col     float64\n",
       "dtype: object"
      ]
     },
     "execution_count": 68,
     "metadata": {},
     "output_type": "execute_result"
    }
   ],
   "source": [
    "populations.dtypes"
   ]
  },
  {
   "cell_type": "code",
   "execution_count": 88,
   "id": "ddd17846-e928-4e4d-8220-352f5d9e29b2",
   "metadata": {},
   "outputs": [
    {
     "data": {
      "text/plain": [
       "59.0"
      ]
     },
     "execution_count": 88,
     "metadata": {},
     "output_type": "execute_result"
    }
   ],
   "source": [
    "#accedere a un elemento:\n",
    "populations.at[2000,\"FRANCE_col\"]"
   ]
  },
  {
   "cell_type": "code",
   "execution_count": 136,
   "id": "e44eeb1f-3030-4cd6-8dde-807d43b8dd5f",
   "metadata": {},
   "outputs": [
    {
     "data": {
      "text/html": [
       "<div>\n",
       "<style scoped>\n",
       "    .dataframe tbody tr th:only-of-type {\n",
       "        vertical-align: middle;\n",
       "    }\n",
       "\n",
       "    .dataframe tbody tr th {\n",
       "        vertical-align: top;\n",
       "    }\n",
       "\n",
       "    .dataframe thead th {\n",
       "        text-align: right;\n",
       "    }\n",
       "</style>\n",
       "<table border=\"1\" class=\"dataframe\">\n",
       "  <thead>\n",
       "    <tr style=\"text-align: right;\">\n",
       "      <th></th>\n",
       "      <th>FRANCE_col</th>\n",
       "      <th>SPAIN_col</th>\n",
       "    </tr>\n",
       "  </thead>\n",
       "  <tbody>\n",
       "    <tr>\n",
       "      <th>1998</th>\n",
       "      <td>57.0</td>\n",
       "      <td>NaN</td>\n",
       "    </tr>\n",
       "    <tr>\n",
       "      <th>2001</th>\n",
       "      <td>NaN</td>\n",
       "      <td>80.0</td>\n",
       "    </tr>\n",
       "  </tbody>\n",
       "</table>\n",
       "</div>"
      ],
      "text/plain": [
       "      FRANCE_col  SPAIN_col\n",
       "1998        57.0        NaN\n",
       "2001         NaN       80.0"
      ]
     },
     "execution_count": 136,
     "metadata": {},
     "output_type": "execute_result"
    }
   ],
   "source": [
    "#accedere a una o piu righe:\n",
    "populations.iloc[1:]"
   ]
  },
  {
   "cell_type": "code",
   "execution_count": 139,
   "id": "8cdce54f-3178-408f-ad49-c8ae6b530d93",
   "metadata": {},
   "outputs": [
    {
     "data": {
      "text/html": [
       "<div>\n",
       "<style scoped>\n",
       "    .dataframe tbody tr th:only-of-type {\n",
       "        vertical-align: middle;\n",
       "    }\n",
       "\n",
       "    .dataframe tbody tr th {\n",
       "        vertical-align: top;\n",
       "    }\n",
       "\n",
       "    .dataframe thead th {\n",
       "        text-align: right;\n",
       "    }\n",
       "</style>\n",
       "<table border=\"1\" class=\"dataframe\">\n",
       "  <thead>\n",
       "    <tr style=\"text-align: right;\">\n",
       "      <th></th>\n",
       "      <th>FRANCE_col</th>\n",
       "      <th>SPAIN_col</th>\n",
       "    </tr>\n",
       "  </thead>\n",
       "  <tbody>\n",
       "    <tr>\n",
       "      <th>2000</th>\n",
       "      <td>59.0</td>\n",
       "      <td>NaN</td>\n",
       "    </tr>\n",
       "    <tr>\n",
       "      <th>1998</th>\n",
       "      <td>57.0</td>\n",
       "      <td>NaN</td>\n",
       "    </tr>\n",
       "    <tr>\n",
       "      <th>2001</th>\n",
       "      <td>NaN</td>\n",
       "      <td>80.0</td>\n",
       "    </tr>\n",
       "  </tbody>\n",
       "</table>\n",
       "</div>"
      ],
      "text/plain": [
       "      FRANCE_col  SPAIN_col\n",
       "2000        59.0        NaN\n",
       "1998        57.0        NaN\n",
       "2001         NaN       80.0"
      ]
     },
     "execution_count": 139,
     "metadata": {},
     "output_type": "execute_result"
    }
   ],
   "source": [
    "#accedeere a una o piu colonne\n",
    "populations[[\"FRANCE_col\",\"SPAIN_col\"]]"
   ]
  },
  {
   "cell_type": "code",
   "execution_count": 142,
   "id": "5aa1866a-5e7d-4be0-a899-c5820e0df03a",
   "metadata": {},
   "outputs": [
    {
     "data": {
      "text/html": [
       "<div>\n",
       "<style scoped>\n",
       "    .dataframe tbody tr th:only-of-type {\n",
       "        vertical-align: middle;\n",
       "    }\n",
       "\n",
       "    .dataframe tbody tr th {\n",
       "        vertical-align: top;\n",
       "    }\n",
       "\n",
       "    .dataframe thead th {\n",
       "        text-align: right;\n",
       "    }\n",
       "</style>\n",
       "<table border=\"1\" class=\"dataframe\">\n",
       "  <thead>\n",
       "    <tr style=\"text-align: right;\">\n",
       "      <th></th>\n",
       "      <th>FRANCE_col</th>\n",
       "      <th>SPAIN_col</th>\n",
       "    </tr>\n",
       "  </thead>\n",
       "  <tbody>\n",
       "    <tr>\n",
       "      <th>2000</th>\n",
       "      <td>59.0</td>\n",
       "      <td>NaN</td>\n",
       "    </tr>\n",
       "    <tr>\n",
       "      <th>2001</th>\n",
       "      <td>NaN</td>\n",
       "      <td>80.0</td>\n",
       "    </tr>\n",
       "  </tbody>\n",
       "</table>\n",
       "</div>"
      ],
      "text/plain": [
       "      FRANCE_col  SPAIN_col\n",
       "2000        59.0        NaN\n",
       "2001         NaN       80.0"
      ]
     },
     "execution_count": 142,
     "metadata": {},
     "output_type": "execute_result"
    }
   ],
   "source": [
    "#metodo loc\n",
    "populations.loc[[2000,2001],:]"
   ]
  },
  {
   "cell_type": "code",
   "execution_count": 145,
   "id": "7dd416e5-ba81-4a2f-8f38-bba71eea3315",
   "metadata": {},
   "outputs": [
    {
     "data": {
      "text/html": [
       "<div>\n",
       "<style scoped>\n",
       "    .dataframe tbody tr th:only-of-type {\n",
       "        vertical-align: middle;\n",
       "    }\n",
       "\n",
       "    .dataframe tbody tr th {\n",
       "        vertical-align: top;\n",
       "    }\n",
       "\n",
       "    .dataframe thead th {\n",
       "        text-align: right;\n",
       "    }\n",
       "</style>\n",
       "<table border=\"1\" class=\"dataframe\">\n",
       "  <thead>\n",
       "    <tr style=\"text-align: right;\">\n",
       "      <th></th>\n",
       "      <th>FRANCE_col</th>\n",
       "      <th>SPAIN_col</th>\n",
       "    </tr>\n",
       "  </thead>\n",
       "  <tbody>\n",
       "    <tr>\n",
       "      <th>1998</th>\n",
       "      <td>57.0</td>\n",
       "      <td>NaN</td>\n",
       "    </tr>\n",
       "    <tr>\n",
       "      <th>2001</th>\n",
       "      <td>NaN</td>\n",
       "      <td>80.0</td>\n",
       "    </tr>\n",
       "  </tbody>\n",
       "</table>\n",
       "</div>"
      ],
      "text/plain": [
       "      FRANCE_col  SPAIN_col\n",
       "1998        57.0        NaN\n",
       "2001         NaN       80.0"
      ]
     },
     "execution_count": 145,
     "metadata": {},
     "output_type": "execute_result"
    }
   ],
   "source": [
    "#metodo iloc\n",
    "populations.iloc[1:3,:]"
   ]
  },
  {
   "cell_type": "code",
   "execution_count": 115,
   "id": "4ad0ffcc-3758-425a-ad23-63c33f894a59",
   "metadata": {},
   "outputs": [
    {
     "data": {
      "text/plain": [
       "FRANCE_col    58.0\n",
       "SPAIN_col     80.0\n",
       "dtype: float64"
      ]
     },
     "execution_count": 115,
     "metadata": {},
     "output_type": "execute_result"
    }
   ],
   "source": [
    "populations.mean() # notiamo che non tiene conto dei valori Nan"
   ]
  },
  {
   "cell_type": "code",
   "execution_count": 119,
   "id": "af11be22-4a9a-441b-add7-8876530aa17b",
   "metadata": {},
   "outputs": [
    {
     "data": {
      "text/html": [
       "<div>\n",
       "<style scoped>\n",
       "    .dataframe tbody tr th:only-of-type {\n",
       "        vertical-align: middle;\n",
       "    }\n",
       "\n",
       "    .dataframe tbody tr th {\n",
       "        vertical-align: top;\n",
       "    }\n",
       "\n",
       "    .dataframe thead th {\n",
       "        text-align: right;\n",
       "    }\n",
       "</style>\n",
       "<table border=\"1\" class=\"dataframe\">\n",
       "  <thead>\n",
       "    <tr style=\"text-align: right;\">\n",
       "      <th></th>\n",
       "      <th>FRANCE_col</th>\n",
       "      <th>SPAIN_col</th>\n",
       "    </tr>\n",
       "  </thead>\n",
       "  <tbody>\n",
       "    <tr>\n",
       "      <th>2000</th>\n",
       "      <td>59.0</td>\n",
       "      <td>1.0</td>\n",
       "    </tr>\n",
       "    <tr>\n",
       "      <th>1998</th>\n",
       "      <td>57.0</td>\n",
       "      <td>1.0</td>\n",
       "    </tr>\n",
       "    <tr>\n",
       "      <th>2001</th>\n",
       "      <td>1.0</td>\n",
       "      <td>80.0</td>\n",
       "    </tr>\n",
       "  </tbody>\n",
       "</table>\n",
       "</div>"
      ],
      "text/plain": [
       "      FRANCE_col  SPAIN_col\n",
       "2000        59.0        1.0\n",
       "1998        57.0        1.0\n",
       "2001         1.0       80.0"
      ]
     },
     "execution_count": 119,
     "metadata": {},
     "output_type": "execute_result"
    }
   ],
   "source": [
    "populations.fillna(1)"
   ]
  },
  {
   "cell_type": "code",
   "execution_count": 121,
   "id": "494f5196-cb15-41d2-8ec8-42d97b1ce14d",
   "metadata": {},
   "outputs": [
    {
     "data": {
      "text/plain": [
       "2000  FRANCE_col    59.0\n",
       "1998  FRANCE_col    57.0\n",
       "2001  SPAIN_col     80.0\n",
       "dtype: float64"
      ]
     },
     "execution_count": 121,
     "metadata": {},
     "output_type": "execute_result"
    }
   ],
   "source": [
    "obj = populations.stack() # cosa ritorna?\n",
    "obj"
   ]
  },
  {
   "cell_type": "code",
   "execution_count": 122,
   "id": "92bb10bd-fc1d-4b6e-bbd3-3721aad04c73",
   "metadata": {},
   "outputs": [
    {
     "data": {
      "text/plain": [
       "[(2000, 'FRANCE_col'), (1998, 'FRANCE_col'), (2001, 'SPAIN_col')]"
      ]
     },
     "execution_count": 122,
     "metadata": {},
     "output_type": "execute_result"
    }
   ],
   "source": [
    "list(obj.index)"
   ]
  },
  {
   "cell_type": "markdown",
   "id": "2b6c2558-dc10-48b5-8389-dd4018aaa119",
   "metadata": {},
   "source": [
    "### In generale possiamo passare molte cose ad un dataframe per l'inizializzazione:\n",
    "- 2D array\n",
    "- dizionario di array, liste o tuple\n",
    "- dizionario di pandas series\n",
    "- Lista di dizionari\n",
    "- lista di liste o di tuple\n",
    "- un dataframe\n",
    "- dizionario di dizioniari"
   ]
  },
  {
   "cell_type": "code",
   "execution_count": 48,
   "id": "19adde04-99ed-49a0-b529-afb7b0c4aafd",
   "metadata": {},
   "outputs": [],
   "source": [
    "arr1 = np.arange(0,10,0.1)\n",
    "arr1 = arr1.reshape(50,2)\n",
    "\n",
    "df_from_arr = pd.DataFrame(arr1)"
   ]
  },
  {
   "cell_type": "code",
   "execution_count": 50,
   "id": "26ca5b17-0042-4a49-bf25-d9257a4dc483",
   "metadata": {},
   "outputs": [
    {
     "data": {
      "text/html": [
       "<div>\n",
       "<style scoped>\n",
       "    .dataframe tbody tr th:only-of-type {\n",
       "        vertical-align: middle;\n",
       "    }\n",
       "\n",
       "    .dataframe tbody tr th {\n",
       "        vertical-align: top;\n",
       "    }\n",
       "\n",
       "    .dataframe thead th {\n",
       "        text-align: right;\n",
       "    }\n",
       "</style>\n",
       "<table border=\"1\" class=\"dataframe\">\n",
       "  <thead>\n",
       "    <tr style=\"text-align: right;\">\n",
       "      <th></th>\n",
       "      <th>0</th>\n",
       "      <th>1</th>\n",
       "    </tr>\n",
       "  </thead>\n",
       "  <tbody>\n",
       "    <tr>\n",
       "      <th>45</th>\n",
       "      <td>9.0</td>\n",
       "      <td>9.1</td>\n",
       "    </tr>\n",
       "    <tr>\n",
       "      <th>46</th>\n",
       "      <td>9.2</td>\n",
       "      <td>9.3</td>\n",
       "    </tr>\n",
       "    <tr>\n",
       "      <th>47</th>\n",
       "      <td>9.4</td>\n",
       "      <td>9.5</td>\n",
       "    </tr>\n",
       "    <tr>\n",
       "      <th>48</th>\n",
       "      <td>9.6</td>\n",
       "      <td>9.7</td>\n",
       "    </tr>\n",
       "    <tr>\n",
       "      <th>49</th>\n",
       "      <td>9.8</td>\n",
       "      <td>9.9</td>\n",
       "    </tr>\n",
       "  </tbody>\n",
       "</table>\n",
       "</div>"
      ],
      "text/plain": [
       "      0    1\n",
       "45  9.0  9.1\n",
       "46  9.2  9.3\n",
       "47  9.4  9.5\n",
       "48  9.6  9.7\n",
       "49  9.8  9.9"
      ]
     },
     "execution_count": 50,
     "metadata": {},
     "output_type": "execute_result"
    }
   ],
   "source": [
    "df_from_arr.tail()"
   ]
  },
  {
   "cell_type": "code",
   "execution_count": 105,
   "id": "a7b40930-0bb3-413f-bda6-8dd585aa8426",
   "metadata": {},
   "outputs": [
    {
     "data": {
      "text/plain": [
       "0    245.0\n",
       "1    250.0\n",
       "dtype: float64"
      ]
     },
     "execution_count": 105,
     "metadata": {},
     "output_type": "execute_result"
    }
   ],
   "source": [
    "#Sommiamo righe o colonne di un df\n",
    "df_from_arr.sum(axis=0) # o axis=1"
   ]
  },
  {
   "cell_type": "code",
   "execution_count": 271,
   "id": "5588bf33-aa89-4d88-8707-9783cd44c44a",
   "metadata": {},
   "outputs": [],
   "source": [
    "### Cosa succede se ho dei valori nan?\n",
    "df_from_arr.loc[len(df_from_arr)] = [np.nan,0,np.nan]"
   ]
  },
  {
   "cell_type": "code",
   "execution_count": 276,
   "id": "50c98007-886c-46fd-ac60-f397dc0d36bb",
   "metadata": {},
   "outputs": [
    {
     "data": {
      "text/plain": [
       "0      7.1\n",
       "1      7.5\n",
       "2      3.9\n",
       "3      4.3\n",
       "4      4.7\n",
       "5      0.0\n",
       "6     11.5\n",
       "7      7.9\n",
       "8      5.3\n",
       "9      7.7\n",
       "10    13.1\n",
       "11     9.5\n",
       "12    10.9\n",
       "13    11.3\n",
       "14    13.7\n",
       "15    12.1\n",
       "16    11.5\n",
       "17     7.9\n",
       "18    15.3\n",
       "19     8.7\n",
       "20    10.1\n",
       "21    12.5\n",
       "22    10.9\n",
       "23    16.3\n",
       "24    11.7\n",
       "25    14.1\n",
       "26    17.5\n",
       "27    13.9\n",
       "28    18.3\n",
       "29    12.7\n",
       "30    16.1\n",
       "31    19.5\n",
       "32    15.9\n",
       "33    22.3\n",
       "34    22.7\n",
       "35    19.1\n",
       "36    15.5\n",
       "37    17.9\n",
       "38    23.3\n",
       "39    16.7\n",
       "40    20.1\n",
       "41    19.5\n",
       "42    19.9\n",
       "43    26.3\n",
       "44    19.7\n",
       "45    21.1\n",
       "46    26.5\n",
       "47    25.9\n",
       "48    21.3\n",
       "49    24.7\n",
       "50     0.0\n",
       "51     0.0\n",
       "52     0.0\n",
       "dtype: float64"
      ]
     },
     "execution_count": 276,
     "metadata": {},
     "output_type": "execute_result"
    }
   ],
   "source": [
    "df_from_arr.sum(axis=1) #, skipna = False"
   ]
  },
  {
   "cell_type": "markdown",
   "id": "f9939d15-68c3-491c-ab22-e4e3141b2509",
   "metadata": {},
   "source": [
    "### Esercizio:\n",
    "\n",
    "Crea un dataframe a partire da un dizionario di 10 pandas series che rappresenti la matrice di Vandermonde (vedi foto) dove gli elementi sono [2.3,12,-7,9,4.3]"
   ]
  },
  {
   "cell_type": "code",
   "execution_count": 71,
   "id": "2bbd7750-8004-469a-a950-e97378f8ea14",
   "metadata": {},
   "outputs": [
    {
     "data": {
      "image/jpeg": "[encoded data removed]",
      "text/plain": [
       "<IPython.core.display.Image object>"
      ]
     },
     "metadata": {},
     "output_type": "display_data"
    }
   ],
   "source": [
    "from IPython.display import Image\n",
    "\n",
    "# Carica un'immagine dal file system\n",
    "display(Image(filename='../data/vander_matrix.jpg'))"
   ]
  },
  {
   "cell_type": "markdown",
   "id": "7a5e6b6b-bda6-4a7c-8a0d-85d8fafb1e48",
   "metadata": {},
   "source": [
    "# Esercizio: Funzionalità Base di Pandas sulla Matrice di Vandermonde\n",
    "\n",
    "## Consegna 1: Selezionare Colonne e Righe Specifiche\n",
    "1. **Seleziona la colonna `col_2` del DataFrame e visualizzala.**\n",
    "2. **Seleziona le righe dalla seconda alla quarta (incluse) del DataFrame e visualizzale.**\n",
    "\n",
    "## Consegna 2: Modificare il DataFrame\n",
    "1. **Aggiungi una nuova colonna al DataFrame chiamata `sum` che contenga la somma di tutte le colonne per ciascuna riga.**\n",
    "2. **Sostituisci tutti i valori negativi del DataFrame con `NaN` (Not a Number).**\n",
    "\n",
    "## Consegna 3: Operazioni di Filtraggio e Ordinamento\n",
    "1. **Filtra il DataFrame per mostrare solo le righe in cui la colonna `col_4` è maggiore di 1000.**\n",
    "2. **Ordina il DataFrame in base ai valori della colonna `col_1` in ordine decrescente.**\n",
    "\n",
    "## Consegna 4: Analisi Statistica\n",
    "1. **Calcola la media, il minimo e il massimo dei valori di ciascuna colonna del DataFrame.**\n",
    "2. **Dopo aver modificato 5 valori casuali del DataFrame in Nan, Visualizza il numero di valori non `NaN` per ciascuna colonna.**\n",
    "3. **Riempi i valori nan con zero un metodo specifico dei pandas df**\n",
    "\n",
    "## Consegna 5: Salvataggio e Caricamento del DataFrame\n",
    "1. **Salva il DataFrame in un file CSV chiamato `vandermonde.csv`.**\n",
    "2. **Carica il DataFrame dal file `vandermonde.csv` in un nuovo DataFrame e visualizzalo.**ù\n"
   ]
  },
  {
   "cell_type": "markdown",
   "id": "78771db3-9d1d-4e46-b593-ca1718206881",
   "metadata": {},
   "source": []
  },
  {
   "cell_type": "code",
   "execution_count": null,
   "id": "adc528ee-31da-4875-82ac-c0d9606519e5",
   "metadata": {},
   "outputs": [],
   "source": []
  },
  {
   "cell_type": "code",
   "execution_count": 151,
   "id": "ab83dea6-0da0-4395-9024-6ea05cacb506",
   "metadata": {},
   "outputs": [],
   "source": [
    "df_from_arr[2] = np.random.randint(1,10,50)"
   ]
  },
  {
   "cell_type": "code",
   "execution_count": 173,
   "id": "6b6c125a-b2bf-42c8-8aad-f601d69bb6cd",
   "metadata": {},
   "outputs": [
    {
     "data": {
      "text/html": [
       "<div>\n",
       "<style scoped>\n",
       "    .dataframe tbody tr th:only-of-type {\n",
       "        vertical-align: middle;\n",
       "    }\n",
       "\n",
       "    .dataframe tbody tr th {\n",
       "        vertical-align: top;\n",
       "    }\n",
       "\n",
       "    .dataframe thead th {\n",
       "        text-align: right;\n",
       "    }\n",
       "</style>\n",
       "<table border=\"1\" class=\"dataframe\">\n",
       "  <thead>\n",
       "    <tr style=\"text-align: right;\">\n",
       "      <th></th>\n",
       "      <th>0</th>\n",
       "      <th>1</th>\n",
       "      <th>2</th>\n",
       "    </tr>\n",
       "  </thead>\n",
       "  <tbody>\n",
       "    <tr>\n",
       "      <th>0</th>\n",
       "      <td>0.0</td>\n",
       "      <td>0.1</td>\n",
       "      <td>7</td>\n",
       "    </tr>\n",
       "    <tr>\n",
       "      <th>1</th>\n",
       "      <td>0.2</td>\n",
       "      <td>0.3</td>\n",
       "      <td>7</td>\n",
       "    </tr>\n",
       "    <tr>\n",
       "      <th>2</th>\n",
       "      <td>0.4</td>\n",
       "      <td>0.5</td>\n",
       "      <td>3</td>\n",
       "    </tr>\n",
       "    <tr>\n",
       "      <th>3</th>\n",
       "      <td>0.6</td>\n",
       "      <td>0.7</td>\n",
       "      <td>3</td>\n",
       "    </tr>\n",
       "    <tr>\n",
       "      <th>4</th>\n",
       "      <td>0.8</td>\n",
       "      <td>0.9</td>\n",
       "      <td>3</td>\n",
       "    </tr>\n",
       "    <tr>\n",
       "      <th>5</th>\n",
       "      <td>1.0</td>\n",
       "      <td>1.1</td>\n",
       "      <td>7</td>\n",
       "    </tr>\n",
       "    <tr>\n",
       "      <th>6</th>\n",
       "      <td>1.2</td>\n",
       "      <td>1.3</td>\n",
       "      <td>9</td>\n",
       "    </tr>\n",
       "    <tr>\n",
       "      <th>7</th>\n",
       "      <td>1.4</td>\n",
       "      <td>1.5</td>\n",
       "      <td>5</td>\n",
       "    </tr>\n",
       "    <tr>\n",
       "      <th>8</th>\n",
       "      <td>1.6</td>\n",
       "      <td>1.7</td>\n",
       "      <td>2</td>\n",
       "    </tr>\n",
       "    <tr>\n",
       "      <th>9</th>\n",
       "      <td>1.8</td>\n",
       "      <td>1.9</td>\n",
       "      <td>4</td>\n",
       "    </tr>\n",
       "    <tr>\n",
       "      <th>10</th>\n",
       "      <td>2.0</td>\n",
       "      <td>2.1</td>\n",
       "      <td>9</td>\n",
       "    </tr>\n",
       "    <tr>\n",
       "      <th>11</th>\n",
       "      <td>2.2</td>\n",
       "      <td>2.3</td>\n",
       "      <td>5</td>\n",
       "    </tr>\n",
       "    <tr>\n",
       "      <th>12</th>\n",
       "      <td>2.4</td>\n",
       "      <td>2.5</td>\n",
       "      <td>6</td>\n",
       "    </tr>\n",
       "    <tr>\n",
       "      <th>13</th>\n",
       "      <td>2.6</td>\n",
       "      <td>2.7</td>\n",
       "      <td>6</td>\n",
       "    </tr>\n",
       "    <tr>\n",
       "      <th>14</th>\n",
       "      <td>2.8</td>\n",
       "      <td>2.9</td>\n",
       "      <td>8</td>\n",
       "    </tr>\n",
       "    <tr>\n",
       "      <th>15</th>\n",
       "      <td>3.0</td>\n",
       "      <td>3.1</td>\n",
       "      <td>6</td>\n",
       "    </tr>\n",
       "    <tr>\n",
       "      <th>16</th>\n",
       "      <td>3.2</td>\n",
       "      <td>3.3</td>\n",
       "      <td>5</td>\n",
       "    </tr>\n",
       "    <tr>\n",
       "      <th>17</th>\n",
       "      <td>3.4</td>\n",
       "      <td>3.5</td>\n",
       "      <td>1</td>\n",
       "    </tr>\n",
       "    <tr>\n",
       "      <th>18</th>\n",
       "      <td>3.6</td>\n",
       "      <td>3.7</td>\n",
       "      <td>8</td>\n",
       "    </tr>\n",
       "    <tr>\n",
       "      <th>19</th>\n",
       "      <td>3.8</td>\n",
       "      <td>3.9</td>\n",
       "      <td>1</td>\n",
       "    </tr>\n",
       "    <tr>\n",
       "      <th>20</th>\n",
       "      <td>4.0</td>\n",
       "      <td>4.1</td>\n",
       "      <td>2</td>\n",
       "    </tr>\n",
       "    <tr>\n",
       "      <th>21</th>\n",
       "      <td>4.2</td>\n",
       "      <td>4.3</td>\n",
       "      <td>4</td>\n",
       "    </tr>\n",
       "    <tr>\n",
       "      <th>22</th>\n",
       "      <td>4.4</td>\n",
       "      <td>4.5</td>\n",
       "      <td>2</td>\n",
       "    </tr>\n",
       "    <tr>\n",
       "      <th>23</th>\n",
       "      <td>4.6</td>\n",
       "      <td>4.7</td>\n",
       "      <td>7</td>\n",
       "    </tr>\n",
       "    <tr>\n",
       "      <th>24</th>\n",
       "      <td>4.8</td>\n",
       "      <td>4.9</td>\n",
       "      <td>2</td>\n",
       "    </tr>\n",
       "    <tr>\n",
       "      <th>25</th>\n",
       "      <td>5.0</td>\n",
       "      <td>5.1</td>\n",
       "      <td>4</td>\n",
       "    </tr>\n",
       "    <tr>\n",
       "      <th>26</th>\n",
       "      <td>5.2</td>\n",
       "      <td>5.3</td>\n",
       "      <td>7</td>\n",
       "    </tr>\n",
       "    <tr>\n",
       "      <th>27</th>\n",
       "      <td>5.4</td>\n",
       "      <td>5.5</td>\n",
       "      <td>3</td>\n",
       "    </tr>\n",
       "    <tr>\n",
       "      <th>28</th>\n",
       "      <td>5.6</td>\n",
       "      <td>5.7</td>\n",
       "      <td>7</td>\n",
       "    </tr>\n",
       "    <tr>\n",
       "      <th>29</th>\n",
       "      <td>5.8</td>\n",
       "      <td>5.9</td>\n",
       "      <td>1</td>\n",
       "    </tr>\n",
       "    <tr>\n",
       "      <th>30</th>\n",
       "      <td>6.0</td>\n",
       "      <td>6.1</td>\n",
       "      <td>4</td>\n",
       "    </tr>\n",
       "    <tr>\n",
       "      <th>31</th>\n",
       "      <td>6.2</td>\n",
       "      <td>6.3</td>\n",
       "      <td>7</td>\n",
       "    </tr>\n",
       "    <tr>\n",
       "      <th>32</th>\n",
       "      <td>6.4</td>\n",
       "      <td>6.5</td>\n",
       "      <td>3</td>\n",
       "    </tr>\n",
       "    <tr>\n",
       "      <th>33</th>\n",
       "      <td>6.6</td>\n",
       "      <td>6.7</td>\n",
       "      <td>9</td>\n",
       "    </tr>\n",
       "    <tr>\n",
       "      <th>34</th>\n",
       "      <td>6.8</td>\n",
       "      <td>6.9</td>\n",
       "      <td>9</td>\n",
       "    </tr>\n",
       "    <tr>\n",
       "      <th>35</th>\n",
       "      <td>7.0</td>\n",
       "      <td>7.1</td>\n",
       "      <td>5</td>\n",
       "    </tr>\n",
       "    <tr>\n",
       "      <th>36</th>\n",
       "      <td>7.2</td>\n",
       "      <td>7.3</td>\n",
       "      <td>1</td>\n",
       "    </tr>\n",
       "    <tr>\n",
       "      <th>37</th>\n",
       "      <td>7.4</td>\n",
       "      <td>7.5</td>\n",
       "      <td>3</td>\n",
       "    </tr>\n",
       "    <tr>\n",
       "      <th>38</th>\n",
       "      <td>7.6</td>\n",
       "      <td>7.7</td>\n",
       "      <td>8</td>\n",
       "    </tr>\n",
       "    <tr>\n",
       "      <th>39</th>\n",
       "      <td>7.8</td>\n",
       "      <td>7.9</td>\n",
       "      <td>1</td>\n",
       "    </tr>\n",
       "    <tr>\n",
       "      <th>40</th>\n",
       "      <td>8.0</td>\n",
       "      <td>8.1</td>\n",
       "      <td>4</td>\n",
       "    </tr>\n",
       "    <tr>\n",
       "      <th>41</th>\n",
       "      <td>8.2</td>\n",
       "      <td>8.3</td>\n",
       "      <td>3</td>\n",
       "    </tr>\n",
       "    <tr>\n",
       "      <th>42</th>\n",
       "      <td>8.4</td>\n",
       "      <td>8.5</td>\n",
       "      <td>3</td>\n",
       "    </tr>\n",
       "    <tr>\n",
       "      <th>43</th>\n",
       "      <td>8.6</td>\n",
       "      <td>8.7</td>\n",
       "      <td>9</td>\n",
       "    </tr>\n",
       "    <tr>\n",
       "      <th>44</th>\n",
       "      <td>8.8</td>\n",
       "      <td>8.9</td>\n",
       "      <td>2</td>\n",
       "    </tr>\n",
       "    <tr>\n",
       "      <th>45</th>\n",
       "      <td>9.0</td>\n",
       "      <td>9.1</td>\n",
       "      <td>3</td>\n",
       "    </tr>\n",
       "    <tr>\n",
       "      <th>46</th>\n",
       "      <td>9.2</td>\n",
       "      <td>9.3</td>\n",
       "      <td>8</td>\n",
       "    </tr>\n",
       "    <tr>\n",
       "      <th>47</th>\n",
       "      <td>9.4</td>\n",
       "      <td>9.5</td>\n",
       "      <td>7</td>\n",
       "    </tr>\n",
       "    <tr>\n",
       "      <th>48</th>\n",
       "      <td>9.6</td>\n",
       "      <td>9.7</td>\n",
       "      <td>2</td>\n",
       "    </tr>\n",
       "    <tr>\n",
       "      <th>49</th>\n",
       "      <td>9.8</td>\n",
       "      <td>9.9</td>\n",
       "      <td>5</td>\n",
       "    </tr>\n",
       "  </tbody>\n",
       "</table>\n",
       "</div>"
      ],
      "text/plain": [
       "      0    1  2\n",
       "0   0.0  0.1  7\n",
       "1   0.2  0.3  7\n",
       "2   0.4  0.5  3\n",
       "3   0.6  0.7  3\n",
       "4   0.8  0.9  3\n",
       "5   1.0  1.1  7\n",
       "6   1.2  1.3  9\n",
       "7   1.4  1.5  5\n",
       "8   1.6  1.7  2\n",
       "9   1.8  1.9  4\n",
       "10  2.0  2.1  9\n",
       "11  2.2  2.3  5\n",
       "12  2.4  2.5  6\n",
       "13  2.6  2.7  6\n",
       "14  2.8  2.9  8\n",
       "15  3.0  3.1  6\n",
       "16  3.2  3.3  5\n",
       "17  3.4  3.5  1\n",
       "18  3.6  3.7  8\n",
       "19  3.8  3.9  1\n",
       "20  4.0  4.1  2\n",
       "21  4.2  4.3  4\n",
       "22  4.4  4.5  2\n",
       "23  4.6  4.7  7\n",
       "24  4.8  4.9  2\n",
       "25  5.0  5.1  4\n",
       "26  5.2  5.3  7\n",
       "27  5.4  5.5  3\n",
       "28  5.6  5.7  7\n",
       "29  5.8  5.9  1\n",
       "30  6.0  6.1  4\n",
       "31  6.2  6.3  7\n",
       "32  6.4  6.5  3\n",
       "33  6.6  6.7  9\n",
       "34  6.8  6.9  9\n",
       "35  7.0  7.1  5\n",
       "36  7.2  7.3  1\n",
       "37  7.4  7.5  3\n",
       "38  7.6  7.7  8\n",
       "39  7.8  7.9  1\n",
       "40  8.0  8.1  4\n",
       "41  8.2  8.3  3\n",
       "42  8.4  8.5  3\n",
       "43  8.6  8.7  9\n",
       "44  8.8  8.9  2\n",
       "45  9.0  9.1  3\n",
       "46  9.2  9.3  8\n",
       "47  9.4  9.5  7\n",
       "48  9.6  9.7  2\n",
       "49  9.8  9.9  5"
      ]
     },
     "execution_count": 173,
     "metadata": {},
     "output_type": "execute_result"
    }
   ],
   "source": [
    "df_from_arr"
   ]
  },
  {
   "cell_type": "code",
   "execution_count": 171,
   "id": "01fe3b12-597f-413b-bbcb-eb6167f44b82",
   "metadata": {},
   "outputs": [
    {
     "data": {
      "text/plain": [
       "True"
      ]
     },
     "execution_count": 171,
     "metadata": {},
     "output_type": "execute_result"
    }
   ],
   "source": [
    "#valutare l'appartenenza\n",
    "49 in df_from_arr.index"
   ]
  },
  {
   "cell_type": "code",
   "execution_count": 172,
   "id": "1a1b107f-af05-4dcb-b8ca-5ecb5490d2fb",
   "metadata": {},
   "outputs": [
    {
     "data": {
      "text/plain": [
       "False"
      ]
     },
     "execution_count": 172,
     "metadata": {},
     "output_type": "execute_result"
    }
   ],
   "source": [
    "49 in df_from_arr.columns"
   ]
  },
  {
   "cell_type": "code",
   "execution_count": 175,
   "id": "4809f1f4-2895-4924-8a18-452ffddbc2f3",
   "metadata": {},
   "outputs": [
    {
     "data": {
      "text/html": [
       "<div>\n",
       "<style scoped>\n",
       "    .dataframe tbody tr th:only-of-type {\n",
       "        vertical-align: middle;\n",
       "    }\n",
       "\n",
       "    .dataframe tbody tr th {\n",
       "        vertical-align: top;\n",
       "    }\n",
       "\n",
       "    .dataframe thead th {\n",
       "        text-align: right;\n",
       "    }\n",
       "</style>\n",
       "<table border=\"1\" class=\"dataframe\">\n",
       "  <thead>\n",
       "    <tr style=\"text-align: right;\">\n",
       "      <th></th>\n",
       "      <th>0</th>\n",
       "      <th>1</th>\n",
       "      <th>2</th>\n",
       "    </tr>\n",
       "  </thead>\n",
       "  <tbody>\n",
       "    <tr>\n",
       "      <th>-5</th>\n",
       "      <td>NaN</td>\n",
       "      <td>NaN</td>\n",
       "      <td>NaN</td>\n",
       "    </tr>\n",
       "    <tr>\n",
       "      <th>-4</th>\n",
       "      <td>NaN</td>\n",
       "      <td>NaN</td>\n",
       "      <td>NaN</td>\n",
       "    </tr>\n",
       "    <tr>\n",
       "      <th>-3</th>\n",
       "      <td>NaN</td>\n",
       "      <td>NaN</td>\n",
       "      <td>NaN</td>\n",
       "    </tr>\n",
       "    <tr>\n",
       "      <th>-2</th>\n",
       "      <td>NaN</td>\n",
       "      <td>NaN</td>\n",
       "      <td>NaN</td>\n",
       "    </tr>\n",
       "    <tr>\n",
       "      <th>-1</th>\n",
       "      <td>NaN</td>\n",
       "      <td>NaN</td>\n",
       "      <td>NaN</td>\n",
       "    </tr>\n",
       "    <tr>\n",
       "      <th>0</th>\n",
       "      <td>0.0</td>\n",
       "      <td>0.1</td>\n",
       "      <td>7.0</td>\n",
       "    </tr>\n",
       "    <tr>\n",
       "      <th>1</th>\n",
       "      <td>0.2</td>\n",
       "      <td>0.3</td>\n",
       "      <td>7.0</td>\n",
       "    </tr>\n",
       "    <tr>\n",
       "      <th>2</th>\n",
       "      <td>0.4</td>\n",
       "      <td>0.5</td>\n",
       "      <td>3.0</td>\n",
       "    </tr>\n",
       "    <tr>\n",
       "      <th>3</th>\n",
       "      <td>0.6</td>\n",
       "      <td>0.7</td>\n",
       "      <td>3.0</td>\n",
       "    </tr>\n",
       "    <tr>\n",
       "      <th>4</th>\n",
       "      <td>0.8</td>\n",
       "      <td>0.9</td>\n",
       "      <td>3.0</td>\n",
       "    </tr>\n",
       "    <tr>\n",
       "      <th>5</th>\n",
       "      <td>1.0</td>\n",
       "      <td>1.1</td>\n",
       "      <td>7.0</td>\n",
       "    </tr>\n",
       "    <tr>\n",
       "      <th>6</th>\n",
       "      <td>1.2</td>\n",
       "      <td>1.3</td>\n",
       "      <td>9.0</td>\n",
       "    </tr>\n",
       "    <tr>\n",
       "      <th>7</th>\n",
       "      <td>1.4</td>\n",
       "      <td>1.5</td>\n",
       "      <td>5.0</td>\n",
       "    </tr>\n",
       "    <tr>\n",
       "      <th>8</th>\n",
       "      <td>1.6</td>\n",
       "      <td>1.7</td>\n",
       "      <td>2.0</td>\n",
       "    </tr>\n",
       "    <tr>\n",
       "      <th>9</th>\n",
       "      <td>1.8</td>\n",
       "      <td>1.9</td>\n",
       "      <td>4.0</td>\n",
       "    </tr>\n",
       "    <tr>\n",
       "      <th>10</th>\n",
       "      <td>2.0</td>\n",
       "      <td>2.1</td>\n",
       "      <td>9.0</td>\n",
       "    </tr>\n",
       "    <tr>\n",
       "      <th>11</th>\n",
       "      <td>2.2</td>\n",
       "      <td>2.3</td>\n",
       "      <td>5.0</td>\n",
       "    </tr>\n",
       "    <tr>\n",
       "      <th>12</th>\n",
       "      <td>2.4</td>\n",
       "      <td>2.5</td>\n",
       "      <td>6.0</td>\n",
       "    </tr>\n",
       "    <tr>\n",
       "      <th>13</th>\n",
       "      <td>2.6</td>\n",
       "      <td>2.7</td>\n",
       "      <td>6.0</td>\n",
       "    </tr>\n",
       "    <tr>\n",
       "      <th>14</th>\n",
       "      <td>2.8</td>\n",
       "      <td>2.9</td>\n",
       "      <td>8.0</td>\n",
       "    </tr>\n",
       "    <tr>\n",
       "      <th>15</th>\n",
       "      <td>3.0</td>\n",
       "      <td>3.1</td>\n",
       "      <td>6.0</td>\n",
       "    </tr>\n",
       "    <tr>\n",
       "      <th>16</th>\n",
       "      <td>3.2</td>\n",
       "      <td>3.3</td>\n",
       "      <td>5.0</td>\n",
       "    </tr>\n",
       "    <tr>\n",
       "      <th>17</th>\n",
       "      <td>3.4</td>\n",
       "      <td>3.5</td>\n",
       "      <td>1.0</td>\n",
       "    </tr>\n",
       "    <tr>\n",
       "      <th>18</th>\n",
       "      <td>3.6</td>\n",
       "      <td>3.7</td>\n",
       "      <td>8.0</td>\n",
       "    </tr>\n",
       "    <tr>\n",
       "      <th>19</th>\n",
       "      <td>3.8</td>\n",
       "      <td>3.9</td>\n",
       "      <td>1.0</td>\n",
       "    </tr>\n",
       "    <tr>\n",
       "      <th>20</th>\n",
       "      <td>4.0</td>\n",
       "      <td>4.1</td>\n",
       "      <td>2.0</td>\n",
       "    </tr>\n",
       "    <tr>\n",
       "      <th>21</th>\n",
       "      <td>4.2</td>\n",
       "      <td>4.3</td>\n",
       "      <td>4.0</td>\n",
       "    </tr>\n",
       "    <tr>\n",
       "      <th>22</th>\n",
       "      <td>4.4</td>\n",
       "      <td>4.5</td>\n",
       "      <td>2.0</td>\n",
       "    </tr>\n",
       "    <tr>\n",
       "      <th>23</th>\n",
       "      <td>4.6</td>\n",
       "      <td>4.7</td>\n",
       "      <td>7.0</td>\n",
       "    </tr>\n",
       "    <tr>\n",
       "      <th>24</th>\n",
       "      <td>4.8</td>\n",
       "      <td>4.9</td>\n",
       "      <td>2.0</td>\n",
       "    </tr>\n",
       "    <tr>\n",
       "      <th>25</th>\n",
       "      <td>5.0</td>\n",
       "      <td>5.1</td>\n",
       "      <td>4.0</td>\n",
       "    </tr>\n",
       "    <tr>\n",
       "      <th>26</th>\n",
       "      <td>5.2</td>\n",
       "      <td>5.3</td>\n",
       "      <td>7.0</td>\n",
       "    </tr>\n",
       "    <tr>\n",
       "      <th>27</th>\n",
       "      <td>5.4</td>\n",
       "      <td>5.5</td>\n",
       "      <td>3.0</td>\n",
       "    </tr>\n",
       "    <tr>\n",
       "      <th>28</th>\n",
       "      <td>5.6</td>\n",
       "      <td>5.7</td>\n",
       "      <td>7.0</td>\n",
       "    </tr>\n",
       "    <tr>\n",
       "      <th>29</th>\n",
       "      <td>5.8</td>\n",
       "      <td>5.9</td>\n",
       "      <td>1.0</td>\n",
       "    </tr>\n",
       "    <tr>\n",
       "      <th>30</th>\n",
       "      <td>6.0</td>\n",
       "      <td>6.1</td>\n",
       "      <td>4.0</td>\n",
       "    </tr>\n",
       "    <tr>\n",
       "      <th>31</th>\n",
       "      <td>6.2</td>\n",
       "      <td>6.3</td>\n",
       "      <td>7.0</td>\n",
       "    </tr>\n",
       "    <tr>\n",
       "      <th>32</th>\n",
       "      <td>6.4</td>\n",
       "      <td>6.5</td>\n",
       "      <td>3.0</td>\n",
       "    </tr>\n",
       "    <tr>\n",
       "      <th>33</th>\n",
       "      <td>6.6</td>\n",
       "      <td>6.7</td>\n",
       "      <td>9.0</td>\n",
       "    </tr>\n",
       "    <tr>\n",
       "      <th>34</th>\n",
       "      <td>6.8</td>\n",
       "      <td>6.9</td>\n",
       "      <td>9.0</td>\n",
       "    </tr>\n",
       "    <tr>\n",
       "      <th>35</th>\n",
       "      <td>7.0</td>\n",
       "      <td>7.1</td>\n",
       "      <td>5.0</td>\n",
       "    </tr>\n",
       "    <tr>\n",
       "      <th>36</th>\n",
       "      <td>7.2</td>\n",
       "      <td>7.3</td>\n",
       "      <td>1.0</td>\n",
       "    </tr>\n",
       "    <tr>\n",
       "      <th>37</th>\n",
       "      <td>7.4</td>\n",
       "      <td>7.5</td>\n",
       "      <td>3.0</td>\n",
       "    </tr>\n",
       "    <tr>\n",
       "      <th>38</th>\n",
       "      <td>7.6</td>\n",
       "      <td>7.7</td>\n",
       "      <td>8.0</td>\n",
       "    </tr>\n",
       "    <tr>\n",
       "      <th>39</th>\n",
       "      <td>7.8</td>\n",
       "      <td>7.9</td>\n",
       "      <td>1.0</td>\n",
       "    </tr>\n",
       "    <tr>\n",
       "      <th>40</th>\n",
       "      <td>8.0</td>\n",
       "      <td>8.1</td>\n",
       "      <td>4.0</td>\n",
       "    </tr>\n",
       "    <tr>\n",
       "      <th>41</th>\n",
       "      <td>8.2</td>\n",
       "      <td>8.3</td>\n",
       "      <td>3.0</td>\n",
       "    </tr>\n",
       "    <tr>\n",
       "      <th>42</th>\n",
       "      <td>8.4</td>\n",
       "      <td>8.5</td>\n",
       "      <td>3.0</td>\n",
       "    </tr>\n",
       "    <tr>\n",
       "      <th>43</th>\n",
       "      <td>8.6</td>\n",
       "      <td>8.7</td>\n",
       "      <td>9.0</td>\n",
       "    </tr>\n",
       "    <tr>\n",
       "      <th>44</th>\n",
       "      <td>8.8</td>\n",
       "      <td>8.9</td>\n",
       "      <td>2.0</td>\n",
       "    </tr>\n",
       "    <tr>\n",
       "      <th>45</th>\n",
       "      <td>9.0</td>\n",
       "      <td>9.1</td>\n",
       "      <td>3.0</td>\n",
       "    </tr>\n",
       "    <tr>\n",
       "      <th>46</th>\n",
       "      <td>9.2</td>\n",
       "      <td>9.3</td>\n",
       "      <td>8.0</td>\n",
       "    </tr>\n",
       "    <tr>\n",
       "      <th>47</th>\n",
       "      <td>9.4</td>\n",
       "      <td>9.5</td>\n",
       "      <td>7.0</td>\n",
       "    </tr>\n",
       "    <tr>\n",
       "      <th>48</th>\n",
       "      <td>9.6</td>\n",
       "      <td>9.7</td>\n",
       "      <td>2.0</td>\n",
       "    </tr>\n",
       "    <tr>\n",
       "      <th>49</th>\n",
       "      <td>9.8</td>\n",
       "      <td>9.9</td>\n",
       "      <td>5.0</td>\n",
       "    </tr>\n",
       "  </tbody>\n",
       "</table>\n",
       "</div>"
      ],
      "text/plain": [
       "       0    1    2\n",
       "-5   NaN  NaN  NaN\n",
       "-4   NaN  NaN  NaN\n",
       "-3   NaN  NaN  NaN\n",
       "-2   NaN  NaN  NaN\n",
       "-1   NaN  NaN  NaN\n",
       " 0   0.0  0.1  7.0\n",
       " 1   0.2  0.3  7.0\n",
       " 2   0.4  0.5  3.0\n",
       " 3   0.6  0.7  3.0\n",
       " 4   0.8  0.9  3.0\n",
       " 5   1.0  1.1  7.0\n",
       " 6   1.2  1.3  9.0\n",
       " 7   1.4  1.5  5.0\n",
       " 8   1.6  1.7  2.0\n",
       " 9   1.8  1.9  4.0\n",
       " 10  2.0  2.1  9.0\n",
       " 11  2.2  2.3  5.0\n",
       " 12  2.4  2.5  6.0\n",
       " 13  2.6  2.7  6.0\n",
       " 14  2.8  2.9  8.0\n",
       " 15  3.0  3.1  6.0\n",
       " 16  3.2  3.3  5.0\n",
       " 17  3.4  3.5  1.0\n",
       " 18  3.6  3.7  8.0\n",
       " 19  3.8  3.9  1.0\n",
       " 20  4.0  4.1  2.0\n",
       " 21  4.2  4.3  4.0\n",
       " 22  4.4  4.5  2.0\n",
       " 23  4.6  4.7  7.0\n",
       " 24  4.8  4.9  2.0\n",
       " 25  5.0  5.1  4.0\n",
       " 26  5.2  5.3  7.0\n",
       " 27  5.4  5.5  3.0\n",
       " 28  5.6  5.7  7.0\n",
       " 29  5.8  5.9  1.0\n",
       " 30  6.0  6.1  4.0\n",
       " 31  6.2  6.3  7.0\n",
       " 32  6.4  6.5  3.0\n",
       " 33  6.6  6.7  9.0\n",
       " 34  6.8  6.9  9.0\n",
       " 35  7.0  7.1  5.0\n",
       " 36  7.2  7.3  1.0\n",
       " 37  7.4  7.5  3.0\n",
       " 38  7.6  7.7  8.0\n",
       " 39  7.8  7.9  1.0\n",
       " 40  8.0  8.1  4.0\n",
       " 41  8.2  8.3  3.0\n",
       " 42  8.4  8.5  3.0\n",
       " 43  8.6  8.7  9.0\n",
       " 44  8.8  8.9  2.0\n",
       " 45  9.0  9.1  3.0\n",
       " 46  9.2  9.3  8.0\n",
       " 47  9.4  9.5  7.0\n",
       " 48  9.6  9.7  2.0\n",
       " 49  9.8  9.9  5.0"
      ]
     },
     "execution_count": 175,
     "metadata": {},
     "output_type": "execute_result"
    }
   ],
   "source": [
    "#aggiungere indici:\n",
    "df_from_arr.reindex([x for x in np.arange(-5,50)])"
   ]
  },
  {
   "cell_type": "code",
   "execution_count": 177,
   "id": "10c8b612-b3b5-48aa-8a5a-64f645979532",
   "metadata": {},
   "outputs": [
    {
     "data": {
      "text/html": [
       "<div>\n",
       "<style scoped>\n",
       "    .dataframe tbody tr th:only-of-type {\n",
       "        vertical-align: middle;\n",
       "    }\n",
       "\n",
       "    .dataframe tbody tr th {\n",
       "        vertical-align: top;\n",
       "    }\n",
       "\n",
       "    .dataframe thead th {\n",
       "        text-align: right;\n",
       "    }\n",
       "</style>\n",
       "<table border=\"1\" class=\"dataframe\">\n",
       "  <thead>\n",
       "    <tr style=\"text-align: right;\">\n",
       "      <th></th>\n",
       "      <th>col_0</th>\n",
       "      <th>col_1</th>\n",
       "      <th>col_2</th>\n",
       "      <th>col_3</th>\n",
       "      <th>col_4</th>\n",
       "    </tr>\n",
       "  </thead>\n",
       "  <tbody>\n",
       "    <tr>\n",
       "      <th>0</th>\n",
       "      <td>1.0</td>\n",
       "      <td>2.3</td>\n",
       "      <td>5.29</td>\n",
       "      <td>NaN</td>\n",
       "      <td>NaN</td>\n",
       "    </tr>\n",
       "    <tr>\n",
       "      <th>1</th>\n",
       "      <td>1.0</td>\n",
       "      <td>NaN</td>\n",
       "      <td>NaN</td>\n",
       "      <td>1728.0</td>\n",
       "      <td>NaN</td>\n",
       "    </tr>\n",
       "    <tr>\n",
       "      <th>2</th>\n",
       "      <td>1.0</td>\n",
       "      <td>NaN</td>\n",
       "      <td>49.00</td>\n",
       "      <td>NaN</td>\n",
       "      <td>NaN</td>\n",
       "    </tr>\n",
       "    <tr>\n",
       "      <th>3</th>\n",
       "      <td>NaN</td>\n",
       "      <td>9.0</td>\n",
       "      <td>NaN</td>\n",
       "      <td>NaN</td>\n",
       "      <td>NaN</td>\n",
       "    </tr>\n",
       "    <tr>\n",
       "      <th>4</th>\n",
       "      <td>1.0</td>\n",
       "      <td>NaN</td>\n",
       "      <td>NaN</td>\n",
       "      <td>NaN</td>\n",
       "      <td>341.8801</td>\n",
       "    </tr>\n",
       "  </tbody>\n",
       "</table>\n",
       "</div>"
      ],
      "text/plain": [
       "   col_0  col_1  col_2   col_3     col_4\n",
       "0    1.0    2.3   5.29     NaN       NaN\n",
       "1    1.0    NaN    NaN  1728.0       NaN\n",
       "2    1.0    NaN  49.00     NaN       NaN\n",
       "3    NaN    9.0    NaN     NaN       NaN\n",
       "4    1.0    NaN    NaN     NaN  341.8801"
      ]
     },
     "execution_count": 177,
     "metadata": {},
     "output_type": "execute_result"
    }
   ],
   "source": [
    "#dropping entries:\n",
    "df"
   ]
  },
  {
   "cell_type": "code",
   "execution_count": 180,
   "id": "4f6a4d13-dfde-4f5c-94f2-a39b2294b9e3",
   "metadata": {},
   "outputs": [
    {
     "data": {
      "text/html": [
       "<div>\n",
       "<style scoped>\n",
       "    .dataframe tbody tr th:only-of-type {\n",
       "        vertical-align: middle;\n",
       "    }\n",
       "\n",
       "    .dataframe tbody tr th {\n",
       "        vertical-align: top;\n",
       "    }\n",
       "\n",
       "    .dataframe thead th {\n",
       "        text-align: right;\n",
       "    }\n",
       "</style>\n",
       "<table border=\"1\" class=\"dataframe\">\n",
       "  <thead>\n",
       "    <tr style=\"text-align: right;\">\n",
       "      <th></th>\n",
       "      <th>col_0</th>\n",
       "      <th>col_1</th>\n",
       "      <th>col_2</th>\n",
       "      <th>col_3</th>\n",
       "      <th>col_4</th>\n",
       "    </tr>\n",
       "  </thead>\n",
       "  <tbody>\n",
       "    <tr>\n",
       "      <th>0</th>\n",
       "      <td>1.0</td>\n",
       "      <td>2.3</td>\n",
       "      <td>5.29</td>\n",
       "      <td>NaN</td>\n",
       "      <td>NaN</td>\n",
       "    </tr>\n",
       "    <tr>\n",
       "      <th>1</th>\n",
       "      <td>1.0</td>\n",
       "      <td>NaN</td>\n",
       "      <td>NaN</td>\n",
       "      <td>1728.0</td>\n",
       "      <td>NaN</td>\n",
       "    </tr>\n",
       "    <tr>\n",
       "      <th>2</th>\n",
       "      <td>1.0</td>\n",
       "      <td>NaN</td>\n",
       "      <td>49.00</td>\n",
       "      <td>NaN</td>\n",
       "      <td>NaN</td>\n",
       "    </tr>\n",
       "    <tr>\n",
       "      <th>4</th>\n",
       "      <td>1.0</td>\n",
       "      <td>NaN</td>\n",
       "      <td>NaN</td>\n",
       "      <td>NaN</td>\n",
       "      <td>341.8801</td>\n",
       "    </tr>\n",
       "  </tbody>\n",
       "</table>\n",
       "</div>"
      ],
      "text/plain": [
       "   col_0  col_1  col_2   col_3     col_4\n",
       "0    1.0    2.3   5.29     NaN       NaN\n",
       "1    1.0    NaN    NaN  1728.0       NaN\n",
       "2    1.0    NaN  49.00     NaN       NaN\n",
       "4    1.0    NaN    NaN     NaN  341.8801"
      ]
     },
     "execution_count": 180,
     "metadata": {},
     "output_type": "execute_result"
    }
   ],
   "source": [
    "df.drop(3)"
   ]
  },
  {
   "cell_type": "code",
   "execution_count": 184,
   "id": "aed43239-6f48-4849-a2c0-74758ea75a1d",
   "metadata": {},
   "outputs": [],
   "source": [
    "#droppare colonne:\n",
    "df2 = df.drop(\"col_3\", axis=1)"
   ]
  },
  {
   "cell_type": "code",
   "execution_count": 186,
   "id": "283a29d8-8fc5-460d-ba2c-3310e2ba122c",
   "metadata": {},
   "outputs": [
    {
     "data": {
      "text/html": [
       "<div>\n",
       "<style scoped>\n",
       "    .dataframe tbody tr th:only-of-type {\n",
       "        vertical-align: middle;\n",
       "    }\n",
       "\n",
       "    .dataframe tbody tr th {\n",
       "        vertical-align: top;\n",
       "    }\n",
       "\n",
       "    .dataframe thead th {\n",
       "        text-align: right;\n",
       "    }\n",
       "</style>\n",
       "<table border=\"1\" class=\"dataframe\">\n",
       "  <thead>\n",
       "    <tr style=\"text-align: right;\">\n",
       "      <th></th>\n",
       "      <th>col_0</th>\n",
       "      <th>col_1</th>\n",
       "      <th>col_2</th>\n",
       "      <th>col_4</th>\n",
       "    </tr>\n",
       "  </thead>\n",
       "  <tbody>\n",
       "    <tr>\n",
       "      <th>1</th>\n",
       "      <td>1.0</td>\n",
       "      <td>NaN</td>\n",
       "      <td>NaN</td>\n",
       "      <td>NaN</td>\n",
       "    </tr>\n",
       "    <tr>\n",
       "      <th>2</th>\n",
       "      <td>1.0</td>\n",
       "      <td>NaN</td>\n",
       "      <td>49.0</td>\n",
       "      <td>NaN</td>\n",
       "    </tr>\n",
       "    <tr>\n",
       "      <th>3</th>\n",
       "      <td>NaN</td>\n",
       "      <td>9.0</td>\n",
       "      <td>NaN</td>\n",
       "      <td>NaN</td>\n",
       "    </tr>\n",
       "    <tr>\n",
       "      <th>4</th>\n",
       "      <td>1.0</td>\n",
       "      <td>NaN</td>\n",
       "      <td>NaN</td>\n",
       "      <td>341.8801</td>\n",
       "    </tr>\n",
       "  </tbody>\n",
       "</table>\n",
       "</div>"
      ],
      "text/plain": [
       "   col_0  col_1  col_2     col_4\n",
       "1    1.0    NaN    NaN       NaN\n",
       "2    1.0    NaN   49.0       NaN\n",
       "3    NaN    9.0    NaN       NaN\n",
       "4    1.0    NaN    NaN  341.8801"
      ]
     },
     "execution_count": 186,
     "metadata": {},
     "output_type": "execute_result"
    }
   ],
   "source": [
    "df2.drop(0)"
   ]
  },
  {
   "cell_type": "code",
   "execution_count": 189,
   "id": "ba6f490b-ee3b-4e99-803e-6984f15b6598",
   "metadata": {},
   "outputs": [
    {
     "data": {
      "text/html": [
       "<div>\n",
       "<style scoped>\n",
       "    .dataframe tbody tr th:only-of-type {\n",
       "        vertical-align: middle;\n",
       "    }\n",
       "\n",
       "    .dataframe tbody tr th {\n",
       "        vertical-align: top;\n",
       "    }\n",
       "\n",
       "    .dataframe thead th {\n",
       "        text-align: right;\n",
       "    }\n",
       "</style>\n",
       "<table border=\"1\" class=\"dataframe\">\n",
       "  <thead>\n",
       "    <tr style=\"text-align: right;\">\n",
       "      <th></th>\n",
       "      <th>col_0</th>\n",
       "      <th>col_1</th>\n",
       "      <th>col_2</th>\n",
       "      <th>col_4</th>\n",
       "    </tr>\n",
       "  </thead>\n",
       "  <tbody>\n",
       "    <tr>\n",
       "      <th>0</th>\n",
       "      <td>1.0</td>\n",
       "      <td>2.3</td>\n",
       "      <td>5.29</td>\n",
       "      <td>NaN</td>\n",
       "    </tr>\n",
       "    <tr>\n",
       "      <th>1</th>\n",
       "      <td>1.0</td>\n",
       "      <td>NaN</td>\n",
       "      <td>NaN</td>\n",
       "      <td>NaN</td>\n",
       "    </tr>\n",
       "    <tr>\n",
       "      <th>2</th>\n",
       "      <td>1.0</td>\n",
       "      <td>NaN</td>\n",
       "      <td>49.00</td>\n",
       "      <td>NaN</td>\n",
       "    </tr>\n",
       "    <tr>\n",
       "      <th>3</th>\n",
       "      <td>NaN</td>\n",
       "      <td>9.0</td>\n",
       "      <td>NaN</td>\n",
       "      <td>NaN</td>\n",
       "    </tr>\n",
       "    <tr>\n",
       "      <th>4</th>\n",
       "      <td>1.0</td>\n",
       "      <td>NaN</td>\n",
       "      <td>NaN</td>\n",
       "      <td>341.8801</td>\n",
       "    </tr>\n",
       "  </tbody>\n",
       "</table>\n",
       "</div>"
      ],
      "text/plain": [
       "   col_0  col_1  col_2     col_4\n",
       "0    1.0    2.3   5.29       NaN\n",
       "1    1.0    NaN    NaN       NaN\n",
       "2    1.0    NaN  49.00       NaN\n",
       "3    NaN    9.0    NaN       NaN\n",
       "4    1.0    NaN    NaN  341.8801"
      ]
     },
     "execution_count": 189,
     "metadata": {},
     "output_type": "execute_result"
    }
   ],
   "source": [
    "df2 # cosa notiamo?"
   ]
  },
  {
   "cell_type": "markdown",
   "id": "0599fc58-91d1-48ff-a53f-29652b3087b8",
   "metadata": {},
   "source": [
    "### Aritmetica con pandas"
   ]
  },
  {
   "cell_type": "markdown",
   "id": "e39df116-866c-4e9a-bfad-0f345ca86c2e",
   "metadata": {},
   "source": [
    "SERIES"
   ]
  },
  {
   "cell_type": "code",
   "execution_count": 192,
   "id": "632a25c4-491f-4c6c-8f60-48b2210717d2",
   "metadata": {},
   "outputs": [],
   "source": [
    "s1 = pd.Series([7.3,34,-12], index = [\"a\",\"b\",\"c\"])\n",
    "s2 = pd.Series([-2.1,23,0,2,1], index = [\"a\",\"b\",\"c\",\"d\",\"e\"])"
   ]
  },
  {
   "cell_type": "code",
   "execution_count": 193,
   "id": "24586a53-92f6-4af2-aca0-13a71ce7fa4c",
   "metadata": {},
   "outputs": [
    {
     "data": {
      "text/plain": [
       "a     5.2\n",
       "b    57.0\n",
       "c   -12.0\n",
       "d     NaN\n",
       "e     NaN\n",
       "dtype: float64"
      ]
     },
     "execution_count": 193,
     "metadata": {},
     "output_type": "execute_result"
    }
   ],
   "source": [
    "s1+s2"
   ]
  },
  {
   "cell_type": "markdown",
   "id": "6f37e593-ddc2-4f93-8f14-0ce2b7dd3e35",
   "metadata": {},
   "source": [
    "DATAFRAME"
   ]
  },
  {
   "cell_type": "code",
   "execution_count": 197,
   "id": "c7e71b53-5069-4b57-8b13-65af0fc47dd3",
   "metadata": {},
   "outputs": [],
   "source": [
    "df1 = pd.DataFrame(np.arange(9.).reshape(3,3), columns=list(\"bcd\"), index=[\"nord\",\"centro\",\"sud\"])\n",
    "df2 = pd.DataFrame(np.arange(12.).reshape(4,3), columns=list(\"bde\"), index=[\"nord\",\"centro\",\"sud\",\"isole\"])\n"
   ]
  },
  {
   "cell_type": "code",
   "execution_count": 198,
   "id": "a770934b-4224-42cb-8f0b-4cc1ba317e9d",
   "metadata": {},
   "outputs": [
    {
     "data": {
      "text/html": [
       "<div>\n",
       "<style scoped>\n",
       "    .dataframe tbody tr th:only-of-type {\n",
       "        vertical-align: middle;\n",
       "    }\n",
       "\n",
       "    .dataframe tbody tr th {\n",
       "        vertical-align: top;\n",
       "    }\n",
       "\n",
       "    .dataframe thead th {\n",
       "        text-align: right;\n",
       "    }\n",
       "</style>\n",
       "<table border=\"1\" class=\"dataframe\">\n",
       "  <thead>\n",
       "    <tr style=\"text-align: right;\">\n",
       "      <th></th>\n",
       "      <th>b</th>\n",
       "      <th>c</th>\n",
       "      <th>d</th>\n",
       "    </tr>\n",
       "  </thead>\n",
       "  <tbody>\n",
       "    <tr>\n",
       "      <th>nord</th>\n",
       "      <td>0.0</td>\n",
       "      <td>1.0</td>\n",
       "      <td>2.0</td>\n",
       "    </tr>\n",
       "    <tr>\n",
       "      <th>centro</th>\n",
       "      <td>3.0</td>\n",
       "      <td>4.0</td>\n",
       "      <td>5.0</td>\n",
       "    </tr>\n",
       "    <tr>\n",
       "      <th>sud</th>\n",
       "      <td>6.0</td>\n",
       "      <td>7.0</td>\n",
       "      <td>8.0</td>\n",
       "    </tr>\n",
       "  </tbody>\n",
       "</table>\n",
       "</div>"
      ],
      "text/plain": [
       "          b    c    d\n",
       "nord    0.0  1.0  2.0\n",
       "centro  3.0  4.0  5.0\n",
       "sud     6.0  7.0  8.0"
      ]
     },
     "execution_count": 198,
     "metadata": {},
     "output_type": "execute_result"
    }
   ],
   "source": [
    "df1"
   ]
  },
  {
   "cell_type": "code",
   "execution_count": 199,
   "id": "ac1f289b-eb56-45b6-9f33-b38193ab6807",
   "metadata": {},
   "outputs": [
    {
     "data": {
      "text/html": [
       "<div>\n",
       "<style scoped>\n",
       "    .dataframe tbody tr th:only-of-type {\n",
       "        vertical-align: middle;\n",
       "    }\n",
       "\n",
       "    .dataframe tbody tr th {\n",
       "        vertical-align: top;\n",
       "    }\n",
       "\n",
       "    .dataframe thead th {\n",
       "        text-align: right;\n",
       "    }\n",
       "</style>\n",
       "<table border=\"1\" class=\"dataframe\">\n",
       "  <thead>\n",
       "    <tr style=\"text-align: right;\">\n",
       "      <th></th>\n",
       "      <th>b</th>\n",
       "      <th>d</th>\n",
       "      <th>e</th>\n",
       "    </tr>\n",
       "  </thead>\n",
       "  <tbody>\n",
       "    <tr>\n",
       "      <th>nord</th>\n",
       "      <td>0.0</td>\n",
       "      <td>1.0</td>\n",
       "      <td>2.0</td>\n",
       "    </tr>\n",
       "    <tr>\n",
       "      <th>centro</th>\n",
       "      <td>3.0</td>\n",
       "      <td>4.0</td>\n",
       "      <td>5.0</td>\n",
       "    </tr>\n",
       "    <tr>\n",
       "      <th>sud</th>\n",
       "      <td>6.0</td>\n",
       "      <td>7.0</td>\n",
       "      <td>8.0</td>\n",
       "    </tr>\n",
       "    <tr>\n",
       "      <th>isole</th>\n",
       "      <td>9.0</td>\n",
       "      <td>10.0</td>\n",
       "      <td>11.0</td>\n",
       "    </tr>\n",
       "  </tbody>\n",
       "</table>\n",
       "</div>"
      ],
      "text/plain": [
       "          b     d     e\n",
       "nord    0.0   1.0   2.0\n",
       "centro  3.0   4.0   5.0\n",
       "sud     6.0   7.0   8.0\n",
       "isole   9.0  10.0  11.0"
      ]
     },
     "execution_count": 199,
     "metadata": {},
     "output_type": "execute_result"
    }
   ],
   "source": [
    "df2"
   ]
  },
  {
   "cell_type": "code",
   "execution_count": 200,
   "id": "19f83488-9afe-4d19-8770-cfb860743949",
   "metadata": {},
   "outputs": [
    {
     "data": {
      "text/html": [
       "<div>\n",
       "<style scoped>\n",
       "    .dataframe tbody tr th:only-of-type {\n",
       "        vertical-align: middle;\n",
       "    }\n",
       "\n",
       "    .dataframe tbody tr th {\n",
       "        vertical-align: top;\n",
       "    }\n",
       "\n",
       "    .dataframe thead th {\n",
       "        text-align: right;\n",
       "    }\n",
       "</style>\n",
       "<table border=\"1\" class=\"dataframe\">\n",
       "  <thead>\n",
       "    <tr style=\"text-align: right;\">\n",
       "      <th></th>\n",
       "      <th>b</th>\n",
       "      <th>c</th>\n",
       "      <th>d</th>\n",
       "      <th>e</th>\n",
       "    </tr>\n",
       "  </thead>\n",
       "  <tbody>\n",
       "    <tr>\n",
       "      <th>centro</th>\n",
       "      <td>6.0</td>\n",
       "      <td>NaN</td>\n",
       "      <td>9.0</td>\n",
       "      <td>NaN</td>\n",
       "    </tr>\n",
       "    <tr>\n",
       "      <th>isole</th>\n",
       "      <td>NaN</td>\n",
       "      <td>NaN</td>\n",
       "      <td>NaN</td>\n",
       "      <td>NaN</td>\n",
       "    </tr>\n",
       "    <tr>\n",
       "      <th>nord</th>\n",
       "      <td>0.0</td>\n",
       "      <td>NaN</td>\n",
       "      <td>3.0</td>\n",
       "      <td>NaN</td>\n",
       "    </tr>\n",
       "    <tr>\n",
       "      <th>sud</th>\n",
       "      <td>12.0</td>\n",
       "      <td>NaN</td>\n",
       "      <td>15.0</td>\n",
       "      <td>NaN</td>\n",
       "    </tr>\n",
       "  </tbody>\n",
       "</table>\n",
       "</div>"
      ],
      "text/plain": [
       "           b   c     d   e\n",
       "centro   6.0 NaN   9.0 NaN\n",
       "isole    NaN NaN   NaN NaN\n",
       "nord     0.0 NaN   3.0 NaN\n",
       "sud     12.0 NaN  15.0 NaN"
      ]
     },
     "execution_count": 200,
     "metadata": {},
     "output_type": "execute_result"
    }
   ],
   "source": [
    "df1+df2"
   ]
  },
  {
   "cell_type": "code",
   "execution_count": 202,
   "id": "3daaa0d1-1ac4-4a25-93f7-4988142e94d6",
   "metadata": {},
   "outputs": [
    {
     "data": {
      "text/html": [
       "<div>\n",
       "<style scoped>\n",
       "    .dataframe tbody tr th:only-of-type {\n",
       "        vertical-align: middle;\n",
       "    }\n",
       "\n",
       "    .dataframe tbody tr th {\n",
       "        vertical-align: top;\n",
       "    }\n",
       "\n",
       "    .dataframe thead th {\n",
       "        text-align: right;\n",
       "    }\n",
       "</style>\n",
       "<table border=\"1\" class=\"dataframe\">\n",
       "  <thead>\n",
       "    <tr style=\"text-align: right;\">\n",
       "      <th></th>\n",
       "      <th>b</th>\n",
       "      <th>c</th>\n",
       "      <th>d</th>\n",
       "      <th>e</th>\n",
       "    </tr>\n",
       "  </thead>\n",
       "  <tbody>\n",
       "    <tr>\n",
       "      <th>centro</th>\n",
       "      <td>6.0</td>\n",
       "      <td>4.0</td>\n",
       "      <td>9.0</td>\n",
       "      <td>5.0</td>\n",
       "    </tr>\n",
       "    <tr>\n",
       "      <th>isole</th>\n",
       "      <td>9.0</td>\n",
       "      <td>NaN</td>\n",
       "      <td>10.0</td>\n",
       "      <td>11.0</td>\n",
       "    </tr>\n",
       "    <tr>\n",
       "      <th>nord</th>\n",
       "      <td>0.0</td>\n",
       "      <td>1.0</td>\n",
       "      <td>3.0</td>\n",
       "      <td>2.0</td>\n",
       "    </tr>\n",
       "    <tr>\n",
       "      <th>sud</th>\n",
       "      <td>12.0</td>\n",
       "      <td>7.0</td>\n",
       "      <td>15.0</td>\n",
       "      <td>8.0</td>\n",
       "    </tr>\n",
       "  </tbody>\n",
       "</table>\n",
       "</div>"
      ],
      "text/plain": [
       "           b    c     d     e\n",
       "centro   6.0  4.0   9.0   5.0\n",
       "isole    9.0  NaN  10.0  11.0\n",
       "nord     0.0  1.0   3.0   2.0\n",
       "sud     12.0  7.0  15.0   8.0"
      ]
     },
     "execution_count": 202,
     "metadata": {},
     "output_type": "execute_result"
    }
   ],
   "source": [
    "df1.add(df2, fill_value=0)"
   ]
  },
  {
   "cell_type": "code",
   "execution_count": null,
   "id": "e1b9b6c6-8fe8-4e7b-b4fb-77b2f05037d0",
   "metadata": {},
   "outputs": [],
   "source": [
    "sum"
   ]
  },
  {
   "cell_type": "code",
   "execution_count": 203,
   "id": "e41cadc7-d0c0-4dc9-bee8-8002ffcdb493",
   "metadata": {},
   "outputs": [
    {
     "data": {
      "text/html": [
       "<div>\n",
       "<style scoped>\n",
       "    .dataframe tbody tr th:only-of-type {\n",
       "        vertical-align: middle;\n",
       "    }\n",
       "\n",
       "    .dataframe tbody tr th {\n",
       "        vertical-align: top;\n",
       "    }\n",
       "\n",
       "    .dataframe thead th {\n",
       "        text-align: right;\n",
       "    }\n",
       "</style>\n",
       "<table border=\"1\" class=\"dataframe\">\n",
       "  <thead>\n",
       "    <tr style=\"text-align: right;\">\n",
       "      <th></th>\n",
       "      <th>b</th>\n",
       "      <th>d</th>\n",
       "      <th>e</th>\n",
       "    </tr>\n",
       "  </thead>\n",
       "  <tbody>\n",
       "    <tr>\n",
       "      <th>nord</th>\n",
       "      <td>0.0</td>\n",
       "      <td>2.0</td>\n",
       "      <td>1</td>\n",
       "    </tr>\n",
       "    <tr>\n",
       "      <th>centro</th>\n",
       "      <td>3.0</td>\n",
       "      <td>5.0</td>\n",
       "      <td>1</td>\n",
       "    </tr>\n",
       "    <tr>\n",
       "      <th>sud</th>\n",
       "      <td>6.0</td>\n",
       "      <td>8.0</td>\n",
       "      <td>1</td>\n",
       "    </tr>\n",
       "  </tbody>\n",
       "</table>\n",
       "</div>"
      ],
      "text/plain": [
       "          b    d  e\n",
       "nord    0.0  2.0  1\n",
       "centro  3.0  5.0  1\n",
       "sud     6.0  8.0  1"
      ]
     },
     "execution_count": 203,
     "metadata": {},
     "output_type": "execute_result"
    }
   ],
   "source": [
    "df1.reindex(columns=df2.columns, fill_value=1)"
   ]
  },
  {
   "cell_type": "code",
   "execution_count": 213,
   "id": "49d32dc4-2744-426e-95c1-6cd0bf02ba52",
   "metadata": {},
   "outputs": [],
   "source": [
    "s = pd.Series([1,2,3,4], index = list(\"abde\"))"
   ]
  },
  {
   "cell_type": "code",
   "execution_count": 215,
   "id": "03b9f00b-e876-4dc8-8ddb-c65a8a3baad1",
   "metadata": {},
   "outputs": [
    {
     "data": {
      "text/plain": [
       "a    1\n",
       "b    2\n",
       "d    3\n",
       "e    4\n",
       "dtype: int64"
      ]
     },
     "execution_count": 215,
     "metadata": {},
     "output_type": "execute_result"
    }
   ],
   "source": [
    "s"
   ]
  },
  {
   "cell_type": "code",
   "execution_count": 218,
   "id": "5bccd88b-93fb-4928-a5a7-d0657aef2657",
   "metadata": {},
   "outputs": [
    {
     "data": {
      "text/html": [
       "<div>\n",
       "<style scoped>\n",
       "    .dataframe tbody tr th:only-of-type {\n",
       "        vertical-align: middle;\n",
       "    }\n",
       "\n",
       "    .dataframe tbody tr th {\n",
       "        vertical-align: top;\n",
       "    }\n",
       "\n",
       "    .dataframe thead th {\n",
       "        text-align: right;\n",
       "    }\n",
       "</style>\n",
       "<table border=\"1\" class=\"dataframe\">\n",
       "  <thead>\n",
       "    <tr style=\"text-align: right;\">\n",
       "      <th></th>\n",
       "      <th>a</th>\n",
       "      <th>b</th>\n",
       "      <th>c</th>\n",
       "      <th>d</th>\n",
       "      <th>e</th>\n",
       "    </tr>\n",
       "  </thead>\n",
       "  <tbody>\n",
       "    <tr>\n",
       "      <th>nord</th>\n",
       "      <td>NaN</td>\n",
       "      <td>2.0</td>\n",
       "      <td>NaN</td>\n",
       "      <td>5.0</td>\n",
       "      <td>NaN</td>\n",
       "    </tr>\n",
       "    <tr>\n",
       "      <th>centro</th>\n",
       "      <td>NaN</td>\n",
       "      <td>5.0</td>\n",
       "      <td>NaN</td>\n",
       "      <td>8.0</td>\n",
       "      <td>NaN</td>\n",
       "    </tr>\n",
       "    <tr>\n",
       "      <th>sud</th>\n",
       "      <td>NaN</td>\n",
       "      <td>8.0</td>\n",
       "      <td>NaN</td>\n",
       "      <td>11.0</td>\n",
       "      <td>NaN</td>\n",
       "    </tr>\n",
       "  </tbody>\n",
       "</table>\n",
       "</div>"
      ],
      "text/plain": [
       "         a    b   c     d   e\n",
       "nord   NaN  2.0 NaN   5.0 NaN\n",
       "centro NaN  5.0 NaN   8.0 NaN\n",
       "sud    NaN  8.0 NaN  11.0 NaN"
      ]
     },
     "execution_count": 218,
     "metadata": {},
     "output_type": "execute_result"
    }
   ],
   "source": [
    "df1 + s"
   ]
  },
  {
   "cell_type": "code",
   "execution_count": 219,
   "id": "7cc4f2da-604c-4246-8991-cb670187ee78",
   "metadata": {},
   "outputs": [
    {
     "data": {
      "text/html": [
       "<div>\n",
       "<style scoped>\n",
       "    .dataframe tbody tr th:only-of-type {\n",
       "        vertical-align: middle;\n",
       "    }\n",
       "\n",
       "    .dataframe tbody tr th {\n",
       "        vertical-align: top;\n",
       "    }\n",
       "\n",
       "    .dataframe thead th {\n",
       "        text-align: right;\n",
       "    }\n",
       "</style>\n",
       "<table border=\"1\" class=\"dataframe\">\n",
       "  <thead>\n",
       "    <tr style=\"text-align: right;\">\n",
       "      <th></th>\n",
       "      <th>a</th>\n",
       "      <th>b</th>\n",
       "      <th>c</th>\n",
       "      <th>d</th>\n",
       "      <th>e</th>\n",
       "    </tr>\n",
       "  </thead>\n",
       "  <tbody>\n",
       "    <tr>\n",
       "      <th>nord</th>\n",
       "      <td>NaN</td>\n",
       "      <td>-2.0</td>\n",
       "      <td>NaN</td>\n",
       "      <td>-1.0</td>\n",
       "      <td>NaN</td>\n",
       "    </tr>\n",
       "    <tr>\n",
       "      <th>centro</th>\n",
       "      <td>NaN</td>\n",
       "      <td>1.0</td>\n",
       "      <td>NaN</td>\n",
       "      <td>2.0</td>\n",
       "      <td>NaN</td>\n",
       "    </tr>\n",
       "    <tr>\n",
       "      <th>sud</th>\n",
       "      <td>NaN</td>\n",
       "      <td>4.0</td>\n",
       "      <td>NaN</td>\n",
       "      <td>5.0</td>\n",
       "      <td>NaN</td>\n",
       "    </tr>\n",
       "  </tbody>\n",
       "</table>\n",
       "</div>"
      ],
      "text/plain": [
       "         a    b   c    d   e\n",
       "nord   NaN -2.0 NaN -1.0 NaN\n",
       "centro NaN  1.0 NaN  2.0 NaN\n",
       "sud    NaN  4.0 NaN  5.0 NaN"
      ]
     },
     "execution_count": 219,
     "metadata": {},
     "output_type": "execute_result"
    }
   ],
   "source": [
    "df1-s"
   ]
  },
  {
   "cell_type": "code",
   "execution_count": 225,
   "id": "f7f69d0c-da72-4a46-bc10-aba5a63ab91c",
   "metadata": {},
   "outputs": [
    {
     "data": {
      "text/html": [
       "<div>\n",
       "<style scoped>\n",
       "    .dataframe tbody tr th:only-of-type {\n",
       "        vertical-align: middle;\n",
       "    }\n",
       "\n",
       "    .dataframe tbody tr th {\n",
       "        vertical-align: top;\n",
       "    }\n",
       "\n",
       "    .dataframe thead th {\n",
       "        text-align: right;\n",
       "    }\n",
       "</style>\n",
       "<table border=\"1\" class=\"dataframe\">\n",
       "  <thead>\n",
       "    <tr style=\"text-align: right;\">\n",
       "      <th></th>\n",
       "      <th>a</th>\n",
       "      <th>b</th>\n",
       "      <th>c</th>\n",
       "      <th>d</th>\n",
       "      <th>e</th>\n",
       "    </tr>\n",
       "  </thead>\n",
       "  <tbody>\n",
       "    <tr>\n",
       "      <th>nord</th>\n",
       "      <td>NaN</td>\n",
       "      <td>-2.0</td>\n",
       "      <td>NaN</td>\n",
       "      <td>-1.0</td>\n",
       "      <td>NaN</td>\n",
       "    </tr>\n",
       "    <tr>\n",
       "      <th>centro</th>\n",
       "      <td>NaN</td>\n",
       "      <td>1.0</td>\n",
       "      <td>NaN</td>\n",
       "      <td>2.0</td>\n",
       "      <td>NaN</td>\n",
       "    </tr>\n",
       "    <tr>\n",
       "      <th>sud</th>\n",
       "      <td>NaN</td>\n",
       "      <td>4.0</td>\n",
       "      <td>NaN</td>\n",
       "      <td>5.0</td>\n",
       "      <td>NaN</td>\n",
       "    </tr>\n",
       "  </tbody>\n",
       "</table>\n",
       "</div>"
      ],
      "text/plain": [
       "         a    b   c    d   e\n",
       "nord   NaN -2.0 NaN -1.0 NaN\n",
       "centro NaN  1.0 NaN  2.0 NaN\n",
       "sud    NaN  4.0 NaN  5.0 NaN"
      ]
     },
     "execution_count": 225,
     "metadata": {},
     "output_type": "execute_result"
    }
   ],
   "source": [
    "df1.sub(s, axis='columns')"
   ]
  },
  {
   "cell_type": "markdown",
   "id": "f907f4cd-5a3e-4f92-bdbe-489c18cac71e",
   "metadata": {},
   "source": [
    "### Esercizio:\n",
    "Crea una pandas Series che abbia come indici gli indici di colonna di un dataframe e poi fai una sottrazione df - serie"
   ]
  },
  {
   "cell_type": "code",
   "execution_count": null,
   "id": "d5fbd9b6-102d-47fa-8858-bbb602a4abb1",
   "metadata": {},
   "outputs": [],
   "source": []
  },
  {
   "cell_type": "markdown",
   "id": "82833568-2d92-4c14-a8e6-9a6a148ae24a",
   "metadata": {},
   "source": [
    "### Applicazione di funzioni a un DataFrame"
   ]
  },
  {
   "cell_type": "code",
   "execution_count": 233,
   "id": "62e9f0c9-1ce8-470e-9146-8c454172dc01",
   "metadata": {},
   "outputs": [
    {
     "data": {
      "text/plain": [
       "b     9.0\n",
       "d    10.5\n",
       "e    12.0\n",
       "dtype: float64"
      ]
     },
     "execution_count": 233,
     "metadata": {},
     "output_type": "execute_result"
    }
   ],
   "source": [
    "def f1(x):\n",
    "    return x.max() + x.min() / 2\n",
    "\n",
    "df2.apply(f1) # cosa sta ritornando?"
   ]
  },
  {
   "cell_type": "code",
   "execution_count": 234,
   "id": "4bc58e47-0dee-40f0-9de5-56fb63d3f244",
   "metadata": {},
   "outputs": [
    {
     "data": {
      "text/html": [
       "<div>\n",
       "<style scoped>\n",
       "    .dataframe tbody tr th:only-of-type {\n",
       "        vertical-align: middle;\n",
       "    }\n",
       "\n",
       "    .dataframe tbody tr th {\n",
       "        vertical-align: top;\n",
       "    }\n",
       "\n",
       "    .dataframe thead th {\n",
       "        text-align: right;\n",
       "    }\n",
       "</style>\n",
       "<table border=\"1\" class=\"dataframe\">\n",
       "  <thead>\n",
       "    <tr style=\"text-align: right;\">\n",
       "      <th></th>\n",
       "      <th>b</th>\n",
       "      <th>d</th>\n",
       "      <th>e</th>\n",
       "    </tr>\n",
       "  </thead>\n",
       "  <tbody>\n",
       "    <tr>\n",
       "      <th>nord</th>\n",
       "      <td>0.0</td>\n",
       "      <td>0.5</td>\n",
       "      <td>1.0</td>\n",
       "    </tr>\n",
       "    <tr>\n",
       "      <th>centro</th>\n",
       "      <td>1.5</td>\n",
       "      <td>2.0</td>\n",
       "      <td>2.5</td>\n",
       "    </tr>\n",
       "    <tr>\n",
       "      <th>sud</th>\n",
       "      <td>3.0</td>\n",
       "      <td>3.5</td>\n",
       "      <td>4.0</td>\n",
       "    </tr>\n",
       "    <tr>\n",
       "      <th>isole</th>\n",
       "      <td>4.5</td>\n",
       "      <td>5.0</td>\n",
       "      <td>5.5</td>\n",
       "    </tr>\n",
       "  </tbody>\n",
       "</table>\n",
       "</div>"
      ],
      "text/plain": [
       "          b    d    e\n",
       "nord    0.0  0.5  1.0\n",
       "centro  1.5  2.0  2.5\n",
       "sud     3.0  3.5  4.0\n",
       "isole   4.5  5.0  5.5"
      ]
     },
     "execution_count": 234,
     "metadata": {},
     "output_type": "execute_result"
    }
   ],
   "source": [
    "def f1(x):\n",
    "    return x / 2\n",
    "\n",
    "df2.apply(f1) # ora cosa sta ritornando?"
   ]
  },
  {
   "cell_type": "code",
   "execution_count": 239,
   "id": "063828b8-150c-4508-a9ca-983142bf3644",
   "metadata": {},
   "outputs": [
    {
     "data": {
      "text/html": [
       "<div>\n",
       "<style scoped>\n",
       "    .dataframe tbody tr th:only-of-type {\n",
       "        vertical-align: middle;\n",
       "    }\n",
       "\n",
       "    .dataframe tbody tr th {\n",
       "        vertical-align: top;\n",
       "    }\n",
       "\n",
       "    .dataframe thead th {\n",
       "        text-align: right;\n",
       "    }\n",
       "</style>\n",
       "<table border=\"1\" class=\"dataframe\">\n",
       "  <thead>\n",
       "    <tr style=\"text-align: right;\">\n",
       "      <th></th>\n",
       "      <th>b</th>\n",
       "      <th>d</th>\n",
       "      <th>e</th>\n",
       "    </tr>\n",
       "  </thead>\n",
       "  <tbody>\n",
       "    <tr>\n",
       "      <th>nord</th>\n",
       "      <td>0.000000</td>\n",
       "      <td>1.000000</td>\n",
       "      <td>2.000000</td>\n",
       "    </tr>\n",
       "    <tr>\n",
       "      <th>centro</th>\n",
       "      <td>3.000000</td>\n",
       "      <td>4.000000</td>\n",
       "      <td>5.000000</td>\n",
       "    </tr>\n",
       "    <tr>\n",
       "      <th>sud</th>\n",
       "      <td>6.000000</td>\n",
       "      <td>7.000000</td>\n",
       "      <td>8.000000</td>\n",
       "    </tr>\n",
       "    <tr>\n",
       "      <th>isole</th>\n",
       "      <td>9.000000</td>\n",
       "      <td>10.000000</td>\n",
       "      <td>11.000000</td>\n",
       "    </tr>\n",
       "  </tbody>\n",
       "</table>\n",
       "</div>"
      ],
      "text/plain": [
       "               b          d          e\n",
       "nord    0.000000   1.000000   2.000000\n",
       "centro  3.000000   4.000000   5.000000\n",
       "sud     6.000000   7.000000   8.000000\n",
       "isole   9.000000  10.000000  11.000000"
      ]
     },
     "execution_count": 239,
     "metadata": {},
     "output_type": "execute_result"
    }
   ],
   "source": [
    "def f1(x):\n",
    "    return f\"{x:2f}\"\n",
    "\n",
    "df2.applymap(f1) # ora cosa sta ritornando?"
   ]
  },
  {
   "cell_type": "markdown",
   "id": "b637bc9d-de9e-41d1-b903-a16762495f22",
   "metadata": {},
   "source": [
    "Differenza tra apply e applymap ? proviamo ad usare apply nell'ultim cella!"
   ]
  },
  {
   "cell_type": "markdown",
   "id": "35e6a7c3-9fd9-4a75-b7f3-009fcc7466a4",
   "metadata": {},
   "source": [
    "## Ranking dei valori"
   ]
  },
  {
   "cell_type": "code",
   "execution_count": 255,
   "id": "ebf197ad-f730-4f99-84c6-a539ccbda360",
   "metadata": {},
   "outputs": [
    {
     "data": {
      "text/html": [
       "<div>\n",
       "<style scoped>\n",
       "    .dataframe tbody tr th:only-of-type {\n",
       "        vertical-align: middle;\n",
       "    }\n",
       "\n",
       "    .dataframe tbody tr th {\n",
       "        vertical-align: top;\n",
       "    }\n",
       "\n",
       "    .dataframe thead th {\n",
       "        text-align: right;\n",
       "    }\n",
       "</style>\n",
       "<table border=\"1\" class=\"dataframe\">\n",
       "  <thead>\n",
       "    <tr style=\"text-align: right;\">\n",
       "      <th></th>\n",
       "      <th>A</th>\n",
       "      <th>B</th>\n",
       "      <th>C</th>\n",
       "    </tr>\n",
       "  </thead>\n",
       "  <tbody>\n",
       "    <tr>\n",
       "      <th>0</th>\n",
       "      <td>36</td>\n",
       "      <td>12</td>\n",
       "      <td>32</td>\n",
       "    </tr>\n",
       "    <tr>\n",
       "      <th>1</th>\n",
       "      <td>56</td>\n",
       "      <td>49</td>\n",
       "      <td>62</td>\n",
       "    </tr>\n",
       "    <tr>\n",
       "      <th>2</th>\n",
       "      <td>35</td>\n",
       "      <td>57</td>\n",
       "      <td>12</td>\n",
       "    </tr>\n",
       "    <tr>\n",
       "      <th>3</th>\n",
       "      <td>24</td>\n",
       "      <td>69</td>\n",
       "      <td>15</td>\n",
       "    </tr>\n",
       "    <tr>\n",
       "      <th>4</th>\n",
       "      <td>13</td>\n",
       "      <td>85</td>\n",
       "      <td>20</td>\n",
       "    </tr>\n",
       "  </tbody>\n",
       "</table>\n",
       "</div>"
      ],
      "text/plain": [
       "    A   B   C\n",
       "0  36  12  32\n",
       "1  56  49  62\n",
       "2  35  57  12\n",
       "3  24  69  15\n",
       "4  13  85  20"
      ]
     },
     "execution_count": 255,
     "metadata": {},
     "output_type": "execute_result"
    }
   ],
   "source": [
    "df = pd.DataFrame(np.random.randint(0, 100, size=(5, 3)), columns=['A', 'B', 'C'])\n",
    "df"
   ]
  },
  {
   "cell_type": "code",
   "execution_count": 256,
   "id": "2e4875be-a6cb-40b9-bf1e-7b2364099484",
   "metadata": {},
   "outputs": [
    {
     "data": {
      "text/html": [
       "<div>\n",
       "<style scoped>\n",
       "    .dataframe tbody tr th:only-of-type {\n",
       "        vertical-align: middle;\n",
       "    }\n",
       "\n",
       "    .dataframe tbody tr th {\n",
       "        vertical-align: top;\n",
       "    }\n",
       "\n",
       "    .dataframe thead th {\n",
       "        text-align: right;\n",
       "    }\n",
       "</style>\n",
       "<table border=\"1\" class=\"dataframe\">\n",
       "  <thead>\n",
       "    <tr style=\"text-align: right;\">\n",
       "      <th></th>\n",
       "      <th>A</th>\n",
       "      <th>B</th>\n",
       "      <th>C</th>\n",
       "    </tr>\n",
       "  </thead>\n",
       "  <tbody>\n",
       "    <tr>\n",
       "      <th>0</th>\n",
       "      <td>4.0</td>\n",
       "      <td>1.0</td>\n",
       "      <td>4.0</td>\n",
       "    </tr>\n",
       "    <tr>\n",
       "      <th>1</th>\n",
       "      <td>5.0</td>\n",
       "      <td>2.0</td>\n",
       "      <td>5.0</td>\n",
       "    </tr>\n",
       "    <tr>\n",
       "      <th>2</th>\n",
       "      <td>3.0</td>\n",
       "      <td>3.0</td>\n",
       "      <td>1.0</td>\n",
       "    </tr>\n",
       "    <tr>\n",
       "      <th>3</th>\n",
       "      <td>2.0</td>\n",
       "      <td>4.0</td>\n",
       "      <td>2.0</td>\n",
       "    </tr>\n",
       "    <tr>\n",
       "      <th>4</th>\n",
       "      <td>1.0</td>\n",
       "      <td>5.0</td>\n",
       "      <td>3.0</td>\n",
       "    </tr>\n",
       "  </tbody>\n",
       "</table>\n",
       "</div>"
      ],
      "text/plain": [
       "     A    B    C\n",
       "0  4.0  1.0  4.0\n",
       "1  5.0  2.0  5.0\n",
       "2  3.0  3.0  1.0\n",
       "3  2.0  4.0  2.0\n",
       "4  1.0  5.0  3.0"
      ]
     },
     "execution_count": 256,
     "metadata": {},
     "output_type": "execute_result"
    }
   ],
   "source": [
    "df.rank()"
   ]
  },
  {
   "cell_type": "markdown",
   "id": "a9585b2b-49f8-48c3-be06-2a8c7a1f839f",
   "metadata": {},
   "source": [
    "#### cosa succede di default se ho valori uguali? Posso cambiare la cosa?\n"
   ]
  },
  {
   "cell_type": "markdown",
   "id": "505a209f-bb27-4dd6-b699-9b615c473b60",
   "metadata": {},
   "source": [
    "### Un po' di Statistica con i DF"
   ]
  },
  {
   "cell_type": "code",
   "execution_count": 258,
   "id": "36de5e51-d099-4146-ba1c-08403210c55d",
   "metadata": {},
   "outputs": [
    {
     "data": {
      "text/html": [
       "<div>\n",
       "<style scoped>\n",
       "    .dataframe tbody tr th:only-of-type {\n",
       "        vertical-align: middle;\n",
       "    }\n",
       "\n",
       "    .dataframe tbody tr th {\n",
       "        vertical-align: top;\n",
       "    }\n",
       "\n",
       "    .dataframe thead th {\n",
       "        text-align: right;\n",
       "    }\n",
       "</style>\n",
       "<table border=\"1\" class=\"dataframe\">\n",
       "  <thead>\n",
       "    <tr style=\"text-align: right;\">\n",
       "      <th></th>\n",
       "      <th>A</th>\n",
       "      <th>B</th>\n",
       "      <th>C</th>\n",
       "    </tr>\n",
       "  </thead>\n",
       "  <tbody>\n",
       "    <tr>\n",
       "      <th>count</th>\n",
       "      <td>5.000000</td>\n",
       "      <td>5.000000</td>\n",
       "      <td>5.000000</td>\n",
       "    </tr>\n",
       "    <tr>\n",
       "      <th>mean</th>\n",
       "      <td>32.800000</td>\n",
       "      <td>54.400000</td>\n",
       "      <td>28.200000</td>\n",
       "    </tr>\n",
       "    <tr>\n",
       "      <th>std</th>\n",
       "      <td>15.990622</td>\n",
       "      <td>27.309339</td>\n",
       "      <td>20.376457</td>\n",
       "    </tr>\n",
       "    <tr>\n",
       "      <th>min</th>\n",
       "      <td>13.000000</td>\n",
       "      <td>12.000000</td>\n",
       "      <td>12.000000</td>\n",
       "    </tr>\n",
       "    <tr>\n",
       "      <th>25%</th>\n",
       "      <td>24.000000</td>\n",
       "      <td>49.000000</td>\n",
       "      <td>15.000000</td>\n",
       "    </tr>\n",
       "    <tr>\n",
       "      <th>50%</th>\n",
       "      <td>35.000000</td>\n",
       "      <td>57.000000</td>\n",
       "      <td>20.000000</td>\n",
       "    </tr>\n",
       "    <tr>\n",
       "      <th>75%</th>\n",
       "      <td>36.000000</td>\n",
       "      <td>69.000000</td>\n",
       "      <td>32.000000</td>\n",
       "    </tr>\n",
       "    <tr>\n",
       "      <th>max</th>\n",
       "      <td>56.000000</td>\n",
       "      <td>85.000000</td>\n",
       "      <td>62.000000</td>\n",
       "    </tr>\n",
       "  </tbody>\n",
       "</table>\n",
       "</div>"
      ],
      "text/plain": [
       "               A          B          C\n",
       "count   5.000000   5.000000   5.000000\n",
       "mean   32.800000  54.400000  28.200000\n",
       "std    15.990622  27.309339  20.376457\n",
       "min    13.000000  12.000000  12.000000\n",
       "25%    24.000000  49.000000  15.000000\n",
       "50%    35.000000  57.000000  20.000000\n",
       "75%    36.000000  69.000000  32.000000\n",
       "max    56.000000  85.000000  62.000000"
      ]
     },
     "execution_count": 258,
     "metadata": {},
     "output_type": "execute_result"
    }
   ],
   "source": [
    "df.describe()"
   ]
  },
  {
   "cell_type": "markdown",
   "id": "94359487-e0df-4e89-87da-36dd4da99660",
   "metadata": {},
   "source": [
    "#### altri metodi\n",
    "- count\n",
    "- argmin, argmax\n",
    "- indxmin, idxmax\n",
    "- quantile\n",
    "- cumsum, cummin, cummax, ecc"
   ]
  },
  {
   "cell_type": "code",
   "execution_count": null,
   "id": "7953a34a-708f-4585-b9c0-bde01116e615",
   "metadata": {},
   "outputs": [],
   "source": []
  },
  {
   "cell_type": "code",
   "execution_count": null,
   "id": "c201b739-a0bb-48c1-b81b-8d3f81ccb6f0",
   "metadata": {},
   "outputs": [],
   "source": []
  }
 ],
 "metadata": {
  "kernelspec": {
   "display_name": "Python 3 (ipykernel)",
   "language": "python",
   "name": "python3"
  },
  "language_info": {
   "codemirror_mode": {
    "name": "ipython",
    "version": 3
   },
   "file_extension": ".py",
   "mimetype": "text/x-python",
   "name": "python",
   "nbconvert_exporter": "python",
   "pygments_lexer": "ipython3",
   "version": "3.8.6"
  }
 },
 "nbformat": 4,
 "nbformat_minor": 5
}
