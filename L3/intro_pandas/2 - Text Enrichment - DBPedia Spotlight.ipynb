{
 "cells": [
  {
   "cell_type": "markdown",
   "metadata": {},
   "source": [
    "# Estrazione di entità dal testo e linked data"
   ]
  },
  {
   "cell_type": "markdown",
   "metadata": {},
   "source": [
    "Carico il file di testo"
   ]
  },
  {
   "cell_type": "code",
   "execution_count": 1,
   "metadata": {
    "scrolled": true
   },
   "outputs": [
    {
     "ename": "FileNotFoundError",
     "evalue": "[Errno 2] No such file or directory: 'data/t1.txt'",
     "output_type": "error",
     "traceback": [
      "\u001b[1;31m---------------------------------------------------------------------------\u001b[0m",
      "\u001b[1;31mFileNotFoundError\u001b[0m                         Traceback (most recent call last)",
      "Cell \u001b[1;32mIn [1], line 6\u001b[0m\n\u001b[0;32m      4\u001b[0m \u001b[38;5;28;01mimport\u001b[39;00m \u001b[38;5;21;01mpandas\u001b[39;00m \u001b[38;5;28;01mas\u001b[39;00m \u001b[38;5;21;01mpd\u001b[39;00m\n\u001b[0;32m      5\u001b[0m list_of_lines \u001b[38;5;241m=\u001b[39m []\n\u001b[1;32m----> 6\u001b[0m \u001b[38;5;28;01mwith\u001b[39;00m \u001b[38;5;28mopen\u001b[39m(\u001b[38;5;124m\"\u001b[39m\u001b[38;5;124mdata/t1.txt\u001b[39m\u001b[38;5;124m\"\u001b[39m, \u001b[38;5;124m\"\u001b[39m\u001b[38;5;124mr\u001b[39m\u001b[38;5;124m\"\u001b[39m) \u001b[38;5;28;01mas\u001b[39;00m f:\n\u001b[0;32m      7\u001b[0m     list_of_lines \u001b[38;5;241m=\u001b[39m f\u001b[38;5;241m.\u001b[39mreadlines()\n",
      "\u001b[1;31mFileNotFoundError\u001b[0m: [Errno 2] No such file or directory: 'data/t1.txt'"
     ]
    }
   ],
   "source": [
    "import requests\n",
    "import re\n",
    "import json\n",
    "import pandas as pd\n",
    "list_of_lines = []\n",
    "with open(\"data/t1.txt\", \"r\") as f:\n",
    "    list_of_lines = f.readlines()"
   ]
  },
  {
   "cell_type": "markdown",
   "metadata": {},
   "source": [
    "Seleziono solo l'ultima frase"
   ]
  },
  {
   "cell_type": "code",
   "execution_count": 118,
   "metadata": {},
   "outputs": [],
   "source": [
    "last_sentence = list_of_lines[-1:]\n",
    "list_of_lines_clean = [ el.strip() for el in list_of_lines if len(el.replace(\"\\n\", \"\")) > 4] \n",
    "df_lines = pd.DataFrame({'text' : list_of_lines_clean })"
   ]
  },
  {
   "cell_type": "code",
   "execution_count": 119,
   "metadata": {},
   "outputs": [
    {
     "data": {
      "text/html": [
       "<div>\n",
       "<style scoped>\n",
       "    .dataframe tbody tr th:only-of-type {\n",
       "        vertical-align: middle;\n",
       "    }\n",
       "\n",
       "    .dataframe tbody tr th {\n",
       "        vertical-align: top;\n",
       "    }\n",
       "\n",
       "    .dataframe thead th {\n",
       "        text-align: right;\n",
       "    }\n",
       "</style>\n",
       "<table border=\"1\" class=\"dataframe\">\n",
       "  <thead>\n",
       "    <tr style=\"text-align: right;\">\n",
       "      <th></th>\n",
       "      <th>text</th>\n",
       "    </tr>\n",
       "  </thead>\n",
       "  <tbody>\n",
       "    <tr>\n",
       "      <th>0</th>\n",
       "      <td>ï»¿We look to fiction for eternal truths about...</td>\n",
       "    </tr>\n",
       "    <tr>\n",
       "      <th>1</th>\n",
       "      <td>More like this:</td>\n",
       "    </tr>\n",
       "    <tr>\n",
       "      <th>2</th>\n",
       "      <td>-       Inside the mind of a literary hoaxer</td>\n",
       "    </tr>\n",
       "    <tr>\n",
       "      <th>3</th>\n",
       "      <td>-       Primo Levi: A clear-eyed view of evil ...</td>\n",
       "    </tr>\n",
       "    <tr>\n",
       "      <th>4</th>\n",
       "      <td>-       The sci-fi taking on climate change</td>\n",
       "    </tr>\n",
       "    <tr>\n",
       "      <th>5</th>\n",
       "      <td>In his 1968 novel Stand on Zanzibar, for insta...</td>\n",
       "    </tr>\n",
       "    <tr>\n",
       "      <th>6</th>\n",
       "      <td>Born in 1934 in the Thames riverside hamlet of...</td>\n",
       "    </tr>\n",
       "  </tbody>\n",
       "</table>\n",
       "</div>"
      ],
      "text/plain": [
       "                                                text\n",
       "0  ï»¿We look to fiction for eternal truths about...\n",
       "1                                    More like this:\n",
       "2       -       Inside the mind of a literary hoaxer\n",
       "3  -       Primo Levi: A clear-eyed view of evil ...\n",
       "4        -       The sci-fi taking on climate change\n",
       "5  In his 1968 novel Stand on Zanzibar, for insta...\n",
       "6  Born in 1934 in the Thames riverside hamlet of..."
      ]
     },
     "execution_count": 119,
     "metadata": {},
     "output_type": "execute_result"
    }
   ],
   "source": [
    "df_lines"
   ]
  },
  {
   "cell_type": "code",
   "execution_count": 71,
   "metadata": {
    "scrolled": true
   },
   "outputs": [
    {
     "name": "stdout",
     "output_type": "stream",
     "text": [
      "['Born in 1934 in the Thames riverside hamlet of Preston Crowmarsh, Oxfordshire, John Kilian Houston Brunner was just six years old when he discovered science fiction. As Professor Jad Smith relates in his comprehensive study, John Brunner, with World War Two raging, the family moved to Herefordshire, where Brunner\\'s father intended to support the war effort by running a farm. In the chaos of the move, his grandfather\\'s rare 1898 edition of HG Wells\\' The War of the Worlds ended up shelved in the playroom. Brunner devoured it and from that moment, as he would later explain in a short autobiography, was imprinted by the genre \"as permanently as one of Konrad Lorenz\\'s geese\".']\n"
     ]
    }
   ],
   "source": [
    "print(last_sentence)"
   ]
  },
  {
   "cell_type": "markdown",
   "metadata": {},
   "source": [
    "definisco l'endpoint e i dati da passare"
   ]
  },
  {
   "cell_type": "code",
   "execution_count": 161,
   "metadata": {},
   "outputs": [],
   "source": [
    "from urllib import parse\n",
    "import json\n",
    "import requests\n",
    "\n",
    "def enrich_text(last_sentence):\n",
    "    \n",
    "    url = \"http://api.dbpedia-spotlight.org/en/annotate\"\n",
    "    my_dict = { \n",
    "        \"text\" : last_sentence,\n",
    "        \"confidence\" : 0.5 \n",
    "    }\n",
    "    response = requests.post(\"https://api.dbpedia-spotlight.org/en/annotate\", data=my_dict, headers={\"Accept\":\"application/json\"})\n",
    "    \n",
    "    \n",
    "\n",
    "    if (response.status_code == 200):\n",
    "        content = json.loads(response.content)\n",
    "    else:\n",
    "        return None\n",
    "    \n",
    "    if \"Resources\" in content.keys():\n",
    "        content = content[\"Resources\"]\n",
    "    else:\n",
    "        content = []\n",
    "    return content"
   ]
  },
  {
   "cell_type": "code",
   "execution_count": 162,
   "metadata": {
    "scrolled": true
   },
   "outputs": [],
   "source": [
    "\n",
    "contenuto = enrich_text(\"Calais\")\n",
    "#df_lines[\"Entities\"] = df_lines[\"text\"].apply(lambda x : [ el[\"@surfaceForm\"] for el in enrich_text(x) if el is not None ])\n"
   ]
  },
  {
   "cell_type": "code",
   "execution_count": 163,
   "metadata": {},
   "outputs": [
    {
     "name": "stdout",
     "output_type": "stream",
     "text": [
      "[{'@URI': 'http://dbpedia.org/resource/Calais', '@support': '3650', '@types': 'Wikidata:Q486972,Schema:Place,DBpedia:PopulatedPlace,DBpedia:Place,DBpedia:Location,DBpedia:Settlement', '@surfaceForm': 'Calais', '@offset': '0', '@similarityScore': '0.9990351222256937', '@percentageOfSecondRank': '4.3632776711395816E-4'}]\n"
     ]
    }
   ],
   "source": [
    "print(contenuto)"
   ]
  },
  {
   "cell_type": "code",
   "execution_count": 192,
   "metadata": {},
   "outputs": [
    {
     "name": "stdout",
     "output_type": "stream",
     "text": [
      "L'Italia (/iˈtalja/, ), ufficialmente Repubblica Italiana, è una repubblica parlamentare situata nell'Europa meridionale, con una popolazione di circa 60,4 milioni di abitanti e Roma come capitale. La parte continentale, delimitata dall'arco alpino, confina a nord, da ovest a est, con Francia, Svizzera, Austria e Slovenia; il resto del territorio, circondato dai mari Ligure, Tirreno, Ionio e Adriatico, si protende nel mar Mediterraneo, occupando la penisola italiana e numerose isole (le maggiori sono Sicilia e Sardegna), per un totale di 302 072,84 km². Gli Stati della Città del Vaticano e di San Marino sono enclavi della Repubblica mentre Campione d'Italia è l'unica exclave italiana. Roma, che fu capitale dell'Impero romano, è stata per secoli il centro politico e culturale della civiltà occidentale. Dopo la caduta dell'Impero romano d'Occidente, l'Italia medievale fu soggetta a invasioni e dominazioni di popolazioni germaniche, come gli Ostrogoti, i Longobardi e i Normanni. Nel XV secolo, con la diffusione del Rinascimento, ridivenne il centro culturale del mondo occidentale, ma dopo le guerre d'Italia del XVI secolo ricadde sotto l'egemonia delle potenze straniere, quali Francia, Spagna e Austria. Durante il Risorgimento combatté per l'indipendenza e per l'unità d'Italia, finché il 17 marzo 1861 fu proclamato il Regno d'Italia che cessò di esistere nel 1946, dopo il ventennio fascista, la sconfitta nella seconda guerra mondiale e la guerra di Liberazione, quando, a seguito di un referendum istituzionale, lo Stato italiano divenne una repubblica parlamentare. Nel 2018 l'Italia, ottava potenza economica mondiale e quarta a livello europeo, è un paese con un alto standard di vita: l'indice di sviluppo umano è molto alto, 0.883, e la speranza di vita è di 83,4 anni. È membro fondatore dell'Unione europea, della NATO, del Consiglio d'Europa e dell'OCSE; aderisce all'ONU e al trattato di Schengen. È inoltre membro del G7 e del G20, partecipa al progetto di condivisione nucleare della NATO, è una grande potenza regionale europea, in grado di esercitare influenza politica anche su scelte e decisioni di ordine extra-europeo e globale, e si colloca in nona posizione nel mondo per spesa militare. L'Italia vanta insieme alla Cina il maggior numero di siti dichiarati patrimonio dell'umanità dall'UNESCO è il secondo paese più visitato d'Europa e il quarto del mondo per presenze turistiche.\n"
     ]
    }
   ],
   "source": [
    "response = requests.post('http://dbpedia.org/resource/Italy',headers={\"Accept\":\"application/json\"})\n",
    "content = json.loads(response.content)\n",
    "#print(content)\n",
    "for j in content[\"http://dbpedia.org/resource/France\"]:\n",
    "    if(j == \"http://dbpedia.org/ontology/abstract\"):\n",
    "        for cont in content[\"http://dbpedia.org/resource/Italy\"][j]:\n",
    "            if cont[\"lang\"]==\"it\":\n",
    "                print(cont['value'])"
   ]
  },
  {
   "cell_type": "code",
   "execution_count": 165,
   "metadata": {},
   "outputs": [
    {
     "name": "stdout",
     "output_type": "stream",
     "text": [
      "['http://dbpedia.org/resource/Hedera', 'http://dbpedia.org/resource/Bronchitis', 'http://dbpedia.org/resource/Cold_medicine', 'http://dbpedia.org/resource/Hedera', 'http://dbpedia.org/resource/After_7', 'http://dbpedia.org/resource/Notifiable_disease', 'http://dbpedia.org/resource/Gastrointestinal_disease', 'http://dbpedia.org/resource/Antibiotic', 'http://dbpedia.org/resource/Risk_ratio', 'http://dbpedia.org/resource/Hedera', 'http://dbpedia.org/resource/Bronchitis']\n"
     ]
    }
   ],
   "source": [
    "import json\n",
    "#from SPARQLWrapper import SPARQLWrapper, JSON\n",
    "import requests\n",
    "import urllib.parse\n",
    "\n",
    "## initial consts\n",
    "BASE_URL = 'http://api.dbpedia-spotlight.org/en/annotate?text={text}&confidence={confidence}&support={support}'\n",
    "TEXT = \"Tolerance, safety and efficacy of Hedera helix extract in inflammatory bronchial diseases under clinical practice conditions: a prospective, open, multicentre postmarketing study in 9657 patients.     In this postmarketing study 9657 patients (5181 children) with bronchitis (acute or chronic bronchial inflammatory disease) were treated with a syrup containing dried ivy leaf extract. After 7 days of therapy, 95% of the patients showed improvement or healing of their symptoms. The safety of the therapy was very good with an overall incidence of adverse events of 2.1% (mainly gastrointestinal disorders with 1.5%). In those patients who got concomitant medication as well, it could be shown that the additional application of antibiotics had no benefit respective to efficacy but did increase the relative risk for the occurrence of side effects by 26%. In conclusion, it is to say that the dried ivy leaf extract is effective and well tolerated in patients with bronchitis. In view of the large population considered, future analyses should approach specific issues concerning therapy by age group, concomitant therapy and baseline conditions.\"\n",
    "CONFIDENCE = '0.5'\n",
    "SUPPORT = '10'\n",
    "REQUEST = BASE_URL.format(\n",
    "    text=urllib.parse.quote_plus(TEXT), \n",
    "    confidence=CONFIDENCE, \n",
    "    support=SUPPORT\n",
    ")\n",
    "HEADERS = {'Accept': 'application/json'}\n",
    "#sparql = SPARQLWrapper(\"http://dbpedia.org/sparql\")\n",
    "all_urls = []\n",
    "\n",
    "r = requests.get(url=REQUEST, headers=HEADERS)\n",
    "response = r.json()\n",
    "resources = response['Resources']\n",
    "for res in resources:\n",
    "    all_urls.append(res['@URI'])\n",
    "print(all_urls)"
   ]
  },
  {
   "cell_type": "code",
   "execution_count": 3,
   "metadata": {},
   "outputs": [
    {
     "name": "stdout",
     "output_type": "stream",
     "text": [
      "ciao1\n",
      "ciao2\n",
      "b''\n"
     ]
    },
    {
     "ename": "AttributeError",
     "evalue": "'bytes' object has no attribute 'content'",
     "output_type": "error",
     "traceback": [
      "\u001b[1;31m---------------------------------------------------------------------------\u001b[0m",
      "\u001b[1;31mAttributeError\u001b[0m                            Traceback (most recent call last)",
      "\u001b[1;32m<ipython-input-3-e4c517f311fc>\u001b[0m in \u001b[0;36m<module>\u001b[1;34m\u001b[0m\n\u001b[0;32m     10\u001b[0m \u001b[0mresponse_TCP\u001b[0m \u001b[1;33m=\u001b[0m  \u001b[0ms\u001b[0m\u001b[1;33m.\u001b[0m\u001b[0mrecv\u001b[0m\u001b[1;33m(\u001b[0m\u001b[1;36m2048\u001b[0m\u001b[1;33m)\u001b[0m\u001b[1;33m\u001b[0m\u001b[1;33m\u001b[0m\u001b[0m\n\u001b[0;32m     11\u001b[0m \u001b[0mprint\u001b[0m\u001b[1;33m(\u001b[0m\u001b[0mresponse_TCP\u001b[0m\u001b[1;33m)\u001b[0m\u001b[1;33m\u001b[0m\u001b[1;33m\u001b[0m\u001b[0m\n\u001b[1;32m---> 12\u001b[1;33m \u001b[0mcontent\u001b[0m \u001b[1;33m=\u001b[0m \u001b[0mjson\u001b[0m\u001b[1;33m.\u001b[0m\u001b[0mloads\u001b[0m\u001b[1;33m(\u001b[0m\u001b[0mresponse_TCP\u001b[0m\u001b[1;33m.\u001b[0m\u001b[0mcontent\u001b[0m\u001b[1;33m)\u001b[0m\u001b[1;33m\u001b[0m\u001b[1;33m\u001b[0m\u001b[0m\n\u001b[0m\u001b[0;32m     13\u001b[0m \u001b[1;31m#print(content)\u001b[0m\u001b[1;33m\u001b[0m\u001b[1;33m\u001b[0m\u001b[1;33m\u001b[0m\u001b[0m\n\u001b[0;32m     14\u001b[0m \u001b[1;32mfor\u001b[0m \u001b[0mj\u001b[0m \u001b[1;32min\u001b[0m \u001b[0mcontent\u001b[0m\u001b[1;33m[\u001b[0m\u001b[1;34m\"http://dbpedia.org/resource/Italy\"\u001b[0m\u001b[1;33m]\u001b[0m\u001b[1;33m:\u001b[0m\u001b[1;33m\u001b[0m\u001b[1;33m\u001b[0m\u001b[0m\n",
      "\u001b[1;31mAttributeError\u001b[0m: 'bytes' object has no attribute 'content'"
     ]
    }
   ],
   "source": [
    "import json\n",
    "import socket\n",
    "s=socket.socket()  #creo il socket\n",
    "s.connect((\"www.dbpedia.org\",80)) #connessione a google\n",
    "#response = requests.post('http://dbpedia.org/resource/Italy',headers={\"Accept\":\"application/json\"})\n",
    "richiesta = 'POST https://dbpedia.org/resource/Italy'\n",
    "print(\"ciao1\")\n",
    "s.send(richiesta.encode())\n",
    "print(\"ciao2\")\n",
    "response_TCP =  s.recv(2048)\n",
    "print(response_TCP)\n",
    "content = json.loads(response_TCP.content)\n",
    "#print(content)\n",
    "for j in content[\"http://dbpedia.org/resource/Italy\"]:\n",
    "    if(j == \"http://dbpedia.org/ontology/abstract\"):\n",
    "        for cont in content[\"http://dbpedia.org/resource/Italy\"][j]:\n",
    "            if cont[\"lang\"]==\"it\":\n",
    "                print(cont['value'])"
   ]
  },
  {
   "cell_type": "code",
   "execution_count": null,
   "metadata": {},
   "outputs": [],
   "source": []
  },
  {
   "cell_type": "code",
   "execution_count": null,
   "metadata": {},
   "outputs": [],
   "source": []
  }
 ],
 "metadata": {
  "kernelspec": {
   "display_name": "Python 3 (ipykernel)",
   "language": "python",
   "name": "python3"
  },
  "language_info": {
   "codemirror_mode": {
    "name": "ipython",
    "version": 3
   },
   "file_extension": ".py",
   "mimetype": "text/x-python",
   "name": "python",
   "nbconvert_exporter": "python",
   "pygments_lexer": "ipython3",
   "version": "3.8.6"
  }
 },
 "nbformat": 4,
 "nbformat_minor": 4
}
