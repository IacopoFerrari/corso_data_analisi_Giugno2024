{
 "cells": [
  {
   "cell_type": "markdown",
   "id": "b7fce710-efe7-4b00-a6ae-1325f02aac37",
   "metadata": {},
   "source": [
    "# INTRODUZIONE ALLA LIBRERIA NUMPY"
   ]
  },
  {
   "cell_type": "code",
   "execution_count": 32,
   "id": "664aff36-1091-4244-ac4c-98c8f06e2188",
   "metadata": {},
   "outputs": [],
   "source": [
    "import numpy as np\n",
    "# https://numpy.org/doc/stable/reference/arrays.html"
   ]
  },
  {
   "cell_type": "code",
   "execution_count": 33,
   "id": "d8edb571-8e13-41a1-af2c-5ca923189826",
   "metadata": {},
   "outputs": [],
   "source": [
    "arr = np.array([[0,0,0,0], [0,3,2,0]])"
   ]
  },
  {
   "cell_type": "code",
   "execution_count": 34,
   "id": "dd5d9133-74b2-4edc-ad54-d703d47308dd",
   "metadata": {},
   "outputs": [
    {
     "data": {
      "text/plain": [
       "(2, 4)"
      ]
     },
     "execution_count": 34,
     "metadata": {},
     "output_type": "execute_result"
    }
   ],
   "source": [
    "arr.shape\n",
    "#arr.size"
   ]
  },
  {
   "cell_type": "code",
   "execution_count": 35,
   "id": "e432204b-7fc8-440e-9d1c-4d4cb45ff54f",
   "metadata": {},
   "outputs": [],
   "source": [
    "arr2 = np.array([0,1,2,3,4])"
   ]
  },
  {
   "cell_type": "code",
   "execution_count": 36,
   "id": "4b053273-c9a5-4b42-b10a-e1119522e4a6",
   "metadata": {},
   "outputs": [
    {
     "data": {
      "text/plain": [
       "(5,)"
      ]
     },
     "execution_count": 36,
     "metadata": {},
     "output_type": "execute_result"
    }
   ],
   "source": [
    "arr2.shape"
   ]
  },
  {
   "cell_type": "code",
   "execution_count": 37,
   "id": "ee6ffaef-b3c4-4930-8bd2-852cf148e48e",
   "metadata": {},
   "outputs": [],
   "source": [
    "#arr?"
   ]
  },
  {
   "cell_type": "code",
   "execution_count": 38,
   "id": "77cb7850-005b-4f67-a5d6-6e1bc45b6442",
   "metadata": {},
   "outputs": [],
   "source": [
    "arr2 = np.arange(5) # crea un array intero crescente a partire da 0\n",
    "# si possono creare di step personalizzati con start e stop personalizzati con np.arange"
   ]
  },
  {
   "cell_type": "code",
   "execution_count": 39,
   "id": "5d4ce1cf-a08e-4f0a-af83-08dc5ec2891d",
   "metadata": {},
   "outputs": [
    {
     "data": {
      "text/plain": [
       "array([0, 1, 2, 3, 4])"
      ]
     },
     "execution_count": 39,
     "metadata": {},
     "output_type": "execute_result"
    }
   ],
   "source": [
    "arr2"
   ]
  },
  {
   "cell_type": "code",
   "execution_count": 40,
   "id": "b7b58c84-85e3-4530-8c40-98eaf9764354",
   "metadata": {},
   "outputs": [],
   "source": [
    "l=[1,2]"
   ]
  },
  {
   "cell_type": "code",
   "execution_count": 41,
   "id": "6bc24d4f-5821-4756-bd08-f5e6e02c8c78",
   "metadata": {},
   "outputs": [
    {
     "data": {
      "text/plain": [
       "array([1, 2])"
      ]
     },
     "execution_count": 41,
     "metadata": {},
     "output_type": "execute_result"
    }
   ],
   "source": [
    "np.asarray(l)"
   ]
  },
  {
   "cell_type": "code",
   "execution_count": 42,
   "id": "cc6486ec-7498-41ba-9e6f-a1e52ec5ef9b",
   "metadata": {},
   "outputs": [
    {
     "data": {
      "text/plain": [
       "\u001b[1;31mType:\u001b[0m        list\n",
       "\u001b[1;31mString form:\u001b[0m [1, 2]\n",
       "\u001b[1;31mLength:\u001b[0m      2\n",
       "\u001b[1;31mDocstring:\u001b[0m  \n",
       "Built-in mutable sequence.\n",
       "\n",
       "If no argument is given, the constructor creates a new empty list.\n",
       "The argument must be an iterable if specified.\n"
      ]
     },
     "metadata": {},
     "output_type": "display_data"
    }
   ],
   "source": [
    "l?"
   ]
  },
  {
   "cell_type": "markdown",
   "id": "0feb92dc-8d1a-4a23-8690-048338db4d90",
   "metadata": {},
   "source": [
    "# Differenza tra liste e numpy array\n",
    "- Le liste sono native di python, mentre gli array sono della libreria numpy\n",
    "- Le liste possono contenere tipi eterogenei, mentre gli array hanno elementi omogenei (o meglio *dovrebbero*)"
   ]
  },
  {
   "cell_type": "markdown",
   "id": "b78e33e3-816a-4ff1-84ad-80ee3f3bb2cb",
   "metadata": {},
   "source": [
    "# Perché usare gli array con numpy\n",
    "Gli array hanno avanzati metodi di manipolazione dati che sono sia più facili per il programmatore sia più efficienti rispetto alle liste. \n",
    "Dunque per calcoli onerosi è consigliato usare quest'ultimi\n",
    "\n",
    "## Esempio:"
   ]
  },
  {
   "cell_type": "code",
   "execution_count": 43,
   "id": "ee7fe5e6-dced-48cb-a545-a79b20d308a3",
   "metadata": {},
   "outputs": [
    {
     "name": "stdout",
     "output_type": "stream",
     "text": [
      "(1, 7)\n",
      "(2, 8)\n",
      "(3, 9)\n"
     ]
    }
   ],
   "source": [
    "lista1 = [1,2,3]\n",
    "lista2 = [7,8,9]\n",
    "for coord in zip(lista1,lista2):\n",
    "    print(coord)"
   ]
  },
  {
   "cell_type": "code",
   "execution_count": 44,
   "id": "0a0a5d86-7f5e-4708-9e2e-7bfb45635350",
   "metadata": {},
   "outputs": [
    {
     "name": "stdout",
     "output_type": "stream",
     "text": [
      "Time to aggregate elements from each of the iterables:\n",
      "List:\n",
      "373.0740547180176\n",
      "NumPy array:\n",
      "92.97728538513184\n"
     ]
    }
   ],
   "source": [
    "import time\n",
    "# Defining the size of the arrays\n",
    "SIZE = 2000000\n",
    "\n",
    "# Creating lists and NumPy arrays of integers from 0 to SIZE - 1\n",
    "list1 = range(SIZE)\n",
    "list2 = range(SIZE)\n",
    "arra1 = np.arange(SIZE)\n",
    "arra2 = np.arange(SIZE)\n",
    "\n",
    "# Measuring the time taken to aggregate elements from each iterable using a list comprehension\n",
    "start_list = time.time()  # Marking the start time\n",
    "result = [(x, y) for x, y in zip(list1, list2)]  # Aggregating elements from 'list1' and 'list2' using list comprehension\n",
    "print(\"Time to aggregate elements from each of the iterables:\")\n",
    "print(\"List:\")\n",
    "print((time.time() - start_list) * 1000)  # Printing the execution time in milliseconds\n",
    "\n",
    "# Measuring the time taken to add NumPy arrays element-wise\n",
    "start_array = time.time()  # Marking the start time\n",
    "result = arra1 + arra2  # Performing element-wise addition on 'arra1' and 'arra2' using NumPy\n",
    "print(\"NumPy array:\")\n",
    "print((time.time() - start_array) * 1000)  # Printing the execution time in milliseconds\n"
   ]
  },
  {
   "cell_type": "code",
   "execution_count": 45,
   "id": "3f5fa217-ed3d-40b8-b83a-0c8040215475",
   "metadata": {},
   "outputs": [
    {
     "data": {
      "text/plain": [
       "array([0.57674085, 0.37995673, 0.62853058])"
      ]
     },
     "execution_count": 45,
     "metadata": {},
     "output_type": "execute_result"
    }
   ],
   "source": [
    "diag = np.eye(5, dtype=int)\n",
    "ones = np.ones(5)\n",
    "zeros = np.zeros(5)\n",
    "lin = np.linspace(0, 20, num=5)\n",
    "r = np.random.default_rng()\n",
    "r.random(3)"
   ]
  },
  {
   "cell_type": "code",
   "execution_count": 46,
   "id": "496fea67-bc41-4c67-8676-b4117e0ea37e",
   "metadata": {},
   "outputs": [],
   "source": [
    "emp = np.empty(5) # crea un array vuoto. Vuoto nel senso che non cambia lo stato delle celle di memoria che vengono assegnate all'array"
   ]
  },
  {
   "cell_type": "code",
   "execution_count": 47,
   "id": "2d6ca85c-6ba4-4506-9a36-57ed5ecfe358",
   "metadata": {},
   "outputs": [
    {
     "data": {
      "text/plain": [
       "array([1.11703892e-311, 4.67296746e-307, 1.69121096e-306, 1.42417901e-306,\n",
       "       1.84565979e-317])"
      ]
     },
     "execution_count": 47,
     "metadata": {},
     "output_type": "execute_result"
    }
   ],
   "source": [
    "emp"
   ]
  },
  {
   "cell_type": "code",
   "execution_count": 48,
   "id": "b62b96e1-7915-48a6-90ec-3002ad8de45c",
   "metadata": {},
   "outputs": [
    {
     "data": {
      "text/plain": [
       "array([ 0.,  5., 10., 15., 20.])"
      ]
     },
     "execution_count": 48,
     "metadata": {},
     "output_type": "execute_result"
    }
   ],
   "source": [
    "lin"
   ]
  },
  {
   "cell_type": "code",
   "execution_count": 49,
   "id": "b5f9a033-c35b-4e5e-932b-827a86ee3be8",
   "metadata": {},
   "outputs": [
    {
     "data": {
      "text/plain": [
       "array([[5, 0, 0, 0, 0],\n",
       "       [0, 4, 0, 0, 0],\n",
       "       [0, 0, 3, 0, 0],\n",
       "       [0, 0, 0, 2, 0],\n",
       "       [0, 0, 0, 0, 1]])"
      ]
     },
     "execution_count": 49,
     "metadata": {},
     "output_type": "execute_result"
    }
   ],
   "source": [
    "diag*[5,4,3,2,1] #supporta anche la moltiplicazione con scalari"
   ]
  },
  {
   "cell_type": "code",
   "execution_count": 50,
   "id": "aa0678ba-b7e0-432c-9cfb-60d84cc41fec",
   "metadata": {},
   "outputs": [],
   "source": [
    "newd = diag*[2,0,1,3,0] #supporta la moltiplicazione tra liste e array (compatibilmente con le regole di moltiplicazione matriciale)"
   ]
  },
  {
   "cell_type": "code",
   "execution_count": 51,
   "id": "5d7bef55-5bde-4878-bb46-651b8d628e72",
   "metadata": {},
   "outputs": [],
   "source": [
    "conc = np.sort(newd) # ordina gli array"
   ]
  },
  {
   "cell_type": "code",
   "execution_count": 52,
   "id": "5c2eae4c-d8e4-4be6-8084-1e8782be34e6",
   "metadata": {},
   "outputs": [
    {
     "data": {
      "text/plain": [
       "array([[0, 0, 0, 0, 2],\n",
       "       [0, 0, 0, 0, 0],\n",
       "       [0, 0, 0, 0, 1],\n",
       "       [0, 0, 0, 0, 3],\n",
       "       [0, 0, 0, 0, 0]])"
      ]
     },
     "execution_count": 52,
     "metadata": {},
     "output_type": "execute_result"
    }
   ],
   "source": [
    "conc"
   ]
  },
  {
   "cell_type": "code",
   "execution_count": 53,
   "id": "64aa9c7c-83b1-4b1c-bd5f-cafbb11168ab",
   "metadata": {},
   "outputs": [
    {
     "data": {
      "text/plain": [
       "array([0, 1, 3, 4])"
      ]
     },
     "execution_count": 53,
     "metadata": {},
     "output_type": "execute_result"
    }
   ],
   "source": [
    "# ordinare un array\n",
    "np.sort(np.array([1,0,4,3])) \n",
    "    "
   ]
  },
  {
   "cell_type": "code",
   "execution_count": 54,
   "id": "c68ddf3c-a19e-4239-ba37-f9463b2d243e",
   "metadata": {},
   "outputs": [
    {
     "data": {
      "text/plain": [
       "array([1, 0, 3, 2], dtype=int64)"
      ]
     },
     "execution_count": 54,
     "metadata": {},
     "output_type": "execute_result"
    }
   ],
   "source": [
    "#ordinare gli indici\n",
    "np.argsort(np.array([1,0,4,3]))"
   ]
  },
  {
   "cell_type": "code",
   "execution_count": 55,
   "id": "e0f5ba21-44bc-40b1-8a3e-cbb0f7041226",
   "metadata": {},
   "outputs": [
    {
     "data": {
      "text/plain": [
       "array([1, 2, 3, 4, 5, 6, 7, 8])"
      ]
     },
     "execution_count": 55,
     "metadata": {},
     "output_type": "execute_result"
    }
   ],
   "source": [
    "a = np.array([1, 2, 3, 4])\n",
    "b = np.array([5, 6, 7, 8])\n",
    "np.concatenate((a,b))"
   ]
  },
  {
   "cell_type": "code",
   "execution_count": 56,
   "id": "56c65330-0679-4303-bdc8-a1185954593b",
   "metadata": {},
   "outputs": [
    {
     "data": {
      "text/plain": [
       "array([[1, 2, 3, 4, 0, 2, 4, 6],\n",
       "       [5, 6, 7, 8, 1, 3, 5, 7]])"
      ]
     },
     "execution_count": 56,
     "metadata": {},
     "output_type": "execute_result"
    }
   ],
   "source": [
    "a = np.array([[1, 2, 3, 4],[5, 6, 7, 8]])\n",
    "b = np.array([[0, 2, 4, 6], [1, 3, 5, 7]])\n",
    "np.concatenate((a,b),axis=1) #asse è sinonimo di dimensione"
   ]
  },
  {
   "cell_type": "code",
   "execution_count": 57,
   "id": "55c84e4b-4fdc-4652-a9fb-2b4e0ef57eaf",
   "metadata": {},
   "outputs": [
    {
     "data": {
      "text/plain": [
       "array([[0, 1, 2],\n",
       "       [3, 4, 5]])"
      ]
     },
     "execution_count": 57,
     "metadata": {},
     "output_type": "execute_result"
    }
   ],
   "source": [
    "#reshape an array:\n",
    "a = np.arange(6) # --> crea array [0,1,2,3,4,5]\n",
    "a.reshape(2,3)"
   ]
  },
  {
   "cell_type": "code",
   "execution_count": 58,
   "id": "cd2b80fe-d047-456c-a87d-29d34add1eac",
   "metadata": {},
   "outputs": [
    {
     "data": {
      "text/plain": [
       "(6,)"
      ]
     },
     "execution_count": 58,
     "metadata": {},
     "output_type": "execute_result"
    }
   ],
   "source": [
    "# un array standard ha una sola dimension\n",
    "a = np.array([1, 2, 3, 4, 5, 6])\n",
    "a.shape"
   ]
  },
  {
   "cell_type": "code",
   "execution_count": 59,
   "id": "63b9d353-2050-45f8-a1cb-06432a41ac0e",
   "metadata": {},
   "outputs": [],
   "source": [
    "# per trasformarlo in un array con due dimensioni:\n",
    "a2 = a[np.newaxis, :]"
   ]
  },
  {
   "cell_type": "code",
   "execution_count": 60,
   "id": "8728cc45-9b49-4592-be55-7aaaef8e69ac",
   "metadata": {},
   "outputs": [
    {
     "data": {
      "text/plain": [
       "(1, 6)"
      ]
     },
     "execution_count": 60,
     "metadata": {},
     "output_type": "execute_result"
    }
   ],
   "source": [
    "a2.shape"
   ]
  },
  {
   "cell_type": "code",
   "execution_count": 61,
   "id": "8cfe01b2-5245-497b-ab31-3ab2ea562ae3",
   "metadata": {},
   "outputs": [
    {
     "data": {
      "text/plain": [
       "array([[1, 2, 3, 4],\n",
       "       [5, 6, 7, 8]])"
      ]
     },
     "execution_count": 61,
     "metadata": {},
     "output_type": "execute_result"
    }
   ],
   "source": [
    "#SLICING\n",
    "a = np.array([[1 , 2, 3, 4], [5, 6, 7, 8], [9, 10, 11, 12]])\n",
    "a[0:2] # si fa slicing come nelle liste"
   ]
  },
  {
   "cell_type": "code",
   "execution_count": 62,
   "id": "3f918ac1-94d2-4625-8c9f-70b1b8c3e557",
   "metadata": {},
   "outputs": [
    {
     "data": {
      "text/plain": [
       "array([ 1,  2,  3,  4,  5, 10, 11, 12])"
      ]
     },
     "execution_count": 62,
     "metadata": {},
     "output_type": "execute_result"
    }
   ],
   "source": [
    "a[( a < 6 ) | (a > 9)] # slicing condizionale"
   ]
  },
  {
   "cell_type": "code",
   "execution_count": 63,
   "id": "b1bb6821-7106-4bea-855e-feac6341bc8d",
   "metadata": {},
   "outputs": [],
   "source": [
    "a1 = np.array([[1, 1],[2, 2]])\n",
    "a2 = np.array([[3, 3],[4, 4]])"
   ]
  },
  {
   "cell_type": "code",
   "execution_count": 64,
   "id": "50f568f5-0e53-46fd-9465-cfc2373e50a5",
   "metadata": {},
   "outputs": [
    {
     "data": {
      "text/plain": [
       "array([[1, 1],\n",
       "       [2, 2],\n",
       "       [3, 3],\n",
       "       [4, 4]])"
      ]
     },
     "execution_count": 64,
     "metadata": {},
     "output_type": "execute_result"
    }
   ],
   "source": [
    "#alternativa a concatenate\n",
    "np.vstack((a1,a2))"
   ]
  },
  {
   "cell_type": "code",
   "execution_count": 66,
   "id": "79e8a597-a00d-489c-9a75-84837271bfc5",
   "metadata": {},
   "outputs": [
    {
     "data": {
      "text/plain": [
       "array([[1, 1, 3, 3],\n",
       "       [2, 2, 4, 4]])"
      ]
     },
     "execution_count": 66,
     "metadata": {},
     "output_type": "execute_result"
    }
   ],
   "source": [
    "np.hstack((a1,a2))"
   ]
  },
  {
   "cell_type": "markdown",
   "id": "93d7e3ee-0d18-4f4e-adc0-dec6ef45c202",
   "metadata": {},
   "source": [
    "# DIFFERENZA TRA ARRAY e MATRICI\n",
    "### `np.array`\n",
    "\n",
    "- **Generico**: `np.array` è un array generico che può essere usato per rappresentare vettori, matrici e n-d array.\n",
    "- **Operazioni element-wise**: Le operazioni aritmetiche su `np.array` sono eseguite elemento per elemento (element-wise).\n",
    "- **Dimensioni**: Può avere più di due dimensioni.\n",
    "- **Metodi di creazione**: Si usa `numpy.array()` per creare un array.\n",
    "- **Versatilità**: Può rappresentare sia vettori che matrici e supporta broadcasting, indexing, slicing, ecc.\n"
   ]
  },
  {
   "cell_type": "code",
   "execution_count": 67,
   "id": "40e6f4f1-5b3b-465c-88c6-4169758a3f17",
   "metadata": {},
   "outputs": [
    {
     "name": "stdout",
     "output_type": "stream",
     "text": [
      "[[1 2]\n",
      " [3 4]]\n",
      "\n",
      "risultato array * array:\n",
      "[[ 1  4]\n",
      " [ 9 16]]\n"
     ]
    }
   ],
   "source": [
    "array = np.array([[1, 2], [3, 4]])\n",
    "print(array)\n",
    "\n",
    "# Operazione element-wise\n",
    "print(\"\\nrisultato array * array:\")\n",
    "print(array * array)\n",
    "\n"
   ]
  },
  {
   "cell_type": "markdown",
   "id": "247fb5a6-6277-487a-86a4-a63d2df50d60",
   "metadata": {},
   "source": [
    "\n",
    "### `np.matrix`\n",
    "\n",
    "- **Specializzato**: `np.matrix` è una classe specifica per rappresentare matrici (solo 2D).\n",
    "- **Operazioni di algebra lineare**: Le operazioni aritmetiche su `np.matrix` sono operazioni di algebra lineare. Ad esempio, l'operatore `*` esegue la moltiplicazione tra matrici.\n",
    "- **Sempre 2D**: `np.matrix` è sempre bidimensionale.\n",
    "- **Metodi di creazione**: Si usa `numpy.matrix()` o `numpy.mat()` per creare una matrice.\n",
    "- **Deprecato**: L'uso di `np.matrix` è sconsigliato e considerato deprecato perché `np.array` è più flessibile e integrato con il resto dell'ecosistema numpy.\n"
   ]
  },
  {
   "cell_type": "code",
   "execution_count": 68,
   "id": "72f3d583-8275-47f4-b076-bbab0721a540",
   "metadata": {},
   "outputs": [
    {
     "name": "stdout",
     "output_type": "stream",
     "text": [
      "[[1 2]\n",
      " [3 4]]\n",
      "\n",
      "risultato operazione matrix * matrix\n",
      "[[ 7 10]\n",
      " [15 22]]\n"
     ]
    }
   ],
   "source": [
    "matrix = np.matrix([[1, 2], [3, 4]])\n",
    "print(matrix)\n",
    "# Output:\n",
    "# [[1 2]\n",
    "#  [3 4]]\n",
    "\n",
    "# Operazione di algebra lineare\n",
    "print(\"\\nrisultato operazione matrix * matrix\")\n",
    "print(matrix * matrix)\n",
    "# Output:\n",
    "# [[ 7 10]\n",
    "#  [15 22]]\n"
   ]
  }
 ],
 "metadata": {
  "kernelspec": {
   "display_name": "Python 3 (ipykernel)",
   "language": "python",
   "name": "python3"
  },
  "language_info": {
   "codemirror_mode": {
    "name": "ipython",
    "version": 3
   },
   "file_extension": ".py",
   "mimetype": "text/x-python",
   "name": "python",
   "nbconvert_exporter": "python",
   "pygments_lexer": "ipython3",
   "version": "3.8.6"
  }
 },
 "nbformat": 4,
 "nbformat_minor": 5
}
