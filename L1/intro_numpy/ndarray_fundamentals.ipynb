{
 "cells": [
  {
   "cell_type": "code",
   "execution_count": 2,
   "id": "2ff2352a-bea5-4f45-bab5-f0361bd603f9",
   "metadata": {},
   "outputs": [],
   "source": [
    "import numpy as np"
   ]
  },
  {
   "cell_type": "code",
   "execution_count": 3,
   "id": "e4538237-5d79-41ab-9d88-d28da9233949",
   "metadata": {},
   "outputs": [],
   "source": [
    "arr = np.array([[4.2,2],[0,0],[0.4,12]])"
   ]
  },
  {
   "cell_type": "code",
   "execution_count": 4,
   "id": "86596c3b-f6c7-4caf-8e98-d9735a2032f3",
   "metadata": {},
   "outputs": [
    {
     "data": {
      "text/plain": [
       "array([[ 4.2,  2. ],\n",
       "       [ 0. ,  0. ],\n",
       "       [ 0.4, 12. ]])"
      ]
     },
     "execution_count": 4,
     "metadata": {},
     "output_type": "execute_result"
    }
   ],
   "source": [
    "arr"
   ]
  },
  {
   "cell_type": "code",
   "execution_count": 5,
   "id": "5a5bc8bb-09c4-4ccd-8c69-9638f110f8b2",
   "metadata": {},
   "outputs": [
    {
     "data": {
      "text/plain": [
       "(3, 2)"
      ]
     },
     "execution_count": 5,
     "metadata": {},
     "output_type": "execute_result"
    }
   ],
   "source": [
    "arr.shape"
   ]
  },
  {
   "cell_type": "code",
   "execution_count": 6,
   "id": "44b8b9ce-2c4c-4e5c-84e6-8dc3ceb72bbb",
   "metadata": {},
   "outputs": [
    {
     "data": {
      "text/plain": [
       "array([[ 4.2,  2. ,  0. ],\n",
       "       [ 0. ,  0.4, 12. ]])"
      ]
     },
     "execution_count": 6,
     "metadata": {},
     "output_type": "execute_result"
    }
   ],
   "source": [
    "arr.reshape(2,3)"
   ]
  },
  {
   "cell_type": "code",
   "execution_count": 7,
   "id": "957d69df-7ece-48b3-a4f7-be6e25fc15ea",
   "metadata": {},
   "outputs": [
    {
     "data": {
      "text/plain": [
       "dtype('float64')"
      ]
     },
     "execution_count": 7,
     "metadata": {},
     "output_type": "execute_result"
    }
   ],
   "source": [
    "arr.dtype"
   ]
  },
  {
   "cell_type": "code",
   "execution_count": 8,
   "id": "4a6d1738-a308-499b-a145-da34c40f17ec",
   "metadata": {},
   "outputs": [
    {
     "data": {
      "text/plain": [
       "array([0, 1, 2, 3, 4, 5, 6])"
      ]
     },
     "execution_count": 8,
     "metadata": {},
     "output_type": "execute_result"
    }
   ],
   "source": [
    "np.arange(7)"
   ]
  },
  {
   "cell_type": "code",
   "execution_count": 9,
   "id": "7dd5d728-5268-4715-a432-08f5603d8997",
   "metadata": {},
   "outputs": [
    {
     "data": {
      "text/plain": [
       "array([1., 1., 1., 1., 1., 1., 1., 1., 1.])"
      ]
     },
     "execution_count": 9,
     "metadata": {},
     "output_type": "execute_result"
    }
   ],
   "source": [
    "np.ones(9)"
   ]
  },
  {
   "cell_type": "code",
   "execution_count": 10,
   "id": "ff7ec64a-4591-4888-beef-20e9d03273d7",
   "metadata": {},
   "outputs": [
    {
     "data": {
      "text/plain": [
       "array([[1., 1., 1., 1.],\n",
       "       [1., 1., 1., 1.]])"
      ]
     },
     "execution_count": 10,
     "metadata": {},
     "output_type": "execute_result"
    }
   ],
   "source": [
    "np.ones((2,4))"
   ]
  },
  {
   "cell_type": "code",
   "execution_count": 17,
   "id": "749c62a0-aaf3-4ae6-afb0-901edfa7d2c1",
   "metadata": {},
   "outputs": [
    {
     "data": {
      "text/plain": [
       "array([nan,  0.,  0.,  0.,  0.,  0.,  0.,  0.,  0.,  0.])"
      ]
     },
     "execution_count": 17,
     "metadata": {},
     "output_type": "execute_result"
    }
   ],
   "source": [
    "np.empty(10)"
   ]
  },
  {
   "cell_type": "code",
   "execution_count": 21,
   "id": "f6ffcdea-2948-4b87-9613-94ffae2d5872",
   "metadata": {},
   "outputs": [
    {
     "data": {
      "text/plain": [
       "array([[1., 1.],\n",
       "       [1., 1.],\n",
       "       [1., 1.]])"
      ]
     },
     "execution_count": 21,
     "metadata": {},
     "output_type": "execute_result"
    }
   ],
   "source": [
    "arr_0 = np.ones_like(arr)\n",
    "arr_0"
   ]
  },
  {
   "cell_type": "code",
   "execution_count": 34,
   "id": "0e7e87f7-80a9-41ca-aa79-3691b0f1bfcd",
   "metadata": {},
   "outputs": [],
   "source": [
    "arr = np.eye(6, dtype=\"int32\")"
   ]
  },
  {
   "cell_type": "markdown",
   "id": "c2db3814-64d2-416e-8480-086c9e117309",
   "metadata": {},
   "source": [
    "# Aritmetica con Numpy Array "
   ]
  },
  {
   "cell_type": "code",
   "execution_count": 53,
   "id": "d2bd346d-68a9-4ef3-87e1-64a6275b9a70",
   "metadata": {},
   "outputs": [],
   "source": [
    "arr = np.arange(1,24,2)"
   ]
  },
  {
   "cell_type": "code",
   "execution_count": 54,
   "id": "29649752-9ec9-4c81-bf0c-d538023e4cf3",
   "metadata": {},
   "outputs": [
    {
     "data": {
      "text/plain": [
       "array([ 1,  3,  5,  7,  9, 11, 13, 15, 17, 19, 21, 23])"
      ]
     },
     "execution_count": 54,
     "metadata": {},
     "output_type": "execute_result"
    }
   ],
   "source": [
    "arr"
   ]
  },
  {
   "cell_type": "code",
   "execution_count": 55,
   "id": "8d95ef86-af65-4f19-95dc-6739dd29b771",
   "metadata": {},
   "outputs": [],
   "source": [
    "arr = arr.reshape(4,3)"
   ]
  },
  {
   "cell_type": "code",
   "execution_count": 56,
   "id": "9e2adff4-2d4a-4316-af55-3e32104c49a1",
   "metadata": {},
   "outputs": [
    {
     "data": {
      "text/plain": [
       "array([[ 1,  3,  5],\n",
       "       [ 7,  9, 11],\n",
       "       [13, 15, 17],\n",
       "       [19, 21, 23]])"
      ]
     },
     "execution_count": 56,
     "metadata": {},
     "output_type": "execute_result"
    }
   ],
   "source": [
    "arr"
   ]
  },
  {
   "cell_type": "code",
   "execution_count": 57,
   "id": "32e8c569-e720-484a-b734-d791c9879cfb",
   "metadata": {},
   "outputs": [
    {
     "data": {
      "text/plain": [
       "array([[1.        , 0.33333333, 0.2       ],\n",
       "       [0.14285714, 0.11111111, 0.09090909],\n",
       "       [0.07692308, 0.06666667, 0.05882353],\n",
       "       [0.05263158, 0.04761905, 0.04347826]])"
      ]
     },
     "execution_count": 57,
     "metadata": {},
     "output_type": "execute_result"
    }
   ],
   "source": [
    "1/arr"
   ]
  },
  {
   "cell_type": "code",
   "execution_count": 58,
   "id": "898ca71d-c0d6-468c-8113-fb875f119c7d",
   "metadata": {},
   "outputs": [
    {
     "data": {
      "text/plain": [
       "array([[ 2,  6, 10],\n",
       "       [14, 18, 22],\n",
       "       [26, 30, 34],\n",
       "       [38, 42, 46]])"
      ]
     },
     "execution_count": 58,
     "metadata": {},
     "output_type": "execute_result"
    }
   ],
   "source": [
    "arr*2"
   ]
  },
  {
   "cell_type": "code",
   "execution_count": 59,
   "id": "3e596a54-0506-45c3-b688-280b0b1ce8fe",
   "metadata": {},
   "outputs": [
    {
     "data": {
      "text/plain": [
       "array([[ 2,  4,  6],\n",
       "       [ 8, 10, 12],\n",
       "       [14, 16, 18],\n",
       "       [20, 22, 24]])"
      ]
     },
     "execution_count": 59,
     "metadata": {},
     "output_type": "execute_result"
    }
   ],
   "source": [
    "arr + 1"
   ]
  },
  {
   "cell_type": "code",
   "execution_count": null,
   "id": "790aad74-df6f-4093-a168-a48ed06c490b",
   "metadata": {},
   "outputs": [],
   "source": []
  },
  {
   "cell_type": "code",
   "execution_count": 61,
   "id": "0583f7ba-a2df-4cb8-85bf-695bb28dbb89",
   "metadata": {},
   "outputs": [
    {
     "data": {
      "text/plain": [
       "array([[ 1,  3,  5],\n",
       "       [ 7,  9, 11],\n",
       "       [13, 15, 17]])"
      ]
     },
     "execution_count": 61,
     "metadata": {},
     "output_type": "execute_result"
    }
   ],
   "source": [
    "arr[0:3]"
   ]
  },
  {
   "cell_type": "code",
   "execution_count": 64,
   "id": "94278907-4caa-41ce-93fc-0c3d24510b6f",
   "metadata": {},
   "outputs": [
    {
     "data": {
      "text/plain": [
       "array([[ 7,  9, 11],\n",
       "       [13, 15, 17]])"
      ]
     },
     "execution_count": 64,
     "metadata": {},
     "output_type": "execute_result"
    }
   ],
   "source": [
    "arr[1:][:-1]"
   ]
  },
  {
   "cell_type": "markdown",
   "id": "ad1e14a4-ed88-4eed-8731-8a26eec13191",
   "metadata": {},
   "source": [
    "# moltiplicazione matriciale tra array"
   ]
  },
  {
   "cell_type": "code",
   "execution_count": 72,
   "id": "f474970e-82c2-4463-b7c2-e3f1d94ff7dc",
   "metadata": {},
   "outputs": [
    {
     "data": {
      "text/plain": [
       "array([[ 5, 11],\n",
       "       [11, 25]])"
      ]
     },
     "execution_count": 72,
     "metadata": {},
     "output_type": "execute_result"
    }
   ],
   "source": [
    "array = np.array([[1, 2], [3, 4]])\n",
    "array@array.T"
   ]
  },
  {
   "cell_type": "code",
   "execution_count": 73,
   "id": "22d09fdf-1eca-41c2-ac1d-6c097ce348ab",
   "metadata": {},
   "outputs": [
    {
     "data": {
      "text/plain": [
       "array([[ 5, 11],\n",
       "       [11, 25]])"
      ]
     },
     "execution_count": 73,
     "metadata": {},
     "output_type": "execute_result"
    }
   ],
   "source": [
    "# oppure\n",
    "array.dot(array.T)"
   ]
  },
  {
   "cell_type": "code",
   "execution_count": 74,
   "id": "7d2d9dd4-61e2-42d8-bd65-545e5bcaf2b2",
   "metadata": {},
   "outputs": [
    {
     "data": {
      "text/plain": [
       "array([[ 5, 11],\n",
       "       [11, 25]])"
      ]
     },
     "execution_count": 74,
     "metadata": {},
     "output_type": "execute_result"
    }
   ],
   "source": [
    "# o ancora\n",
    "np.dot(array,array.T)"
   ]
  },
  {
   "cell_type": "markdown",
   "id": "6c7d5025-53eb-4b63-9d96-a11f31bcc535",
   "metadata": {},
   "source": [
    "# ESERCIZIETTI\n",
    "- Crea un array di dimensione 10 che vada da 1 a 100 di passo 10\n",
    "- Crea un array di shape (3,2) con i quadrati dei primi 6 numeri\n",
    "- "
   ]
  }
 ],
 "metadata": {
  "kernelspec": {
   "display_name": "Python 3 (ipykernel)",
   "language": "python",
   "name": "python3"
  },
  "language_info": {
   "codemirror_mode": {
    "name": "ipython",
    "version": 3
   },
   "file_extension": ".py",
   "mimetype": "text/x-python",
   "name": "python",
   "nbconvert_exporter": "python",
   "pygments_lexer": "ipython3",
   "version": "3.8.6"
  }
 },
 "nbformat": 4,
 "nbformat_minor": 5
}
