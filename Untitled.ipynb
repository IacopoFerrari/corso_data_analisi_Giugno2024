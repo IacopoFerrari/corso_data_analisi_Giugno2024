{
 "cells": [
  {
   "cell_type": "code",
   "execution_count": 5,
   "id": "400d412b-2dac-4959-889d-deaa841b72c6",
   "metadata": {},
   "outputs": [],
   "source": [
    "import numpy as np"
   ]
  },
  {
   "cell_type": "raw",
   "id": "e5a9a645-ec99-4108-995a-518acb7ff258",
   "metadata": {},
   "source": [
    "cdjsofjclksdnlkcfmsmclk"
   ]
  },
  {
   "cell_type": "markdown",
   "id": "5a69653d-1861-43d2-9055-d5d9564949dc",
   "metadata": {},
   "source": [
    "### TITOLO\n",
    "## SOTTOTITOLO\n",
    "- punto 1 dell' elenco\n",
    "- punto 2"
   ]
  },
  {
   "cell_type": "code",
   "execution_count": 8,
   "id": "78793093-0114-4736-93e7-f46db10b0fed",
   "metadata": {},
   "outputs": [
    {
     "ename": "TypeError",
     "evalue": "'float' object cannot be interpreted as an integer",
     "output_type": "error",
     "traceback": [
      "\u001b[1;31m---------------------------------------------------------------------------\u001b[0m",
      "\u001b[1;31mTypeError\u001b[0m                                 Traceback (most recent call last)",
      "Cell \u001b[1;32mIn[8], line 1\u001b[0m\n\u001b[1;32m----> 1\u001b[0m L \u001b[38;5;241m=\u001b[39m \u001b[38;5;28;43mrange\u001b[39;49m\u001b[43m(\u001b[49m\u001b[38;5;241;43m0\u001b[39;49m\u001b[43m,\u001b[49m\u001b[38;5;241;43m10\u001b[39;49m\u001b[43m,\u001b[49m\u001b[38;5;241;43m1.5\u001b[39;49m\u001b[43m)\u001b[49m\n",
      "\u001b[1;31mTypeError\u001b[0m: 'float' object cannot be interpreted as an integer"
     ]
    }
   ],
   "source": [
    "L = range(0,10,1.5)"
   ]
  },
  {
   "cell_type": "code",
   "execution_count": 11,
   "id": "15c57c35-08dc-414d-852e-05ee128ad675",
   "metadata": {},
   "outputs": [
    {
     "name": "stdout",
     "output_type": "stream",
     "text": [
      "[0.  1.5 3.  4.5 6.  7.5 9. ]\n"
     ]
    }
   ],
   "source": [
    "AR = np.arange(0,10,1.5)\n",
    "print(AR)"
   ]
  },
  {
   "cell_type": "code",
   "execution_count": 20,
   "id": "a5452504-a5c6-46b4-8bf5-b23aa609713a",
   "metadata": {},
   "outputs": [],
   "source": [
    "uni = np.ones((50,50))"
   ]
  },
  {
   "cell_type": "code",
   "execution_count": 21,
   "id": "c5e346d6-953d-42ab-9b38-16776ffaca5b",
   "metadata": {},
   "outputs": [
    {
     "data": {
      "text/plain": [
       "array([[1., 1., 1., ..., 1., 1., 1.],\n",
       "       [1., 1., 1., ..., 1., 1., 1.],\n",
       "       [1., 1., 1., ..., 1., 1., 1.],\n",
       "       ...,\n",
       "       [1., 1., 1., ..., 1., 1., 1.],\n",
       "       [1., 1., 1., ..., 1., 1., 1.],\n",
       "       [1., 1., 1., ..., 1., 1., 1.]])"
      ]
     },
     "execution_count": 21,
     "metadata": {},
     "output_type": "execute_result"
    }
   ],
   "source": [
    "uni"
   ]
  },
  {
   "cell_type": "code",
   "execution_count": 22,
   "id": "7c61e50d-f7ec-4706-9d5a-a25ab154f3b4",
   "metadata": {},
   "outputs": [],
   "source": [
    "vuoti = np.empty(10)"
   ]
  },
  {
   "cell_type": "code",
   "execution_count": 23,
   "id": "a7bb3937-1dec-40d4-9d96-131ce947bbba",
   "metadata": {},
   "outputs": [
    {
     "data": {
      "text/plain": [
       "array([nan,  0.,  0.,  0.,  0.,  0.,  0.,  0.,  0.,  0.])"
      ]
     },
     "execution_count": 23,
     "metadata": {},
     "output_type": "execute_result"
    }
   ],
   "source": [
    "vuoti"
   ]
  },
  {
   "cell_type": "code",
   "execution_count": 24,
   "id": "d47731b9-ba91-402b-a875-7988fde1aac9",
   "metadata": {},
   "outputs": [],
   "source": [
    "uni = np.ones_like(vuoti)"
   ]
  },
  {
   "cell_type": "code",
   "execution_count": 25,
   "id": "ceec8f8f-7b48-42ef-a81d-1f6d7558a4be",
   "metadata": {},
   "outputs": [
    {
     "data": {
      "text/plain": [
       "array([1., 1., 1., 1., 1., 1., 1., 1., 1., 1.])"
      ]
     },
     "execution_count": 25,
     "metadata": {},
     "output_type": "execute_result"
    }
   ],
   "source": [
    "uni"
   ]
  },
  {
   "cell_type": "code",
   "execution_count": 26,
   "id": "e9b92082-45dd-46cf-a6c5-a1af981b66c1",
   "metadata": {},
   "outputs": [],
   "source": [
    "M = np.eye(9)"
   ]
  },
  {
   "cell_type": "code",
   "execution_count": 27,
   "id": "7804980b-14ab-422f-88a8-950caa52bbe4",
   "metadata": {},
   "outputs": [
    {
     "data": {
      "text/plain": [
       "array([[1., 0., 0., 0., 0., 0., 0., 0., 0.],\n",
       "       [0., 1., 0., 0., 0., 0., 0., 0., 0.],\n",
       "       [0., 0., 1., 0., 0., 0., 0., 0., 0.],\n",
       "       [0., 0., 0., 1., 0., 0., 0., 0., 0.],\n",
       "       [0., 0., 0., 0., 1., 0., 0., 0., 0.],\n",
       "       [0., 0., 0., 0., 0., 1., 0., 0., 0.],\n",
       "       [0., 0., 0., 0., 0., 0., 1., 0., 0.],\n",
       "       [0., 0., 0., 0., 0., 0., 0., 1., 0.],\n",
       "       [0., 0., 0., 0., 0., 0., 0., 0., 1.]])"
      ]
     },
     "execution_count": 27,
     "metadata": {},
     "output_type": "execute_result"
    }
   ],
   "source": [
    "M"
   ]
  },
  {
   "cell_type": "code",
   "execution_count": 40,
   "id": "3faa185e-d2ba-43d4-967f-fc8228382a61",
   "metadata": {},
   "outputs": [
    {
     "name": "stdout",
     "output_type": "stream",
     "text": [
      "tempo impiegato da np.arange:  2.147014856338501\n",
      "tempo impiegato con RANGE:  4.512985706329346\n",
      "tempo impiegato con arange senza ciclo for:  0.05096435546875\n"
     ]
    }
   ],
   "source": [
    "import time\n",
    "t_start = time.time()\n",
    "for i in np.arange(10000000):\n",
    "    i**2\n",
    "\n",
    "print(\"tempo impiegato da np.arange: \", time.time() - t_start)\n",
    "\n",
    "t_start = time.time()\n",
    "for i in range(10000000):\n",
    "    i**2\n",
    "\n",
    "print(\"tempo impiegato con RANGE: \", time.time() - t_start)\n",
    "\n",
    "t_start = time.time()\n",
    "np.arange(10000000)**2\n",
    "print(\"tempo impiegato con arange senza ciclo for: \", time.time() - t_start)"
   ]
  },
  {
   "cell_type": "code",
   "execution_count": 37,
   "id": "72f41cc9-8d52-4b8f-a9a7-3729deb97572",
   "metadata": {},
   "outputs": [
    {
     "name": "stdout",
     "output_type": "stream",
     "text": [
      "533 ms ± 82.2 ms per loop (mean ± std. dev. of 7 runs, 1 loop each)\n",
      "196 ms ± 15.1 ms per loop (mean ± std. dev. of 7 runs, 10 loops each)\n",
      "7.47 ms ± 1.22 ms per loop (mean ± std. dev. of 7 runs, 100 loops each)\n"
     ]
    }
   ],
   "source": [
    "import numpy as np\n",
    "import sys\n",
    "\n",
    "sys.version\n",
    "# out: '2.7.3rc2 (default, Mar 22 2012, 04:35:15) \\n[GCC 4.6.3]'\n",
    "np.version.version\n",
    "# out: '1.6.2'\n",
    "\n",
    "size = int(1E6)\n",
    "\n",
    "%timeit for x in range(size): x ** 2\n",
    "# out: 10 loops, best of 3: 136 ms per loop\n",
    "\n",
    "# avoid this\n",
    "%timeit for x in np.arange(size): x ** 2\n",
    "#out: 1 loops, best of 3: 1.16 s per loop\n",
    "\n",
    "# use this\n",
    "%timeit np.arange(size) ** 2\n",
    "#out: 100 loops, best of 3: 19.5 ms per loop\n"
   ]
  },
  {
   "cell_type": "code",
   "execution_count": 41,
   "id": "41e71052-6c6c-4e45-bd32-0fede7ed1919",
   "metadata": {},
   "outputs": [],
   "source": [
    "a = np.arange(10)"
   ]
  },
  {
   "cell_type": "code",
   "execution_count": 42,
   "id": "5e536435-0bc6-40c7-84e5-50792dafec92",
   "metadata": {},
   "outputs": [
    {
     "data": {
      "text/plain": [
       "array([0, 1, 2, 3, 4, 5, 6, 7, 8, 9])"
      ]
     },
     "execution_count": 42,
     "metadata": {},
     "output_type": "execute_result"
    }
   ],
   "source": [
    "a"
   ]
  },
  {
   "cell_type": "code",
   "execution_count": 43,
   "id": "7ebf39aa-99c5-4f1e-b264-e5c394c5f3f3",
   "metadata": {},
   "outputs": [],
   "source": [
    "a[1:3] = 99"
   ]
  },
  {
   "cell_type": "code",
   "execution_count": 44,
   "id": "cafaed48-7dd4-4aea-a20f-0d20301dc068",
   "metadata": {},
   "outputs": [
    {
     "data": {
      "text/plain": [
       "array([ 0, 99, 99,  3,  4,  5,  6,  7,  8,  9])"
      ]
     },
     "execution_count": 44,
     "metadata": {},
     "output_type": "execute_result"
    }
   ],
   "source": [
    "a"
   ]
  },
  {
   "cell_type": "code",
   "execution_count": 46,
   "id": "71d898a3-b031-4d03-89d3-5ce05db3aefe",
   "metadata": {},
   "outputs": [
    {
     "data": {
      "text/plain": [
       "array([ 0. ,  2.5,  5. ,  7.5, 10. , 12.5, 15. , 17.5, 20. ])"
      ]
     },
     "execution_count": 46,
     "metadata": {},
     "output_type": "execute_result"
    }
   ],
   "source": [
    "lin = np.linspace(0, 20, 9)\n",
    "lin"
   ]
  },
  {
   "cell_type": "code",
   "execution_count": null,
   "id": "85cb62a6-5213-4c9f-8346-b27a09d5143b",
   "metadata": {},
   "outputs": [],
   "source": []
  },
  {
   "cell_type": "code",
   "execution_count": null,
   "id": "fb7fcf5e-c667-4b93-a7a8-9d281866a86f",
   "metadata": {},
   "outputs": [],
   "source": []
  },
  {
   "cell_type": "code",
   "execution_count": null,
   "id": "993ba93b-9d35-409a-8bfd-9c3c91983f3c",
   "metadata": {},
   "outputs": [],
   "source": []
  }
 ],
 "metadata": {
  "kernelspec": {
   "display_name": "Python 3 (ipykernel)",
   "language": "python",
   "name": "python3"
  },
  "language_info": {
   "codemirror_mode": {
    "name": "ipython",
    "version": 3
   },
   "file_extension": ".py",
   "mimetype": "text/x-python",
   "name": "python",
   "nbconvert_exporter": "python",
   "pygments_lexer": "ipython3",
   "version": "3.8.6"
  }
 },
 "nbformat": 4,
 "nbformat_minor": 5
}
