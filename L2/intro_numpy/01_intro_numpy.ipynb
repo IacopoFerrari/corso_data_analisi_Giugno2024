{
 "cells": [
  {
   "cell_type": "markdown",
   "id": "c93b2a8b-5e04-4773-8684-a323b4332abc",
   "metadata": {},
   "source": [
    "<div>\n",
    "<img src=\"https://upload.wikimedia.org/wikipedia/commons/3/31/NumPy_logo_2020.svg\" width=\"500\"/>\n",
    "</div>\n"
   ]
  },
  {
   "cell_type": "code",
   "execution_count": 2,
   "id": "191f7fba-b656-432a-87d3-947e52d1c249",
   "metadata": {},
   "outputs": [],
   "source": [
    "import numpy as np\n",
    "# https://numpy.org/doc/stable/reference/arrays.html"
   ]
  },
  {
   "cell_type": "markdown",
   "id": "c5f85a30-e806-435f-9d0e-6db713aad824",
   "metadata": {},
   "source": [
    "### N-dimensional array Object detto anche ndarray"
   ]
  },
  {
   "cell_type": "code",
   "execution_count": 11,
   "id": "d8edb571-8e13-41a1-af2c-5ca923189826",
   "metadata": {},
   "outputs": [
    {
     "name": "stdout",
     "output_type": "stream",
     "text": [
      "[[0 0 0 0]\n",
      " [0 3 2 0]]\n"
     ]
    }
   ],
   "source": [
    "arr = np.array([[0,0,0,0], [0,3,2,0]]) # matrice 2 righe e 4 colonne\n",
    "print(arr)"
   ]
  },
  {
   "cell_type": "code",
   "execution_count": 12,
   "id": "dd5d9133-74b2-4edc-ad54-d703d47308dd",
   "metadata": {},
   "outputs": [
    {
     "data": {
      "text/plain": [
       "dtype('int32')"
      ]
     },
     "execution_count": 12,
     "metadata": {},
     "output_type": "execute_result"
    }
   ],
   "source": [
    "arr.dtype\n",
    "#arr.size"
   ]
  },
  {
   "cell_type": "code",
   "execution_count": 16,
   "id": "e432204b-7fc8-440e-9d1c-4d4cb45ff54f",
   "metadata": {},
   "outputs": [],
   "source": [
    "arr2 = np.atleast_2d(np.array([0,1,2,3,4]))"
   ]
  },
  {
   "cell_type": "code",
   "execution_count": 17,
   "id": "4b053273-c9a5-4b42-b10a-e1119522e4a6",
   "metadata": {},
   "outputs": [
    {
     "data": {
      "text/plain": [
       "(1, 5)"
      ]
     },
     "execution_count": 17,
     "metadata": {},
     "output_type": "execute_result"
    }
   ],
   "source": [
    "arr2.shape"
   ]
  },
  {
   "cell_type": "code",
   "execution_count": 18,
   "id": "7d603730-8176-42e6-9076-129cc557f2d1",
   "metadata": {},
   "outputs": [
    {
     "data": {
      "text/plain": [
       "dtype('int32')"
      ]
     },
     "execution_count": 18,
     "metadata": {},
     "output_type": "execute_result"
    }
   ],
   "source": [
    "arr.dtype"
   ]
  },
  {
   "cell_type": "code",
   "execution_count": 19,
   "id": "bad57c68-6d90-47f7-b06a-e2e77b1dd9e3",
   "metadata": {},
   "outputs": [],
   "source": [
    "arr3 = np.array([[0,0,0,0], [0,3,2,0]], dtype=np.float64)"
   ]
  },
  {
   "cell_type": "code",
   "execution_count": 20,
   "id": "25ae18e5-37e7-471e-b15b-9eb01574a15b",
   "metadata": {},
   "outputs": [
    {
     "data": {
      "text/plain": [
       "array([[0., 0., 0., 0.],\n",
       "       [0., 3., 2., 0.]])"
      ]
     },
     "execution_count": 20,
     "metadata": {},
     "output_type": "execute_result"
    }
   ],
   "source": [
    "arr3"
   ]
  },
  {
   "cell_type": "code",
   "execution_count": 21,
   "id": "8277f581-344f-4bd9-a5f7-ba28d4df9441",
   "metadata": {},
   "outputs": [
    {
     "data": {
      "text/plain": [
       "dtype('float64')"
      ]
     },
     "execution_count": 21,
     "metadata": {},
     "output_type": "execute_result"
    }
   ],
   "source": [
    "arr3.dtype"
   ]
  },
  {
   "cell_type": "markdown",
   "id": "0aeac032-397f-4ef5-9a45-7a68ee3e222a",
   "metadata": {},
   "source": [
    "#Possiamo trasformare il tipo di dati contenuti in un array con il metodo astype(nuovo_tipo)"
   ]
  },
  {
   "cell_type": "code",
   "execution_count": 22,
   "id": "1fc8f7aa-a586-4cd6-8e4b-330160577299",
   "metadata": {},
   "outputs": [
    {
     "data": {
      "text/plain": [
       "array([[0, 0, 0, 0],\n",
       "       [0, 3, 2, 0]])"
      ]
     },
     "execution_count": 22,
     "metadata": {},
     "output_type": "execute_result"
    }
   ],
   "source": [
    "arr3.astype(np.int32)"
   ]
  },
  {
   "cell_type": "code",
   "execution_count": 25,
   "id": "5d428fec-2dab-4192-b498-d96756180d93",
   "metadata": {},
   "outputs": [],
   "source": [
    "mat = np.mat('1.23 2 ; 3 4') #deprecato"
   ]
  },
  {
   "cell_type": "code",
   "execution_count": 24,
   "id": "c3625e91-10b0-40e6-954d-dc6b89f67711",
   "metadata": {},
   "outputs": [
    {
     "name": "stdout",
     "output_type": "stream",
     "text": [
      "[[1.23 2.  ]\n",
      " [3.   4.  ]]\n"
     ]
    }
   ],
   "source": [
    "print(mat)"
   ]
  },
  {
   "cell_type": "code",
   "execution_count": 28,
   "id": "873e7dd4-b000-4940-a3d1-ff27e47c8ee7",
   "metadata": {},
   "outputs": [
    {
     "data": {
      "text/plain": [
       "False"
      ]
     },
     "execution_count": 28,
     "metadata": {},
     "output_type": "execute_result"
    }
   ],
   "source": [
    "arr.all()\n",
    "#arr.any()"
   ]
  },
  {
   "cell_type": "code",
   "execution_count": 29,
   "id": "cfb60481-5e6c-454a-ad8f-239b489b5d47",
   "metadata": {},
   "outputs": [
    {
     "data": {
      "text/plain": [
       "5"
      ]
     },
     "execution_count": 29,
     "metadata": {},
     "output_type": "execute_result"
    }
   ],
   "source": [
    "arr.argmax()"
   ]
  },
  {
   "cell_type": "code",
   "execution_count": 34,
   "id": "77cb7850-005b-4f67-a5d6-6e1bc45b6442",
   "metadata": {},
   "outputs": [],
   "source": [
    "arr2 = np.arange(1,5,1.5) # crea un array intero crescente a partire da 0 range"
   ]
  },
  {
   "cell_type": "code",
   "execution_count": 35,
   "id": "5d4ce1cf-a08e-4f0a-af83-08dc5ec2891d",
   "metadata": {},
   "outputs": [
    {
     "data": {
      "text/plain": [
       "array([1. , 2.5, 4. ])"
      ]
     },
     "execution_count": 35,
     "metadata": {},
     "output_type": "execute_result"
    }
   ],
   "source": [
    "arr2"
   ]
  },
  {
   "cell_type": "code",
   "execution_count": 18,
   "id": "b7b58c84-85e3-4530-8c40-98eaf9764354",
   "metadata": {},
   "outputs": [],
   "source": [
    "l=[1,2]"
   ]
  },
  {
   "cell_type": "markdown",
   "id": "199209d8-0664-459a-b9bd-3560344972b7",
   "metadata": {},
   "source": [
    "## Trasformare una lista in un array"
   ]
  },
  {
   "cell_type": "code",
   "execution_count": 19,
   "id": "6bc24d4f-5821-4756-bd08-f5e6e02c8c78",
   "metadata": {},
   "outputs": [
    {
     "data": {
      "text/plain": [
       "array([1, 2])"
      ]
     },
     "execution_count": 19,
     "metadata": {},
     "output_type": "execute_result"
    }
   ],
   "source": [
    "np.asarray(l)"
   ]
  },
  {
   "cell_type": "code",
   "execution_count": 21,
   "id": "cc6486ec-7498-41ba-9e6f-a1e52ec5ef9b",
   "metadata": {},
   "outputs": [
    {
     "data": {
      "text/plain": [
       "\u001b[1;31mType:\u001b[0m        list\n",
       "\u001b[1;31mString form:\u001b[0m [1, 2]\n",
       "\u001b[1;31mLength:\u001b[0m      2\n",
       "\u001b[1;31mDocstring:\u001b[0m  \n",
       "Built-in mutable sequence.\n",
       "\n",
       "If no argument is given, the constructor creates a new empty list.\n",
       "The argument must be an iterable if specified.\n"
      ]
     },
     "metadata": {},
     "output_type": "display_data"
    }
   ],
   "source": [
    "l?"
   ]
  },
  {
   "cell_type": "code",
   "execution_count": 43,
   "id": "aa517ada-d3c9-4c50-9a27-1d3c791f1e69",
   "metadata": {},
   "outputs": [],
   "source": [
    "a=np.full(3,np.int32)"
   ]
  },
  {
   "cell_type": "code",
   "execution_count": 44,
   "id": "d10c2416-f2b2-4aa2-93d3-de16429a6075",
   "metadata": {},
   "outputs": [
    {
     "data": {
      "text/plain": [
       "array([<class 'numpy.int32'>, <class 'numpy.int32'>,\n",
       "       <class 'numpy.int32'>], dtype=object)"
      ]
     },
     "execution_count": 44,
     "metadata": {},
     "output_type": "execute_result"
    }
   ],
   "source": [
    "a"
   ]
  },
  {
   "cell_type": "markdown",
   "id": "ab02522f-c9b4-480e-beac-eb6ec9aedd5a",
   "metadata": {},
   "source": [
    "### funzioni di creazione:\n",
    "- array\n",
    "- asarray\n",
    "- arange\n",
    "- ones\n",
    "- ones_like\n",
    "- zeros\n",
    "- zeros_like\n",
    "- empty\n",
    "- empty_like\n",
    "- full\n",
    "- full_like\n",
    "- eye, identity"
   ]
  },
  {
   "cell_type": "markdown",
   "id": "e3111f8a-6ea9-4d75-9744-4c897a921951",
   "metadata": {},
   "source": [
    "# Differenze tra np.arange e range\n",
    "- tipo di ritorno\n",
    "- efficienza su grandi numeri (dimostriamolo)\n",
    "- limitazioni di range (opera solo su interi (dimostriamolo))"
   ]
  },
  {
   "cell_type": "markdown",
   "id": "eb63ded4-45e8-4edc-a9d7-8eff312aa20e",
   "metadata": {},
   "source": [
    "### Aritmetica con Numpy"
   ]
  },
  {
   "cell_type": "code",
   "execution_count": 37,
   "id": "697d2e93-9185-42f3-bd94-cf3fc7b9421c",
   "metadata": {},
   "outputs": [
    {
     "name": "stdout",
     "output_type": "stream",
     "text": [
      "[0 1 2 3 4 5 6 7 8 9]\n"
     ]
    }
   ],
   "source": [
    "arr = np.arange(10)\n",
    "print(arr)"
   ]
  },
  {
   "cell_type": "code",
   "execution_count": 38,
   "id": "636c23c1-1bd4-4a95-bf07-874d4a3cbb7e",
   "metadata": {},
   "outputs": [
    {
     "name": "stdout",
     "output_type": "stream",
     "text": [
      "[[0 1]\n",
      " [2 3]\n",
      " [4 5]\n",
      " [6 7]\n",
      " [8 9]]\n"
     ]
    }
   ],
   "source": [
    "arr.shape = (5,2)\n",
    "print(arr)"
   ]
  },
  {
   "cell_type": "code",
   "execution_count": 49,
   "id": "e8505a67-9fc9-4da8-8bd8-ac645a893d10",
   "metadata": {},
   "outputs": [
    {
     "name": "stdout",
     "output_type": "stream",
     "text": [
      "[[ 0  1]\n",
      " [ 4  9]\n",
      " [16 25]\n",
      " [36 49]\n",
      " [64 81]]\n"
     ]
    }
   ],
   "source": [
    "ris = arr*arr\n",
    "print(ris)"
   ]
  },
  {
   "cell_type": "code",
   "execution_count": 50,
   "id": "0835330f-5c09-4017-880c-2d071f9b6c2d",
   "metadata": {},
   "outputs": [
    {
     "data": {
      "text/plain": [
       "array([[  0,  10],\n",
       "       [ 40,  90],\n",
       "       [160, 250],\n",
       "       [360, 490],\n",
       "       [640, 810]])"
      ]
     },
     "execution_count": 50,
     "metadata": {},
     "output_type": "execute_result"
    }
   ],
   "source": [
    "ris*10"
   ]
  },
  {
   "cell_type": "code",
   "execution_count": 51,
   "id": "41490b8d-2649-4c73-973d-d1df2852e9d0",
   "metadata": {},
   "outputs": [
    {
     "name": "stderr",
     "output_type": "stream",
     "text": [
      "C:\\Users\\iapi9\\AppData\\Local\\Temp\\ipykernel_11248\\2141604455.py:1: RuntimeWarning: divide by zero encountered in divide\n",
      "  1/ris\n"
     ]
    },
    {
     "data": {
      "text/plain": [
       "array([[       inf, 1.        ],\n",
       "       [0.25      , 0.11111111],\n",
       "       [0.0625    , 0.04      ],\n",
       "       [0.02777778, 0.02040816],\n",
       "       [0.015625  , 0.01234568]])"
      ]
     },
     "execution_count": 51,
     "metadata": {},
     "output_type": "execute_result"
    }
   ],
   "source": [
    "1/ris"
   ]
  },
  {
   "cell_type": "code",
   "execution_count": 52,
   "id": "71b7d64e-d16d-41c6-ae58-bcc7466f13c7",
   "metadata": {},
   "outputs": [
    {
     "data": {
      "text/plain": [
       "array([[False, False],\n",
       "       [False, False],\n",
       "       [False, False],\n",
       "       [ True,  True],\n",
       "       [ True,  True]])"
      ]
     },
     "execution_count": 52,
     "metadata": {},
     "output_type": "execute_result"
    }
   ],
   "source": [
    "ris > 30"
   ]
  },
  {
   "cell_type": "code",
   "execution_count": 79,
   "id": "e49de67b-bcc3-4dfe-a59c-ed832cf742a4",
   "metadata": {},
   "outputs": [
    {
     "data": {
      "text/plain": [
       "array([36, 49])"
      ]
     },
     "execution_count": 79,
     "metadata": {},
     "output_type": "execute_result"
    }
   ],
   "source": [
    "ris[3][:]"
   ]
  },
  {
   "cell_type": "code",
   "execution_count": 53,
   "id": "0231194f-f475-43bb-9be8-f3022bb5a0e3",
   "metadata": {},
   "outputs": [],
   "source": [
    "ris[2:4][:] = 99"
   ]
  },
  {
   "cell_type": "code",
   "execution_count": 54,
   "id": "118b2872-9646-4097-89f8-6fa1226ba60e",
   "metadata": {},
   "outputs": [
    {
     "data": {
      "text/plain": [
       "array([[ 0,  1],\n",
       "       [ 4,  9],\n",
       "       [99, 99],\n",
       "       [99, 99],\n",
       "       [64, 81]])"
      ]
     },
     "execution_count": 54,
     "metadata": {},
     "output_type": "execute_result"
    }
   ],
   "source": [
    "ris"
   ]
  },
  {
   "cell_type": "code",
   "execution_count": 86,
   "id": "24111de5-5b18-45e8-b425-90bc3ca010df",
   "metadata": {},
   "outputs": [
    {
     "name": "stdout",
     "output_type": "stream",
     "text": [
      "[[99 99]\n",
      " [99 99]]\n"
     ]
    }
   ],
   "source": [
    "ris_copy = ris[2:4][:].copy()\n",
    "print(ris_copy)"
   ]
  },
  {
   "cell_type": "code",
   "execution_count": 55,
   "id": "f1c6e736-207b-4d54-8211-54fb7cd15974",
   "metadata": {
    "scrolled": true
   },
   "outputs": [
    {
     "name": "stdout",
     "output_type": "stream",
     "text": [
      "[[[[0.50078505 0.87746531 0.83741069 0.88351572 0.40946614 0.77712427\n",
      "    0.20551916 0.3170947  0.79584431]\n",
      "   [0.45522528 0.15338779 0.08522945 0.41457455 0.68563635 0.11771221\n",
      "    0.13212141 0.09390872 0.2218901 ]\n",
      "   [0.6347324  0.69995481 0.14774031 0.04808505 0.22443178 0.8633191\n",
      "    0.75350332 0.1703085  0.16727201]\n",
      "   [0.46672349 0.47357259 0.14788725 0.85596993 0.40697642 0.89933917\n",
      "    0.42927006 0.76584711 0.13935699]\n",
      "   [0.79388226 0.53231952 0.96209644 0.58894586 0.66141276 0.71221371\n",
      "    0.35097815 0.50111054 0.36121367]]\n",
      "\n",
      "  [[0.29005585 0.69197166 0.77174005 0.04575901 0.87020368 0.92124951\n",
      "    0.74977023 0.55669516 0.26756245]\n",
      "   [0.53926882 0.03219265 0.75678939 0.65779881 0.25070091 0.76372775\n",
      "    0.62171038 0.44280627 0.12982522]\n",
      "   [0.8575789  0.04908257 0.21396084 0.80485808 0.40968756 0.28486201\n",
      "    0.57188685 0.38499255 0.75205038]\n",
      "   [0.63332504 0.47550643 0.91843804 0.79123133 0.59246483 0.71989591\n",
      "    0.32103619 0.49726396 0.841561  ]\n",
      "   [0.24802166 0.70793345 0.46619496 0.62150156 0.54165109 0.90908556\n",
      "    0.01013267 0.79262782 0.62223041]]\n",
      "\n",
      "  [[0.12488667 0.4924965  0.4082198  0.36475978 0.03687821 0.71616735\n",
      "    0.45272691 0.2559235  0.81554113]\n",
      "   [0.1193428  0.6650236  0.45848894 0.92488464 0.46148311 0.03744742\n",
      "    0.24168799 0.77500122 0.47612279]\n",
      "   [0.46733905 0.97251493 0.17048018 0.8673795  0.63706459 0.79420224\n",
      "    0.54500596 0.88364096 0.25019397]\n",
      "   [0.31654204 0.93311144 0.38758482 0.12864135 0.13886351 0.87122305\n",
      "    0.00389207 0.22008154 0.99497759]\n",
      "   [0.20251135 0.50324668 0.96461367 0.33973094 0.63276131 0.71462671\n",
      "    0.95798129 0.93375268 0.7864396 ]]]\n",
      "\n",
      "\n",
      " [[[0.93073828 0.70836758 0.79976001 0.63567737 0.19814743 0.55321896\n",
      "    0.85620588 0.03348863 0.09450799]\n",
      "   [0.64704081 0.91603418 0.8746526  0.67864535 0.80179054 0.15435837\n",
      "    0.58015841 0.55982251 0.18784863]\n",
      "   [0.56164197 0.60161266 0.04555757 0.79507537 0.95729535 0.24411475\n",
      "    0.60734642 0.82402263 0.16905972]\n",
      "   [0.96048867 0.56581443 0.61463894 0.04301871 0.99008233 0.23356231\n",
      "    0.85908091 0.82254504 0.40102061]\n",
      "   [0.45574318 0.48519592 0.47626258 0.23596096 0.57051151 0.98636872\n",
      "    0.9098524  0.39455857 0.21737438]]\n",
      "\n",
      "  [[0.19942295 0.16579409 0.44967866 0.2524518  0.92153166 0.13543293\n",
      "    0.88498897 0.33441462 0.87620918]\n",
      "   [0.21372977 0.929622   0.27927104 0.19189293 0.72397432 0.82210435\n",
      "    0.85100462 0.71041967 0.93568171]\n",
      "   [0.3769533  0.05466419 0.07161562 0.59513316 0.08851839 0.73629343\n",
      "    0.6010503  0.33418394 0.57101724]\n",
      "   [0.53237311 0.22663897 0.56066452 0.28689837 0.07651111 0.42493159\n",
      "    0.73897171 0.65324674 0.86096319]\n",
      "   [0.59717381 0.10490846 0.88096386 0.71537495 0.81729536 0.11098197\n",
      "    0.90005477 0.87652282 0.63207141]]\n",
      "\n",
      "  [[0.1391808  0.73074706 0.08932018 0.20206235 0.10472865 0.36939784\n",
      "    0.57854683 0.80113254 0.4541509 ]\n",
      "   [0.87706743 0.20696479 0.96672638 0.45868353 0.22409059 0.35135488\n",
      "    0.79308533 0.91023607 0.23003752]\n",
      "   [0.89036884 0.50109834 0.29507367 0.90954166 0.1169953  0.23588257\n",
      "    0.44459785 0.87693556 0.81290362]\n",
      "   [0.83741031 0.74686272 0.51418048 0.31314433 0.07076502 0.23471239\n",
      "    0.17608039 0.07532055 0.93601192]\n",
      "   [0.6961804  0.7489844  0.06328693 0.31628241 0.24906895 0.35650164\n",
      "    0.49416613 0.9552666  0.54321968]]]\n",
      "\n",
      "\n",
      " [[[0.82984578 0.0157172  0.4325516  0.84289581 0.55160433 0.86158279\n",
      "    0.38356512 0.138876   0.43652289]\n",
      "   [0.26507696 0.52589849 0.60330013 0.13274123 0.49926305 0.83048312\n",
      "    0.05244046 0.38166162 0.21957211]\n",
      "   [0.29177896 0.83412185 0.40516909 0.18907519 0.51729531 0.2199769\n",
      "    0.07793547 0.48529258 0.19706206]\n",
      "   [0.0408127  0.62349335 0.74513373 0.89257848 0.95942307 0.9941876\n",
      "    0.47834513 0.49170315 0.05713416]\n",
      "   [0.55837475 0.16625478 0.67340604 0.09334121 0.21714866 0.46380311\n",
      "    0.58069535 0.50512241 0.24717122]]\n",
      "\n",
      "  [[0.34446574 0.81842536 0.10413683 0.78858895 0.0969503  0.97029147\n",
      "    0.97057784 0.68836345 0.23916093]\n",
      "   [0.10213201 0.28869648 0.39163264 0.66558564 0.62344073 0.66410504\n",
      "    0.68775909 0.72423298 0.06743029]\n",
      "   [0.82204157 0.33431149 0.11173563 0.26081421 0.64120192 0.40482177\n",
      "    0.39633976 0.18716756 0.12944494]\n",
      "   [0.69469019 0.47586618 0.69052252 0.44475961 0.639591   0.57471072\n",
      "    0.47038181 0.91451043 0.35501658]\n",
      "   [0.45521287 0.4080939  0.46671303 0.58295638 0.28934171 0.8318684\n",
      "    0.6692252  0.20989796 0.78566052]]\n",
      "\n",
      "  [[0.68801141 0.48023048 0.059862   0.33969697 0.01698338 0.73927928\n",
      "    0.52612953 0.10495006 0.08799847]\n",
      "   [0.02523853 0.83353386 0.64973904 0.70687194 0.95745938 0.34703854\n",
      "    0.08554014 0.79550926 0.02716641]\n",
      "   [0.01223409 0.24358817 0.50276229 0.60982757 0.35859946 0.02958573\n",
      "    0.95812968 0.54505876 0.48807142]\n",
      "   [0.05337876 0.53772882 0.48593346 0.91916709 0.75252527 0.63017316\n",
      "    0.25120911 0.31225926 0.23832739]\n",
      "   [0.74359157 0.03605816 0.90906348 0.58659981 0.55668869 0.83436648\n",
      "    0.85032759 0.4074461  0.20235268]]]\n",
      "\n",
      "\n",
      " [[[0.59150032 0.79225366 0.37669269 0.89876236 0.30476154 0.30291558\n",
      "    0.61346403 0.29690501 0.20627261]\n",
      "   [0.95021874 0.76296015 0.01437842 0.56765563 0.46115885 0.31252717\n",
      "    0.72270733 0.02033522 0.88519009]\n",
      "   [0.64532576 0.13751751 0.39057735 0.98833757 0.15094582 0.60010522\n",
      "    0.91863051 0.2497309  0.09510704]\n",
      "   [0.27457083 0.5172404  0.15957384 0.66022614 0.4701228  0.40137371\n",
      "    0.82500009 0.62586476 0.88545941]\n",
      "   [0.72017266 0.31217891 0.28711176 0.4714188  0.56072406 0.81022567\n",
      "    0.78444744 0.91418836 0.04910135]]\n",
      "\n",
      "  [[0.057287   0.24679145 0.51080273 0.20122359 0.71836582 0.56577352\n",
      "    0.8746054  0.22433246 0.58821211]\n",
      "   [0.96921656 0.30066161 0.14361828 0.40363127 0.41410308 0.58159651\n",
      "    0.12761739 0.78456659 0.33982776]\n",
      "   [0.19915481 0.4632844  0.35337538 0.269155   0.81763159 0.13665859\n",
      "    0.35399866 0.38617177 0.31475421]\n",
      "   [0.5404789  0.9808667  0.81499641 0.22771154 0.5946534  0.68272699\n",
      "    0.4926033  0.71503541 0.91760497]\n",
      "   [0.84719637 0.50129239 0.42121308 0.52648985 0.71989544 0.34052021\n",
      "    0.11754524 0.71168837 0.23275961]]\n",
      "\n",
      "  [[0.04809913 0.94473376 0.48833706 0.18401439 0.25909719 0.7602333\n",
      "    0.8691201  0.88996445 0.01861992]\n",
      "   [0.64991556 0.71371434 0.24108017 0.26353955 0.17078266 0.74171399\n",
      "    0.73055587 0.60887848 0.40420771]\n",
      "   [0.7572683  0.74173839 0.25209142 0.30500874 0.53187585 0.07825932\n",
      "    0.223143   0.01331244 0.0597995 ]\n",
      "   [0.17749924 0.07622492 0.97051364 0.36405668 0.36998301 0.89271756\n",
      "    0.25369002 0.29079725 0.15762381]\n",
      "   [0.44675648 0.78871482 0.28268514 0.90451324 0.61000248 0.64178653\n",
      "    0.22924284 0.95595848 0.11244786]]]]\n"
     ]
    }
   ],
   "source": [
    "arr3d = np.random.rand(4,3,5,9)\n",
    "print(arr3d)"
   ]
  },
  {
   "cell_type": "markdown",
   "id": "04623aca-df6f-40f9-b956-6bde1a41e3cd",
   "metadata": {},
   "source": [
    "## Indicizzazione Booleana"
   ]
  },
  {
   "cell_type": "code",
   "execution_count": 58,
   "id": "e8774a29-8b36-4d7d-b913-c9947974db57",
   "metadata": {},
   "outputs": [],
   "source": [
    "data = np.array([[4,7],[0,2],[.5,6],[-7.1,32],[0,0],[1,2.4]])\n",
    "names = np.array([\"Bob\",\"John\",\"Mark\",\"Bob\",\"Bob\",\"Tom\"])"
   ]
  },
  {
   "cell_type": "code",
   "execution_count": 61,
   "id": "1a0b91f5-feda-4937-af62-8230bdc543f7",
   "metadata": {},
   "outputs": [
    {
     "data": {
      "text/plain": [
       "array([[ 4. ,  7. ],\n",
       "       [ 0. ,  2. ],\n",
       "       [ 0.5,  6. ],\n",
       "       [-7.1, 32. ],\n",
       "       [ 0. ,  0. ],\n",
       "       [ 1. ,  2.4]])"
      ]
     },
     "execution_count": 61,
     "metadata": {},
     "output_type": "execute_result"
    }
   ],
   "source": [
    "data"
   ]
  },
  {
   "cell_type": "code",
   "execution_count": 62,
   "id": "48513426-c244-4f3d-bbb3-20c75f9b0b1a",
   "metadata": {},
   "outputs": [
    {
     "data": {
      "text/plain": [
       "array([ True, False, False,  True,  True, False])"
      ]
     },
     "execution_count": 62,
     "metadata": {},
     "output_type": "execute_result"
    }
   ],
   "source": [
    "names==\"Bob\""
   ]
  },
  {
   "cell_type": "code",
   "execution_count": 121,
   "id": "b129ab41-12df-4076-b770-1381ff89c6a8",
   "metadata": {},
   "outputs": [
    {
     "data": {
      "text/plain": [
       "array([[ 4. ,  7. ],\n",
       "       [-7.1, 32. ],\n",
       "       [ 0. ,  0. ]])"
      ]
     },
     "execution_count": 121,
     "metadata": {},
     "output_type": "execute_result"
    }
   ],
   "source": [
    "data[names==\"Bob\"]"
   ]
  },
  {
   "cell_type": "code",
   "execution_count": 132,
   "id": "d817a156-270e-4960-a0e2-d5903548e95c",
   "metadata": {},
   "outputs": [
    {
     "data": {
      "text/plain": [
       "array([[0. , 2. ],\n",
       "       [0.5, 6. ],\n",
       "       [1. , 2.4]])"
      ]
     },
     "execution_count": 132,
     "metadata": {},
     "output_type": "execute_result"
    }
   ],
   "source": [
    "data[~(names==\"Bob\")]"
   ]
  },
  {
   "cell_type": "markdown",
   "id": "0feb92dc-8d1a-4a23-8690-048338db4d90",
   "metadata": {},
   "source": [
    "# Differenza tra liste e numpy array\n",
    "- Le liste sono native di python, mentre gli array sono della libreria numpy\n",
    "- Le liste possono contenere tipi eterogenei, mentre gli array hanno elementi omogenei (o meglio *dovrebbero*)"
   ]
  },
  {
   "cell_type": "markdown",
   "id": "b78e33e3-816a-4ff1-84ad-80ee3f3bb2cb",
   "metadata": {},
   "source": [
    "# Perché usare gli array con numpy\n",
    "Gli array hanno avanzati metodi di manipolazione dati che sono sia più facili per il programmatore sia più efficienti rispetto alle liste. \n",
    "Dunque per calcoli onerosi è consigliato usare quest'ultimi\n",
    "\n",
    "## Esempio:"
   ]
  },
  {
   "cell_type": "code",
   "execution_count": 66,
   "id": "ee7fe5e6-dced-48cb-a545-a79b20d308a3",
   "metadata": {},
   "outputs": [
    {
     "name": "stdout",
     "output_type": "stream",
     "text": [
      "[1, 2, 3, 7, 8, 9]\n",
      "[8, 10, 12]\n"
     ]
    }
   ],
   "source": [
    "lista1 = [1,2,3]\n",
    "lista2 = [7,8,9]\n",
    "print(lista1 + lista2)\n",
    "somma = []\n",
    "for x,y in zip(lista1,lista2):\n",
    "    somma.append(x+y)\n",
    "print(somma)"
   ]
  },
  {
   "cell_type": "code",
   "execution_count": 67,
   "id": "2c3c233d-a39d-4806-9582-c37c18a047fd",
   "metadata": {},
   "outputs": [
    {
     "data": {
      "text/plain": [
       "array([ 8, 10, 12])"
      ]
     },
     "execution_count": 67,
     "metadata": {},
     "output_type": "execute_result"
    }
   ],
   "source": [
    "arr1 = np.array([1,2,3])\n",
    "arr2 = np.array([7,8,9])\n",
    "arr1 + arr2"
   ]
  },
  {
   "cell_type": "markdown",
   "id": "8ec5ac6a-8517-4489-8a65-34c75a923bda",
   "metadata": {},
   "source": [
    "# Dimostriamo l'efficienza nel sommare array rispetto a liste. \n",
    "SIZE consigliata: 100000"
   ]
  },
  {
   "cell_type": "code",
   "execution_count": 69,
   "id": "127c6857-fa7a-4b4d-b69a-ce952c0a466b",
   "metadata": {},
   "outputs": [
    {
     "name": "stdout",
     "output_type": "stream",
     "text": [
      "Time to aggregate elements from each of the iterables:\n",
      "List:\n",
      "222.9592800140381\n",
      "NumPy array:\n",
      "26.99875831604004\n"
     ]
    }
   ],
   "source": [
    "import time\n",
    "# Defining the size of the arrays\n",
    "SIZE = 1000000\n",
    "\n",
    "# Creating lists and NumPy arrays of integers from 0 to SIZE - 1\n",
    "list1 = range(SIZE)\n",
    "list2 = range(SIZE)\n",
    "arra1 = np.arange(SIZE)\n",
    "arra2 = np.arange(SIZE)\n",
    "\n",
    "# Measuring the time taken to aggregate elements from each iterable using a list comprehension\n",
    "start_list = time.time()  # Marking the start time\n",
    "result = [x+y for x, y in zip(list1, list2)]  # Aggregating elements from 'list1' and 'list2' using list comprehension\n",
    "print(\"Time to aggregate elements from each of the iterables:\")\n",
    "print(\"List:\")\n",
    "print((time.time() - start_list) * 1000)  # Printing the execution time in milliseconds\n",
    "\n",
    "# Measuring the time taken to add NumPy arrays element-wise\n",
    "start_array = time.time()  # Marking the start time\n",
    "result = arra1 + arra2  # Performing element-wise addition on 'arra1' and 'arra2' using NumPy\n",
    "print(\"NumPy array:\")\n",
    "print((time.time() - start_array) * 1000)  # Printing the execution time in milliseconds\n"
   ]
  },
  {
   "cell_type": "code",
   "execution_count": 78,
   "id": "3f5fa217-ed3d-40b8-b83a-0c8040215475",
   "metadata": {},
   "outputs": [
    {
     "data": {
      "text/plain": [
       "array([ 0.        ,  1.81818182,  3.63636364,  5.45454545,  7.27272727,\n",
       "        9.09090909, 10.90909091, 12.72727273, 14.54545455, 16.36363636,\n",
       "       18.18181818, 20.        ])"
      ]
     },
     "execution_count": 78,
     "metadata": {},
     "output_type": "execute_result"
    }
   ],
   "source": [
    "diag = np.identity(5, dtype=int)\n",
    "ones = np.ones(5)\n",
    "zeros = np.zeros(5)\n",
    "lin = np.linspace(0, 20, num=12)\n",
    "lin # che differenze noti tra linspace e arange?"
   ]
  },
  {
   "cell_type": "code",
   "execution_count": 74,
   "id": "392c7c51-b7b4-4490-9dba-87a19e02094c",
   "metadata": {},
   "outputs": [
    {
     "data": {
      "text/plain": [
       "array([[1, 0, 0, 0, 0],\n",
       "       [0, 1, 0, 0, 0],\n",
       "       [0, 0, 1, 0, 0],\n",
       "       [0, 0, 0, 1, 0],\n",
       "       [0, 0, 0, 0, 1]])"
      ]
     },
     "execution_count": 74,
     "metadata": {},
     "output_type": "execute_result"
    }
   ],
   "source": [
    "diag"
   ]
  },
  {
   "cell_type": "code",
   "execution_count": 75,
   "id": "496fea67-bc41-4c67-8676-b4117e0ea37e",
   "metadata": {},
   "outputs": [],
   "source": [
    "emp = np.empty(5) # crea un array vuoto. Vuoto nel senso che non cambia lo stato delle celle di memoria che vengono assegnate all'array"
   ]
  },
  {
   "cell_type": "code",
   "execution_count": 76,
   "id": "2d6ca85c-6ba4-4506-9a36-57ed5ecfe358",
   "metadata": {},
   "outputs": [
    {
     "data": {
      "text/plain": [
       "array([1.24263877e-311, 4.67296746e-307, 1.69121096e-306, 1.42417901e-306,\n",
       "       1.84565979e-317])"
      ]
     },
     "execution_count": 76,
     "metadata": {},
     "output_type": "execute_result"
    }
   ],
   "source": [
    "emp"
   ]
  },
  {
   "cell_type": "code",
   "execution_count": 157,
   "id": "b62b96e1-7915-48a6-90ec-3002ad8de45c",
   "metadata": {},
   "outputs": [
    {
     "data": {
      "text/plain": [
       "array([ 0. ,  2.5,  5. ,  7.5, 10. , 12.5, 15. , 17.5, 20. ])"
      ]
     },
     "execution_count": 157,
     "metadata": {},
     "output_type": "execute_result"
    }
   ],
   "source": [
    "lin"
   ]
  },
  {
   "cell_type": "code",
   "execution_count": 158,
   "id": "b5f9a033-c35b-4e5e-932b-827a86ee3be8",
   "metadata": {},
   "outputs": [
    {
     "data": {
      "text/plain": [
       "array([[5, 0, 0, 0, 0],\n",
       "       [0, 4, 0, 0, 0],\n",
       "       [0, 0, 3, 0, 0],\n",
       "       [0, 0, 0, 2, 0],\n",
       "       [0, 0, 0, 0, 1]])"
      ]
     },
     "execution_count": 158,
     "metadata": {},
     "output_type": "execute_result"
    }
   ],
   "source": [
    "diag*[5,4,3,2,1] #supporta anche la moltiplicazione con scalari"
   ]
  },
  {
   "cell_type": "code",
   "execution_count": 85,
   "id": "cf798099-ce1d-481f-8b42-b176500c85bb",
   "metadata": {},
   "outputs": [
    {
     "data": {
      "text/plain": [
       "array([[5., 4., 3.],\n",
       "       [5., 4., 3.],\n",
       "       [5., 4., 3.],\n",
       "       [5., 4., 3.],\n",
       "       [5., 4., 3.]])"
      ]
     },
     "execution_count": 85,
     "metadata": {},
     "output_type": "execute_result"
    }
   ],
   "source": [
    "ris = np.ones((5,3))*[5,4,3]\n",
    "ris"
   ]
  },
  {
   "cell_type": "code",
   "execution_count": 86,
   "id": "aa0678ba-b7e0-432c-9cfb-60d84cc41fec",
   "metadata": {},
   "outputs": [
    {
     "data": {
      "text/plain": [
       "array([[2, 0, 0, 0, 0],\n",
       "       [0, 0, 0, 0, 0],\n",
       "       [0, 0, 1, 0, 0],\n",
       "       [0, 0, 0, 3, 0],\n",
       "       [0, 0, 0, 0, 0]])"
      ]
     },
     "execution_count": 86,
     "metadata": {},
     "output_type": "execute_result"
    }
   ],
   "source": [
    "newd = diag*[2,0,1,3,0] #supporta la moltiplicazione tra liste e array (compatibilmente con le regole di moltiplicazione matriciale)\n",
    "newd"
   ]
  },
  {
   "cell_type": "code",
   "execution_count": 89,
   "id": "5d7bef55-5bde-4878-bb46-651b8d628e72",
   "metadata": {},
   "outputs": [],
   "source": [
    "conc = np.sort(newd, axis=1) # ordina gli array"
   ]
  },
  {
   "cell_type": "code",
   "execution_count": 90,
   "id": "5c2eae4c-d8e4-4be6-8084-1e8782be34e6",
   "metadata": {},
   "outputs": [
    {
     "data": {
      "text/plain": [
       "array([[0, 0, 0, 0, 2],\n",
       "       [0, 0, 0, 0, 0],\n",
       "       [0, 0, 0, 0, 1],\n",
       "       [0, 0, 0, 0, 3],\n",
       "       [0, 0, 0, 0, 0]])"
      ]
     },
     "execution_count": 90,
     "metadata": {},
     "output_type": "execute_result"
    }
   ],
   "source": [
    "conc"
   ]
  },
  {
   "cell_type": "code",
   "execution_count": 168,
   "id": "64aa9c7c-83b1-4b1c-bd5f-cafbb11168ab",
   "metadata": {},
   "outputs": [
    {
     "data": {
      "text/plain": [
       "array([0, 1, 3, 4])"
      ]
     },
     "execution_count": 168,
     "metadata": {},
     "output_type": "execute_result"
    }
   ],
   "source": [
    "# ordinare un array\n",
    "np.sort(np.array([1,0,4,3])) \n",
    "    "
   ]
  },
  {
   "cell_type": "code",
   "execution_count": 91,
   "id": "c68ddf3c-a19e-4239-ba37-f9463b2d243e",
   "metadata": {},
   "outputs": [
    {
     "data": {
      "text/plain": [
       "array([0, 3, 2, 1], dtype=int64)"
      ]
     },
     "execution_count": 91,
     "metadata": {},
     "output_type": "execute_result"
    }
   ],
   "source": [
    "#ordinare gli indici\n",
    "np.argsort(np.array([1,9,4,3]))"
   ]
  },
  {
   "cell_type": "code",
   "execution_count": 99,
   "id": "e0f5ba21-44bc-40b1-8a3e-cbb0f7041226",
   "metadata": {},
   "outputs": [
    {
     "data": {
      "text/plain": [
       "array([[1, 2, 3, 4],\n",
       "       [5, 6, 7, 8]])"
      ]
     },
     "execution_count": 99,
     "metadata": {},
     "output_type": "execute_result"
    }
   ],
   "source": [
    "a = np.atleast_2d(np.array([1, 2, 3, 4]))\n",
    "b = np.atleast_2d(np.array([5, 6, 7, 8]))\n",
    "np.concatenate((a,b), axis=0)"
   ]
  },
  {
   "cell_type": "code",
   "execution_count": 102,
   "id": "56c65330-0679-4303-bdc8-a1185954593b",
   "metadata": {},
   "outputs": [
    {
     "data": {
      "text/plain": [
       "array([[1, 2, 3, 4, 0, 2, 4, 6],\n",
       "       [5, 6, 7, 8, 1, 3, 5, 7]])"
      ]
     },
     "execution_count": 102,
     "metadata": {},
     "output_type": "execute_result"
    }
   ],
   "source": [
    "a = np.array([[1, 2, 3, 4],[5, 6, 7, 8]])\n",
    "b = np.array([[0, 2, 4, 6], [1, 3, 5, 7]])\n",
    "np.concatenate((a,b),axis=1) #asse è sinonimo di dimensione"
   ]
  },
  {
   "cell_type": "code",
   "execution_count": 109,
   "id": "55c84e4b-4fdc-4652-a9fb-2b4e0ef57eaf",
   "metadata": {
    "scrolled": true
   },
   "outputs": [],
   "source": [
    "#reshape an array:\n",
    "a = np.arange(6) # --> crea array [0,1,2,3,4,5]\n",
    "b = a.reshape(2,3)"
   ]
  },
  {
   "cell_type": "code",
   "execution_count": 111,
   "id": "5f1ea807-4f98-400c-8a95-e68cd6adf46a",
   "metadata": {},
   "outputs": [
    {
     "data": {
      "text/plain": [
       "(6,)"
      ]
     },
     "execution_count": 111,
     "metadata": {},
     "output_type": "execute_result"
    }
   ],
   "source": [
    "a.shape"
   ]
  },
  {
   "cell_type": "code",
   "execution_count": 116,
   "id": "63b9d353-2050-45f8-a1cb-06432a41ac0e",
   "metadata": {},
   "outputs": [],
   "source": [
    "# per trasformarlo in un array con due dimensioni:\n",
    "a2 = a[np.newaxis, :]\n",
    "a3 = np.atleast_2d(a).T"
   ]
  },
  {
   "cell_type": "code",
   "execution_count": 117,
   "id": "8728cc45-9b49-4592-be55-7aaaef8e69ac",
   "metadata": {},
   "outputs": [
    {
     "data": {
      "text/plain": [
       "(1, 6)"
      ]
     },
     "execution_count": 117,
     "metadata": {},
     "output_type": "execute_result"
    }
   ],
   "source": [
    "a2.shape"
   ]
  },
  {
   "cell_type": "code",
   "execution_count": 118,
   "id": "ad73c924-9d00-46b4-aaa8-ce7950a9130d",
   "metadata": {},
   "outputs": [
    {
     "data": {
      "text/plain": [
       "(6, 1)"
      ]
     },
     "execution_count": 118,
     "metadata": {},
     "output_type": "execute_result"
    }
   ],
   "source": [
    "a3.shape"
   ]
  },
  {
   "cell_type": "code",
   "execution_count": null,
   "id": "f33775e2-86d6-4825-87c8-ae82306cec99",
   "metadata": {},
   "outputs": [],
   "source": []
  },
  {
   "cell_type": "code",
   "execution_count": 119,
   "id": "8cfe01b2-5245-497b-ab31-3ab2ea562ae3",
   "metadata": {},
   "outputs": [
    {
     "data": {
      "text/plain": [
       "array([[ 1,  2,  3,  4],\n",
       "       [ 5,  6,  7,  8],\n",
       "       [ 9, 10, 11, 12]])"
      ]
     },
     "execution_count": 119,
     "metadata": {},
     "output_type": "execute_result"
    }
   ],
   "source": [
    "#SLICING\n",
    "a = np.array([[1 , 2, 3, 4], [5, 6, 7, 8], [9, 10, 11, 12]])\n",
    "a # si fa slicing come nelle liste"
   ]
  },
  {
   "cell_type": "code",
   "execution_count": 120,
   "id": "3f918ac1-94d2-4625-8c9f-70b1b8c3e557",
   "metadata": {},
   "outputs": [
    {
     "data": {
      "text/plain": [
       "array([ 1,  2,  3,  4,  5, 10, 11, 12])"
      ]
     },
     "execution_count": 120,
     "metadata": {},
     "output_type": "execute_result"
    }
   ],
   "source": [
    "a[( a < 6 ) | (a > 9)] # slicing condizionale"
   ]
  },
  {
   "cell_type": "code",
   "execution_count": 126,
   "id": "b1bb6821-7106-4bea-855e-feac6341bc8d",
   "metadata": {},
   "outputs": [],
   "source": [
    "a1 = np.array([[1, 1],[2, 2]])\n",
    "a2 = np.array([[3, 3],[4, 4]])"
   ]
  },
  {
   "cell_type": "code",
   "execution_count": 134,
   "id": "50f568f5-0e53-46fd-9465-cfc2373e50a5",
   "metadata": {},
   "outputs": [
    {
     "data": {
      "text/plain": [
       "array([[1, 1],\n",
       "       [2, 2],\n",
       "       [3, 3],\n",
       "       [4, 4]])"
      ]
     },
     "execution_count": 134,
     "metadata": {},
     "output_type": "execute_result"
    }
   ],
   "source": [
    "#alternativa a concatenate\n",
    "np.vstack((a1,a2))"
   ]
  },
  {
   "cell_type": "code",
   "execution_count": 135,
   "id": "79e8a597-a00d-489c-9a75-84837271bfc5",
   "metadata": {},
   "outputs": [
    {
     "data": {
      "text/plain": [
       "array([[1, 1, 3, 3],\n",
       "       [2, 2, 4, 4]])"
      ]
     },
     "execution_count": 135,
     "metadata": {},
     "output_type": "execute_result"
    }
   ],
   "source": [
    "np.hstack((a1,a2))"
   ]
  },
  {
   "cell_type": "code",
   "execution_count": null,
   "id": "d043577e-ff2e-483c-bb26-0207606b8386",
   "metadata": {},
   "outputs": [],
   "source": []
  },
  {
   "cell_type": "markdown",
   "id": "29253d80-9b31-48ae-87a6-489a634af889",
   "metadata": {},
   "source": [
    "# DIFFERENZA TRA ARRAY e MATRICI\n",
    "### `np.array`\n",
    "\n",
    "- **Generico**: `np.array` è un array generico che può essere usato per rappresentare vettori, matrici e n-d array.\n",
    "- **Operazioni element-wise**: Le operazioni aritmetiche su `np.array` sono eseguite elemento per elemento (element-wise).\n",
    "- **Dimensioni**: Può avere più di due dimensioni.\n",
    "- **Metodi di creazione**: Si usa `numpy.array()` per creare un array.\n",
    "- **Versatilità**: Può rappresentare sia vettori che matrici e supporta broadcasting, indexing, slicing, ecc.\n"
   ]
  },
  {
   "cell_type": "code",
   "execution_count": 67,
   "id": "40e6f4f1-5b3b-465c-88c6-4169758a3f17",
   "metadata": {},
   "outputs": [
    {
     "name": "stdout",
     "output_type": "stream",
     "text": [
      "[[1 2]\n",
      " [3 4]]\n",
      "\n",
      "risultato array * array:\n",
      "[[ 1  4]\n",
      " [ 9 16]]\n"
     ]
    }
   ],
   "source": [
    "array = np.array([[1, 2], [3, 4]])\n",
    "print(array)\n",
    "\n",
    "# Operazione element-wise\n",
    "print(\"\\nrisultato array * array:\")\n",
    "print(array * array)\n",
    "\n"
   ]
  },
  {
   "cell_type": "markdown",
   "id": "72cd6ec1-fa30-471f-923d-a86a3d1627a0",
   "metadata": {},
   "source": [
    "\n",
    "### `np.matrix`\n",
    "\n",
    "- **Specializzato**: `np.matrix` è una classe specifica per rappresentare matrici (solo 2D).\n",
    "- **Operazioni di algebra lineare**: Le operazioni aritmetiche su `np.matrix` sono operazioni di algebra lineare. Ad esempio, l'operatore `*` esegue la moltiplicazione tra matrici.\n",
    "- **Sempre 2D**: `np.matrix` è sempre bidimensionale.\n",
    "- **Metodi di creazione**: Si usa `numpy.matrix()` o `numpy.mat()` per creare una matrice.\n",
    "- **Deprecato**: L'uso di `np.matrix` è sconsigliato e considerato deprecato perché `np.array` è più flessibile e integrato con il resto dell'ecosistema numpy.\n"
   ]
  },
  {
   "cell_type": "code",
   "execution_count": 68,
   "id": "72f3d583-8275-47f4-b076-bbab0721a540",
   "metadata": {},
   "outputs": [
    {
     "name": "stdout",
     "output_type": "stream",
     "text": [
      "[[1 2]\n",
      " [3 4]]\n",
      "\n",
      "risultato operazione matrix * matrix\n",
      "[[ 7 10]\n",
      " [15 22]]\n"
     ]
    }
   ],
   "source": [
    "matrix = np.matrix([[1, 2], [3, 4]])\n",
    "print(matrix)\n",
    "# Output:\n",
    "# [[1 2]\n",
    "#  [3 4]]\n",
    "\n",
    "# Operazione di algebra lineare\n",
    "print(\"\\nrisultato operazione matrix * matrix\")\n",
    "print(matrix * matrix)\n",
    "# Output:\n",
    "# [[ 7 10]\n",
    "#  [15 22]]\n"
   ]
  },
  {
   "cell_type": "markdown",
   "id": "ebab0f83-6557-43ec-ab4f-7a50c04a79be",
   "metadata": {},
   "source": [
    "# moltiplicazione matriciale tra array"
   ]
  },
  {
   "cell_type": "code",
   "execution_count": 121,
   "id": "9be61531-5638-40ec-9c9d-b2db01c4a1ed",
   "metadata": {},
   "outputs": [
    {
     "data": {
      "text/plain": [
       "array([[ 7, 10],\n",
       "       [15, 22]])"
      ]
     },
     "execution_count": 121,
     "metadata": {},
     "output_type": "execute_result"
    }
   ],
   "source": [
    "array = np.array([[1, 2], [3, 4]])\n",
    "array@array"
   ]
  },
  {
   "cell_type": "code",
   "execution_count": 122,
   "id": "83fbd073-0be7-498e-88ab-108cb570ede7",
   "metadata": {},
   "outputs": [
    {
     "data": {
      "text/plain": [
       "array([[ 7, 10],\n",
       "       [15, 22]])"
      ]
     },
     "execution_count": 122,
     "metadata": {},
     "output_type": "execute_result"
    }
   ],
   "source": [
    "# oppure\n",
    "array.dot(array)"
   ]
  },
  {
   "cell_type": "code",
   "execution_count": 123,
   "id": "3ebfde8f-ccd3-411f-8e09-e3f6b77ac98d",
   "metadata": {},
   "outputs": [
    {
     "data": {
      "text/plain": [
       "array([[ 7, 10],\n",
       "       [15, 22]])"
      ]
     },
     "execution_count": 123,
     "metadata": {},
     "output_type": "execute_result"
    }
   ],
   "source": [
    "# o ancora\n",
    "np.dot(array,array)"
   ]
  },
  {
   "cell_type": "code",
   "execution_count": 124,
   "id": "d7534175-ccd5-43ed-9fb2-6ad557736bc6",
   "metadata": {},
   "outputs": [],
   "source": [
    "a = np.atleast_2d([1,2,3])\n",
    "b = np.atleast_2d([4,5,6])"
   ]
  },
  {
   "cell_type": "code",
   "execution_count": 128,
   "id": "99ec69f8-5102-41c5-91a1-dc311d974ae8",
   "metadata": {},
   "outputs": [
    {
     "data": {
      "text/plain": [
       "array([[1, 2, 3]])"
      ]
     },
     "execution_count": 128,
     "metadata": {},
     "output_type": "execute_result"
    }
   ],
   "source": [
    "a"
   ]
  },
  {
   "cell_type": "code",
   "execution_count": 129,
   "id": "0b5ea88c-116b-4955-90d1-e059d0494026",
   "metadata": {},
   "outputs": [
    {
     "data": {
      "text/plain": [
       "array([[4, 5, 6]])"
      ]
     },
     "execution_count": 129,
     "metadata": {},
     "output_type": "execute_result"
    }
   ],
   "source": [
    "b"
   ]
  },
  {
   "cell_type": "code",
   "execution_count": 133,
   "id": "c60fdca8-b2c2-4d13-a282-c9e9590046cd",
   "metadata": {},
   "outputs": [
    {
     "data": {
      "text/plain": [
       "array([[ 4,  5,  6],\n",
       "       [ 8, 10, 12],\n",
       "       [12, 15, 18]])"
      ]
     },
     "execution_count": 133,
     "metadata": {},
     "output_type": "execute_result"
    }
   ],
   "source": [
    "a.T@b"
   ]
  },
  {
   "cell_type": "code",
   "execution_count": 134,
   "id": "ef51b3e6-9db7-4505-ae0f-be2fb4fa7383",
   "metadata": {},
   "outputs": [
    {
     "data": {
      "text/plain": [
       "array([[32]])"
      ]
     },
     "execution_count": 134,
     "metadata": {},
     "output_type": "execute_result"
    }
   ],
   "source": [
    "a@b.T"
   ]
  },
  {
   "cell_type": "markdown",
   "id": "31921034-d0a5-453d-bcad-9a2ad2188d75",
   "metadata": {},
   "source": [
    "# il prodotto interno di due vettori:"
   ]
  },
  {
   "cell_type": "code",
   "execution_count": 212,
   "id": "c82e4770-1c14-4105-b995-d55df483dc45",
   "metadata": {},
   "outputs": [
    {
     "name": "stdout",
     "output_type": "stream",
     "text": [
      "pr_int_1 =  34.221999999999994  , pr_int_2 =  34.221999999999994  , pr_int_3 =  [[34.222]]\n",
      "\n",
      " Notare che nel primo e secondo caso il risultato è uno scalare, mentre nel terzo è una matrice con un elemento; vettori e matrici con un elemento possono avere comportamenti controintuitivi, vedere \"dimensioni_e_lunghezza_dei_vettori_numpy.ipynb\n"
     ]
    }
   ],
   "source": [
    "v1 = np.array([3.2, 2.4, 4.1, 2.1])\n",
    "v2 = np.array([2.21, 3., 4.2, 1.3])\n",
    "pr_int_1 = np.sum( v1 * v2 ) #prodotto interno\n",
    "\n",
    "# vediamo l'algoritmo nel dettaglio di un'implementazione scalare:\n",
    "pr_int_2 = 0.0\n",
    "for i in range(len(v1)):\n",
    "    pr_int_2 += v1[i] * v2[i]\n",
    "#endfor\n",
    "\n",
    "# possiamo anche vedere il prodotto interno di due vettori come un caso particolare \n",
    "# di prodotto di matrici:\n",
    "r = np.atleast_2d(v1)  # vettore \"riga\" (e quindi bi-dimensionale)\n",
    "c = np.atleast_2d(v2).T  # vettore \"colonna\" (e quindi bi-dimensionale)\n",
    "pr_int_3 = r @ c  # e' un caso particolare di prodotto di matrici\n",
    "\n",
    "# confronto:\n",
    "print(\"pr_int_1 = \",pr_int_1,\" , pr_int_2 = \",pr_int_2,\" , pr_int_3 = \",pr_int_3)\n",
    "print('\\n','''Notare che nel primo e secondo caso il risultato è uno scalare, mentre nel terzo è una matrice con un elemento; vettori e matrici con un elemento possono avere comportamenti controintuitivi, vedere \"dimensioni_e_lunghezza_dei_vettori_numpy.ipynb''')"
   ]
  },
  {
   "cell_type": "markdown",
   "id": "04f8ddc2-f1ba-4b45-afd4-dfa4020d0de3",
   "metadata": {},
   "source": [
    "# il prodotto esterno di due vettori:"
   ]
  },
  {
   "cell_type": "code",
   "execution_count": 217,
   "id": "b032a25d-d6ae-47ec-835c-f2341e1fec7c",
   "metadata": {},
   "outputs": [
    {
     "name": "stdout",
     "output_type": "stream",
     "text": [
      "pr_est_1 = \n",
      " [[ 7.072  9.6   13.44   4.16 ]\n",
      " [ 5.304  7.2   10.08   3.12 ]\n",
      " [ 9.061 12.3   17.22   5.33 ]\n",
      " [ 4.641  6.3    8.82   2.73 ]] \n",
      "pr_est_2 = \n",
      " [[ 7.072  9.6   13.44   4.16 ]\n",
      " [ 5.304  7.2   10.08   3.12 ]\n",
      " [ 9.061 12.3   17.22   5.33 ]\n",
      " [ 4.641  6.3    8.82   2.73 ]]\n"
     ]
    }
   ],
   "source": [
    "v1 = np.array([3.2, 2.4, 4.1, 2.1])\n",
    "v2 = np.array([2.21, 3., 4.2, 1.3])\n",
    "# possiamo vedere il prodotto esterno di due vettori come un caso particolare \n",
    "# di prodotto di matrici:\n",
    "c = np.atleast_2d(v1).T  # vettore \"colonna\" (e quindi bi-dimensionale)\n",
    "r = np.atleast_2d(v2)  # vettore \"riga\" (e quindi bi-dimensionale)\n",
    "pr_est_1 = c @ r  # e' un caso particolare di prodotto di matrici\n",
    "\n",
    "# vediamo l'algoritmo nel dettaglio di un'implementazione scalare:\n",
    "pr_est_2 = np.zeros((len(v1),len(v2)))\n",
    "for i in range(len(v1)):\n",
    "    for j in range(len(v2)):\n",
    "        pr_est_2[i,j] = v1[i] * v2[j]\n",
    "\n",
    "# confronto:\n",
    "print(\"pr_est_1 = \\n\",pr_est_1,\"\\npr_est_2 = \\n\",pr_est_2)\n",
    "#print(\"np.sum(np.sum(np.abs(pr_int_1-pr_int_2))) = \",np.sum(np.sum(np.abs(pr_int_1-pr_int_2))))"
   ]
  },
  {
   "cell_type": "markdown",
   "id": "42c58df3-fca4-4ba2-b4a8-caeb2809f5d2",
   "metadata": {},
   "source": [
    "# Prodotto matrice/vettore\n"
   ]
  },
  {
   "cell_type": "code",
   "execution_count": 135,
   "id": "709b5ccd-64b8-4613-8ea9-f12de1b4def3",
   "metadata": {},
   "outputs": [
    {
     "name": "stdout",
     "output_type": "stream",
     "text": [
      "np.sum(np.abs(pr_Mv_1-pr_Mv_2)) =  1.7763568394002505e-15\n"
     ]
    }
   ],
   "source": [
    "# il prodotto matrice-vettore:\n",
    "# possiamo vedere il prodotto matrice-vettore come un caso particolare \n",
    "# di prodotto di matrici:\n",
    "A = np.random.rand(4,5)  # matrice a valori pseudo-casuali\n",
    "tmpv = np.array([2.21, 3., 4.2, 1.3, 4.4])\n",
    "v = np.atleast_2d(tmpv).T  # vettore (bi-dimensionale) \"colonna\"\n",
    "pr_Mv_1 = A @ v  # e' un caso particolare di prodotto di matrici\n",
    "\n",
    "# vediamo l'algoritmo nel dettaglio di un'implementazione scalare:\n",
    "pr_Mv_2 = np.zeros((A.shape[0],1)) # vettore colonna di zeri\n",
    "for i in range(A.shape[0]):\n",
    "    for j in range(A.shape[1]):\n",
    "        pr_Mv_2[i] += A[i,j] * v[j]\n",
    "    #endfor\n",
    "#endfor\n",
    "\n",
    "# confronto:\n",
    "print(\"np.sum(np.abs(pr_Mv_1-pr_Mv_2)) = \",np.sum(np.abs(pr_Mv_1-pr_Mv_2)))"
   ]
  },
  {
   "cell_type": "markdown",
   "id": "e6b76a42-1962-4ff6-a1c2-ff22a7810a0f",
   "metadata": {},
   "source": [
    "# Inversione di una matrice"
   ]
  },
  {
   "cell_type": "code",
   "execution_count": 138,
   "id": "fb49b158-7f15-47d7-ad8e-8331079e4981",
   "metadata": {},
   "outputs": [
    {
     "data": {
      "text/plain": [
       "array([[8, 0, 1, 3],\n",
       "       [9, 2, 3, 9],\n",
       "       [6, 4, 9, 6],\n",
       "       [4, 9, 1, 6]])"
      ]
     },
     "execution_count": 138,
     "metadata": {},
     "output_type": "execute_result"
    }
   ],
   "source": [
    "X = np.random.randint(0, 10, size=(4, 4))\n",
    "X"
   ]
  },
  {
   "cell_type": "code",
   "execution_count": 140,
   "id": "5a0617fd-0ce9-4214-8656-ada84ddd9b70",
   "metadata": {},
   "outputs": [
    {
     "data": {
      "text/plain": [
       "array([[ 0.20685435, -0.08200734,  0.00244798,  0.01713586],\n",
       "       [ 0.05140759, -0.11505508,  0.01835985,  0.12851897],\n",
       "       [-0.01958384, -0.05140759,  0.13586291, -0.04895961],\n",
       "       [-0.21175031,  0.23582211, -0.05181559, -0.02937576]])"
      ]
     },
     "execution_count": 140,
     "metadata": {},
     "output_type": "execute_result"
    }
   ],
   "source": [
    "from numpy.linalg import inv\n",
    "inv(X)\n"
   ]
  },
  {
   "cell_type": "code",
   "execution_count": 156,
   "id": "dc11bc1d-7db4-4ca3-a1cb-92a9447191d9",
   "metadata": {},
   "outputs": [
    {
     "data": {
      "text/plain": [
       "array([[ 1.,  0., -0.,  0.],\n",
       "       [ 0.,  1., -0.,  0.],\n",
       "       [-0., -0.,  1., -0.],\n",
       "       [-0., -0., -0.,  1.]])"
      ]
     },
     "execution_count": 156,
     "metadata": {},
     "output_type": "execute_result"
    }
   ],
   "source": [
    "Id = X @ inv(X)\n",
    "Id = np.around(Id).astype('int32')\n",
    "Id"
   ]
  },
  {
   "cell_type": "code",
   "execution_count": 157,
   "id": "a22977ff-2a48-4e7e-97e9-4a96e7175e25",
   "metadata": {},
   "outputs": [
    {
     "data": {
      "text/plain": [
       "array([[1, 1],\n",
       "       [2, 3]])"
      ]
     },
     "execution_count": 157,
     "metadata": {},
     "output_type": "execute_result"
    }
   ],
   "source": [
    "A = np.array([[1,1],[2,3]])\n",
    "A"
   ]
  },
  {
   "cell_type": "code",
   "execution_count": 161,
   "id": "e5f610c4-6b61-4af3-bbb5-03b2cf153576",
   "metadata": {},
   "outputs": [
    {
     "data": {
      "text/plain": [
       "array([[0.84147098, 0.84147098],\n",
       "       [0.90929743, 0.14112001]])"
      ]
     },
     "execution_count": 161,
     "metadata": {},
     "output_type": "execute_result"
    }
   ],
   "source": [
    "np.sin(A)"
   ]
  },
  {
   "cell_type": "markdown",
   "id": "d23ca363-1f96-49cc-9f18-4ae1b775023e",
   "metadata": {},
   "source": [
    "### Meotdi Numpy Veloci ELement-Wise\n",
    "# Unarie\n",
    "- sqrt\n",
    "- exp\n",
    "- abs\n",
    "- log\n",
    "- isnan, isinf\n",
    "- floor\n",
    "- cos, sin\n",
    "- logical_not\n",
    "- ecc\n",
    "# Binarie\n",
    "- add\n",
    "- subtract\n",
    "- multiply\n",
    "- power\n",
    "- maximum, minimum\n",
    "- logical_and, logical_or\n",
    "- greater\n",
    "- -ecc"
   ]
  },
  {
   "cell_type": "code",
   "execution_count": 170,
   "id": "15f478e0-b265-45c9-a76f-360c8a746f0b",
   "metadata": {},
   "outputs": [
    {
     "data": {
      "text/plain": [
       "array([[6, 4, 8, 6],\n",
       "       [8, 6, 2, 7],\n",
       "       [6, 6, 9, 6],\n",
       "       [8, 9, 2, 3]])"
      ]
     },
     "execution_count": 170,
     "metadata": {},
     "output_type": "execute_result"
    }
   ],
   "source": [
    "X1 = np.random.randint(1, 10, size=(4, 4))\n",
    "X2 = np.random.randint(1, 10, size=(4, 4))\n",
    "X1"
   ]
  },
  {
   "cell_type": "code",
   "execution_count": 171,
   "id": "2a3873c2-e6a4-47bb-a39b-52bc6dcd90f8",
   "metadata": {},
   "outputs": [
    {
     "data": {
      "text/plain": [
       "array([[5, 4, 4, 9],\n",
       "       [9, 7, 9, 5],\n",
       "       [1, 8, 6, 1],\n",
       "       [1, 4, 3, 2]])"
      ]
     },
     "execution_count": 171,
     "metadata": {},
     "output_type": "execute_result"
    }
   ],
   "source": [
    "X2"
   ]
  },
  {
   "cell_type": "code",
   "execution_count": 172,
   "id": "0d715707-22dd-4fa2-a5e3-a7c4bdbc286a",
   "metadata": {},
   "outputs": [
    {
     "data": {
      "text/plain": [
       "array([[ True, False,  True, False],\n",
       "       [False, False, False,  True],\n",
       "       [ True, False,  True,  True],\n",
       "       [ True,  True, False,  True]])"
      ]
     },
     "execution_count": 172,
     "metadata": {},
     "output_type": "execute_result"
    }
   ],
   "source": [
    "np.greater(X1,X2)"
   ]
  },
  {
   "cell_type": "markdown",
   "id": "3172dbf9-9b63-43e8-9e56-24a187feb69b",
   "metadata": {},
   "source": [
    "### Metodi Statistici"
   ]
  },
  {
   "cell_type": "code",
   "execution_count": 181,
   "id": "98898ed1-793f-4a87-bd38-80377396f513",
   "metadata": {},
   "outputs": [],
   "source": [
    "arr = np.random.rand(3,5) #distribuzione uniforme tra 0 e 1. I parametri sono le dimensioni degli assi"
   ]
  },
  {
   "cell_type": "code",
   "execution_count": 182,
   "id": "73911c09-6faa-4748-941d-adbe0b3ccc68",
   "metadata": {},
   "outputs": [
    {
     "data": {
      "text/plain": [
       "array([[0.94226035, 0.86686012, 0.33138264, 0.25180335, 0.58829865],\n",
       "       [0.03259132, 0.10775001, 0.09096267, 0.99333988, 0.71276643],\n",
       "       [0.60163646, 0.08822773, 0.20256835, 0.20082795, 0.47602791]])"
      ]
     },
     "execution_count": 182,
     "metadata": {},
     "output_type": "execute_result"
    }
   ],
   "source": [
    "arr"
   ]
  },
  {
   "cell_type": "code",
   "execution_count": 183,
   "id": "1d887033-1f13-4eb3-b750-2104fefe2049",
   "metadata": {},
   "outputs": [
    {
     "data": {
      "text/plain": [
       "0.43248692037252157"
      ]
     },
     "execution_count": 183,
     "metadata": {},
     "output_type": "execute_result"
    }
   ],
   "source": [
    "arr.mean()"
   ]
  },
  {
   "cell_type": "code",
   "execution_count": 184,
   "id": "7ea5d083-07cb-4794-a9ef-1d4e16f458e8",
   "metadata": {},
   "outputs": [
    {
     "data": {
      "text/plain": [
       "6.487303805587824"
      ]
     },
     "execution_count": 184,
     "metadata": {},
     "output_type": "execute_result"
    }
   ],
   "source": [
    "arr.sum()"
   ]
  },
  {
   "cell_type": "code",
   "execution_count": 185,
   "id": "87c8f5dd-c8fd-4356-991c-592f0daaa232",
   "metadata": {},
   "outputs": [
    {
     "data": {
      "text/plain": [
       "array([0.94226035, 1.80912047, 2.14050311, 2.39230646, 2.9806051 ,\n",
       "       3.01319642, 3.12094643, 3.2119091 , 4.20524897, 4.9180154 ,\n",
       "       5.51965186, 5.60787959, 5.81044794, 6.01127589, 6.48730381])"
      ]
     },
     "execution_count": 185,
     "metadata": {},
     "output_type": "execute_result"
    }
   ],
   "source": [
    "arr.cumsum()"
   ]
  },
  {
   "cell_type": "markdown",
   "id": "29bf85a4-9e84-4693-a958-522108eae36d",
   "metadata": {},
   "source": [
    "### esportare o importare Numpyarray su e da file"
   ]
  },
  {
   "cell_type": "code",
   "execution_count": 189,
   "id": "0cdead6c-3d05-4b30-8646-a03132930f5e",
   "metadata": {},
   "outputs": [],
   "source": [
    "arr = np.arange(15)\n",
    "np.save(\"nome_file_array.npy\",arr)"
   ]
  },
  {
   "cell_type": "code",
   "execution_count": 192,
   "id": "4813562f-b1f4-4314-8ae4-aad9a4150437",
   "metadata": {},
   "outputs": [
    {
     "data": {
      "text/plain": [
       "array([ 0,  1,  2,  3,  4,  5,  6,  7,  8,  9, 10, 11, 12, 13, 14])"
      ]
     },
     "execution_count": 192,
     "metadata": {},
     "output_type": "execute_result"
    }
   ],
   "source": [
    "a_load = np.load(\"nome_file_array.npy\")\n",
    "a_load"
   ]
  },
  {
   "cell_type": "markdown",
   "id": "0d079ec5-eaab-45d1-b40f-82499eaa4da0",
   "metadata": {},
   "source": [
    "# ESERCIZIETTI\n",
    "- Crea un array di dimensione 10 che vada da 1 a 100 di passo 10\n",
    "- Crea un array che vada da 1 a 1000 con 30 numeri dentro. 1000 escluso\n",
    "- Crea un array di shape (3,2) con i quadrati dei primi 6 numeri\n",
    "- Cosa succede se faccio cumsum su un array di più di una dimensione?\n",
    "- Cosa succede se allo slice di un array assegno un un solo valore scalare? e all'array di partenza cosa succede?\n",
    "- Crea una array di dimensioni (5,3) che abbia sulla prima e ultima riga zero, mentre sulle altre 1\n",
    "- Crea un vettore di meno uni di shape 3x4\n",
    "- Facciamo il prodotto tra due matrici sia con le funzionalità numpy che attraverso due cicli in python. Valutiamone anche le performance"
   ]
  },
  {
   "cell_type": "code",
   "execution_count": 194,
   "id": "66a053bc-9e02-4034-af33-6f88311f6bf5",
   "metadata": {},
   "outputs": [
    {
     "data": {
      "text/plain": [
       "'michael'"
      ]
     },
     "execution_count": 194,
     "metadata": {},
     "output_type": "execute_result"
    }
   ],
   "source": [
    "persone = np.array([\"susanna\",\"rebecca\",\"michael\",\"riccardo\"])\n",
    "persone[np.random.randint(0,4)]"
   ]
  },
  {
   "cell_type": "code",
   "execution_count": null,
   "id": "e00af5ec-8739-4e32-8c29-a7c5e92ebd66",
   "metadata": {},
   "outputs": [],
   "source": [
    "np.linspace("
   ]
  }
 ],
 "metadata": {
  "kernelspec": {
   "display_name": "Python 3 (ipykernel)",
   "language": "python",
   "name": "python3"
  },
  "language_info": {
   "codemirror_mode": {
    "name": "ipython",
    "version": 3
   },
   "file_extension": ".py",
   "mimetype": "text/x-python",
   "name": "python",
   "nbconvert_exporter": "python",
   "pygments_lexer": "ipython3",
   "version": "3.8.6"
  }
 },
 "nbformat": 4,
 "nbformat_minor": 5
}
