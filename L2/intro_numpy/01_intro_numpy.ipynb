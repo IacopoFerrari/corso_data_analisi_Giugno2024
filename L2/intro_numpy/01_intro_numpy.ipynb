{
 "cells": [
  {
   "cell_type": "markdown",
   "id": "c93b2a8b-5e04-4773-8684-a323b4332abc",
   "metadata": {},
   "source": [
    "<div>\n",
    "<img src=\"https://upload.wikimedia.org/wikipedia/commons/3/31/NumPy_logo_2020.svg\" width=\"500\"/>\n",
    "</div>\n"
   ]
  },
  {
   "cell_type": "code",
   "execution_count": 30,
   "id": "191f7fba-b656-432a-87d3-947e52d1c249",
   "metadata": {},
   "outputs": [],
   "source": [
    "import numpy as np\n",
    "# https://numpy.org/doc/stable/reference/arrays.html"
   ]
  },
  {
   "cell_type": "markdown",
   "id": "c5f85a30-e806-435f-9d0e-6db713aad824",
   "metadata": {},
   "source": [
    "### N-dimensional array Object detto anche ndarray"
   ]
  },
  {
   "cell_type": "code",
   "execution_count": 3,
   "id": "d8edb571-8e13-41a1-af2c-5ca923189826",
   "metadata": {},
   "outputs": [
    {
     "name": "stdout",
     "output_type": "stream",
     "text": [
      "[[0 0 0 0]\n",
      " [0 3 2 0]]\n"
     ]
    }
   ],
   "source": [
    "arr = np.array([[0,0,0,0], [0,3,2,0]])\n",
    "print(arr)"
   ]
  },
  {
   "cell_type": "code",
   "execution_count": 31,
   "id": "dd5d9133-74b2-4edc-ad54-d703d47308dd",
   "metadata": {},
   "outputs": [
    {
     "data": {
      "text/plain": [
       "(2, 4)"
      ]
     },
     "execution_count": 31,
     "metadata": {},
     "output_type": "execute_result"
    }
   ],
   "source": [
    "arr.shape\n",
    "#arr.size"
   ]
  },
  {
   "cell_type": "code",
   "execution_count": 32,
   "id": "e432204b-7fc8-440e-9d1c-4d4cb45ff54f",
   "metadata": {},
   "outputs": [],
   "source": [
    "arr2 = np.array([0,1,2,3,4])"
   ]
  },
  {
   "cell_type": "code",
   "execution_count": 34,
   "id": "4b053273-c9a5-4b42-b10a-e1119522e4a6",
   "metadata": {},
   "outputs": [
    {
     "data": {
      "text/plain": [
       "(5,)"
      ]
     },
     "execution_count": 34,
     "metadata": {},
     "output_type": "execute_result"
    }
   ],
   "source": [
    "arr2.shape"
   ]
  },
  {
   "cell_type": "code",
   "execution_count": 35,
   "id": "7d603730-8176-42e6-9076-129cc557f2d1",
   "metadata": {},
   "outputs": [
    {
     "data": {
      "text/plain": [
       "dtype('int32')"
      ]
     },
     "execution_count": 35,
     "metadata": {},
     "output_type": "execute_result"
    }
   ],
   "source": [
    "arr.dtype"
   ]
  },
  {
   "cell_type": "code",
   "execution_count": 36,
   "id": "bad57c68-6d90-47f7-b06a-e2e77b1dd9e3",
   "metadata": {},
   "outputs": [],
   "source": [
    "arr3 = np.array([[0,0,0,0], [0,3,2,0]], dtype=np.float64)"
   ]
  },
  {
   "cell_type": "code",
   "execution_count": 37,
   "id": "25ae18e5-37e7-471e-b15b-9eb01574a15b",
   "metadata": {},
   "outputs": [
    {
     "data": {
      "text/plain": [
       "array([[0., 0., 0., 0.],\n",
       "       [0., 3., 2., 0.]])"
      ]
     },
     "execution_count": 37,
     "metadata": {},
     "output_type": "execute_result"
    }
   ],
   "source": [
    "arr3"
   ]
  },
  {
   "cell_type": "code",
   "execution_count": 26,
   "id": "8277f581-344f-4bd9-a5f7-ba28d4df9441",
   "metadata": {},
   "outputs": [
    {
     "data": {
      "text/plain": [
       "dtype('float64')"
      ]
     },
     "execution_count": 26,
     "metadata": {},
     "output_type": "execute_result"
    }
   ],
   "source": [
    "arr3.dtype"
   ]
  },
  {
   "cell_type": "markdown",
   "id": "0aeac032-397f-4ef5-9a45-7a68ee3e222a",
   "metadata": {},
   "source": [
    "#Possiamo trasformare il tipo di dati contenuti in un array con il metodo astype(nuovo_tipo)"
   ]
  },
  {
   "cell_type": "code",
   "execution_count": 29,
   "id": "1fc8f7aa-a586-4cd6-8e4b-330160577299",
   "metadata": {},
   "outputs": [
    {
     "data": {
      "text/plain": [
       "array([[0, 0, 0, 0],\n",
       "       [0, 3, 2, 0]])"
      ]
     },
     "execution_count": 29,
     "metadata": {},
     "output_type": "execute_result"
    }
   ],
   "source": [
    "arr.astype(np.int32)"
   ]
  },
  {
   "cell_type": "code",
   "execution_count": 10,
   "id": "5d428fec-2dab-4192-b498-d96756180d93",
   "metadata": {},
   "outputs": [],
   "source": [
    "mat = np.mat('1.23 2 ; 3 4') #deprecato"
   ]
  },
  {
   "cell_type": "code",
   "execution_count": 11,
   "id": "c3625e91-10b0-40e6-954d-dc6b89f67711",
   "metadata": {},
   "outputs": [
    {
     "name": "stdout",
     "output_type": "stream",
     "text": [
      "[[1.23 2.  ]\n",
      " [3.   4.  ]]\n"
     ]
    }
   ],
   "source": [
    "print(mat)"
   ]
  },
  {
   "cell_type": "code",
   "execution_count": 15,
   "id": "873e7dd4-b000-4940-a3d1-ff27e47c8ee7",
   "metadata": {},
   "outputs": [
    {
     "data": {
      "text/plain": [
       "False"
      ]
     },
     "execution_count": 15,
     "metadata": {},
     "output_type": "execute_result"
    }
   ],
   "source": [
    "arr.all()\n",
    "#arr.any()"
   ]
  },
  {
   "cell_type": "code",
   "execution_count": 39,
   "id": "cfb60481-5e6c-454a-ad8f-239b489b5d47",
   "metadata": {},
   "outputs": [
    {
     "data": {
      "text/plain": [
       "5"
      ]
     },
     "execution_count": 39,
     "metadata": {},
     "output_type": "execute_result"
    }
   ],
   "source": [
    "arr.argmax()"
   ]
  },
  {
   "cell_type": "code",
   "execution_count": 40,
   "id": "ee6ffaef-b3c4-4930-8bd2-852cf148e48e",
   "metadata": {},
   "outputs": [],
   "source": [
    "#arr?"
   ]
  },
  {
   "cell_type": "code",
   "execution_count": 41,
   "id": "77cb7850-005b-4f67-a5d6-6e1bc45b6442",
   "metadata": {},
   "outputs": [],
   "source": [
    "arr2 = np.arange(5) # crea un array intero crescente a partire da 0"
   ]
  },
  {
   "cell_type": "code",
   "execution_count": 17,
   "id": "5d4ce1cf-a08e-4f0a-af83-08dc5ec2891d",
   "metadata": {},
   "outputs": [
    {
     "data": {
      "text/plain": [
       "array([0, 1, 2, 3, 4])"
      ]
     },
     "execution_count": 17,
     "metadata": {},
     "output_type": "execute_result"
    }
   ],
   "source": [
    "arr2"
   ]
  },
  {
   "cell_type": "code",
   "execution_count": 18,
   "id": "b7b58c84-85e3-4530-8c40-98eaf9764354",
   "metadata": {},
   "outputs": [],
   "source": [
    "l=[1,2]"
   ]
  },
  {
   "cell_type": "markdown",
   "id": "199209d8-0664-459a-b9bd-3560344972b7",
   "metadata": {},
   "source": [
    "## Trasformare una lista in un array"
   ]
  },
  {
   "cell_type": "code",
   "execution_count": 19,
   "id": "6bc24d4f-5821-4756-bd08-f5e6e02c8c78",
   "metadata": {},
   "outputs": [
    {
     "data": {
      "text/plain": [
       "array([1, 2])"
      ]
     },
     "execution_count": 19,
     "metadata": {},
     "output_type": "execute_result"
    }
   ],
   "source": [
    "np.asarray(l)"
   ]
  },
  {
   "cell_type": "code",
   "execution_count": 21,
   "id": "cc6486ec-7498-41ba-9e6f-a1e52ec5ef9b",
   "metadata": {},
   "outputs": [
    {
     "data": {
      "text/plain": [
       "\u001b[1;31mType:\u001b[0m        list\n",
       "\u001b[1;31mString form:\u001b[0m [1, 2]\n",
       "\u001b[1;31mLength:\u001b[0m      2\n",
       "\u001b[1;31mDocstring:\u001b[0m  \n",
       "Built-in mutable sequence.\n",
       "\n",
       "If no argument is given, the constructor creates a new empty list.\n",
       "The argument must be an iterable if specified.\n"
      ]
     },
     "metadata": {},
     "output_type": "display_data"
    }
   ],
   "source": [
    "l?"
   ]
  },
  {
   "cell_type": "code",
   "execution_count": 43,
   "id": "aa517ada-d3c9-4c50-9a27-1d3c791f1e69",
   "metadata": {},
   "outputs": [],
   "source": [
    "a=np.full(3,np.int32)"
   ]
  },
  {
   "cell_type": "code",
   "execution_count": 44,
   "id": "d10c2416-f2b2-4aa2-93d3-de16429a6075",
   "metadata": {},
   "outputs": [
    {
     "data": {
      "text/plain": [
       "array([<class 'numpy.int32'>, <class 'numpy.int32'>,\n",
       "       <class 'numpy.int32'>], dtype=object)"
      ]
     },
     "execution_count": 44,
     "metadata": {},
     "output_type": "execute_result"
    }
   ],
   "source": [
    "a"
   ]
  },
  {
   "cell_type": "markdown",
   "id": "ab02522f-c9b4-480e-beac-eb6ec9aedd5a",
   "metadata": {},
   "source": [
    "### funzioni di creazione:\n",
    "- array\n",
    "- asarray\n",
    "- arange\n",
    "- ones\n",
    "- ones_like\n",
    "- zeros\n",
    "- zeros_like\n",
    "- empty\n",
    "- empty_like\n",
    "- full\n",
    "- full_like\n",
    "- eye, identity"
   ]
  },
  {
   "cell_type": "markdown",
   "id": "e3111f8a-6ea9-4d75-9744-4c897a921951",
   "metadata": {},
   "source": [
    "# Differenze tra np.arange e range\n",
    "- tipo di ritorno\n",
    "- efficienza su grandi numeri (dimostriamolo)\n",
    "- limitazioni di range (opera solo su interi (dimostriamolo)"
   ]
  },
  {
   "cell_type": "markdown",
   "id": "eb63ded4-45e8-4edc-a9d7-8eff312aa20e",
   "metadata": {},
   "source": [
    "### Aritmetica con Numpy"
   ]
  },
  {
   "cell_type": "code",
   "execution_count": 64,
   "id": "697d2e93-9185-42f3-bd94-cf3fc7b9421c",
   "metadata": {},
   "outputs": [
    {
     "name": "stdout",
     "output_type": "stream",
     "text": [
      "[0 1 2 3 4 5 6 7 8 9]\n"
     ]
    }
   ],
   "source": [
    "arr = np.arange(10)\n",
    "print(arr)"
   ]
  },
  {
   "cell_type": "code",
   "execution_count": 65,
   "id": "636c23c1-1bd4-4a95-bf07-874d4a3cbb7e",
   "metadata": {},
   "outputs": [
    {
     "name": "stdout",
     "output_type": "stream",
     "text": [
      "[[0 1]\n",
      " [2 3]\n",
      " [4 5]\n",
      " [6 7]\n",
      " [8 9]]\n"
     ]
    }
   ],
   "source": [
    "arr.shape = (5,2)\n",
    "print(arr)"
   ]
  },
  {
   "cell_type": "code",
   "execution_count": 66,
   "id": "e8505a67-9fc9-4da8-8bd8-ac645a893d10",
   "metadata": {},
   "outputs": [
    {
     "name": "stdout",
     "output_type": "stream",
     "text": [
      "[[ 0  1]\n",
      " [ 4  9]\n",
      " [16 25]\n",
      " [36 49]\n",
      " [64 81]]\n"
     ]
    }
   ],
   "source": [
    "ris = arr*arr\n",
    "print(ris)"
   ]
  },
  {
   "cell_type": "code",
   "execution_count": 67,
   "id": "0835330f-5c09-4017-880c-2d071f9b6c2d",
   "metadata": {},
   "outputs": [
    {
     "data": {
      "text/plain": [
       "array([[  0,  10],\n",
       "       [ 40,  90],\n",
       "       [160, 250],\n",
       "       [360, 490],\n",
       "       [640, 810]])"
      ]
     },
     "execution_count": 67,
     "metadata": {},
     "output_type": "execute_result"
    }
   ],
   "source": [
    "ris*10"
   ]
  },
  {
   "cell_type": "code",
   "execution_count": 74,
   "id": "41490b8d-2649-4c73-973d-d1df2852e9d0",
   "metadata": {},
   "outputs": [
    {
     "name": "stderr",
     "output_type": "stream",
     "text": [
      "C:\\Users\\iapi9\\AppData\\Local\\Temp\\ipykernel_22816\\2141604455.py:1: RuntimeWarning: divide by zero encountered in divide\n",
      "  1/ris\n"
     ]
    },
    {
     "data": {
      "text/plain": [
       "array([[       inf, 1.        ],\n",
       "       [0.25      , 0.11111111],\n",
       "       [0.0625    , 0.04      ],\n",
       "       [0.02777778, 0.02040816],\n",
       "       [0.015625  , 0.01234568]])"
      ]
     },
     "execution_count": 74,
     "metadata": {},
     "output_type": "execute_result"
    }
   ],
   "source": [
    "1/ris"
   ]
  },
  {
   "cell_type": "code",
   "execution_count": 76,
   "id": "71b7d64e-d16d-41c6-ae58-bcc7466f13c7",
   "metadata": {},
   "outputs": [
    {
     "data": {
      "text/plain": [
       "array([[False, False],\n",
       "       [False, False],\n",
       "       [False, False],\n",
       "       [ True,  True],\n",
       "       [ True,  True]])"
      ]
     },
     "execution_count": 76,
     "metadata": {},
     "output_type": "execute_result"
    }
   ],
   "source": [
    "ris > 30"
   ]
  },
  {
   "cell_type": "code",
   "execution_count": 79,
   "id": "e49de67b-bcc3-4dfe-a59c-ed832cf742a4",
   "metadata": {},
   "outputs": [
    {
     "data": {
      "text/plain": [
       "array([36, 49])"
      ]
     },
     "execution_count": 79,
     "metadata": {},
     "output_type": "execute_result"
    }
   ],
   "source": [
    "ris[3][:]"
   ]
  },
  {
   "cell_type": "code",
   "execution_count": 83,
   "id": "0231194f-f475-43bb-9be8-f3022bb5a0e3",
   "metadata": {},
   "outputs": [],
   "source": [
    "ris[2:4][:] = 99"
   ]
  },
  {
   "cell_type": "markdown",
   "id": "12a16c70-d3f0-40ee-9b2f-cebaf23c1a25",
   "metadata": {},
   "source": [
    "ris"
   ]
  },
  {
   "cell_type": "code",
   "execution_count": 86,
   "id": "24111de5-5b18-45e8-b425-90bc3ca010df",
   "metadata": {},
   "outputs": [
    {
     "name": "stdout",
     "output_type": "stream",
     "text": [
      "[[99 99]\n",
      " [99 99]]\n"
     ]
    }
   ],
   "source": [
    "ris_copy = ris[2:4][:].copy()\n",
    "print(ris_copy)"
   ]
  },
  {
   "cell_type": "code",
   "execution_count": 89,
   "id": "f1c6e736-207b-4d54-8211-54fb7cd15974",
   "metadata": {},
   "outputs": [
    {
     "name": "stdout",
     "output_type": "stream",
     "text": [
      "[[[0.04991122 0.21083463 0.56101275 0.37436805 0.70695769]\n",
      "  [0.4434968  0.43620092 0.34103577 0.45160204 0.21427468]\n",
      "  [0.87825777 0.88817688 0.92834148 0.47956026 0.5317941 ]]\n",
      "\n",
      " [[0.72528758 0.24798807 0.41584535 0.53035836 0.21692218]\n",
      "  [0.80770828 0.02188281 0.70801777 0.24837288 0.51401414]\n",
      "  [0.02157237 0.95471479 0.45686378 0.38638498 0.93988545]]\n",
      "\n",
      " [[0.93215834 0.03594848 0.23962157 0.86171304 0.72414015]\n",
      "  [0.19401225 0.68290667 0.737556   0.4796702  0.74556102]\n",
      "  [0.39234239 0.89505611 0.84916159 0.22865682 0.02767937]]\n",
      "\n",
      " [[0.80759686 0.24004465 0.0565421  0.18533213 0.85179921]\n",
      "  [0.41692954 0.12070253 0.48896427 0.86414296 0.69829066]\n",
      "  [0.41034625 0.68252011 0.50320548 0.62083348 0.6804409 ]]]\n"
     ]
    }
   ],
   "source": [
    "arr3d = np.random.rand(4,3,5)\n",
    "print(arr3d)"
   ]
  },
  {
   "cell_type": "markdown",
   "id": "04623aca-df6f-40f9-b956-6bde1a41e3cd",
   "metadata": {},
   "source": [
    "## Indicizzazione Booleana"
   ]
  },
  {
   "cell_type": "code",
   "execution_count": 120,
   "id": "e8774a29-8b36-4d7d-b913-c9947974db57",
   "metadata": {},
   "outputs": [],
   "source": [
    "data = np.array([[4,7],[0,2],[.5,6],[-7.1,32],[0,0],[1,2.4]])\n",
    "names = np.array([\"Bob\",\"John\",\"Mark\",\"Bob\",\"Bob\",\"Tom\"])"
   ]
  },
  {
   "cell_type": "code",
   "execution_count": 121,
   "id": "b129ab41-12df-4076-b770-1381ff89c6a8",
   "metadata": {},
   "outputs": [
    {
     "data": {
      "text/plain": [
       "array([[ 4. ,  7. ],\n",
       "       [-7.1, 32. ],\n",
       "       [ 0. ,  0. ]])"
      ]
     },
     "execution_count": 121,
     "metadata": {},
     "output_type": "execute_result"
    }
   ],
   "source": [
    "data[names==\"Bob\"]"
   ]
  },
  {
   "cell_type": "code",
   "execution_count": 132,
   "id": "d817a156-270e-4960-a0e2-d5903548e95c",
   "metadata": {},
   "outputs": [
    {
     "data": {
      "text/plain": [
       "array([[0. , 2. ],\n",
       "       [0.5, 6. ],\n",
       "       [1. , 2.4]])"
      ]
     },
     "execution_count": 132,
     "metadata": {},
     "output_type": "execute_result"
    }
   ],
   "source": [
    "data[~(names==\"Bob\")]"
   ]
  },
  {
   "cell_type": "markdown",
   "id": "0feb92dc-8d1a-4a23-8690-048338db4d90",
   "metadata": {},
   "source": [
    "# Differenza tra liste e numpy array\n",
    "- Le liste sono native di python, mentre gli array sono della libreria numpy\n",
    "- Le liste possono contenere tipi eterogenei, mentre gli array hanno elementi omogenei (o meglio *dovrebbero*)"
   ]
  },
  {
   "cell_type": "markdown",
   "id": "b78e33e3-816a-4ff1-84ad-80ee3f3bb2cb",
   "metadata": {},
   "source": [
    "# Perché usare gli array con numpy\n",
    "Gli array hanno avanzati metodi di manipolazione dati che sono sia più facili per il programmatore sia più efficienti rispetto alle liste. \n",
    "Dunque per calcoli onerosi è consigliato usare quest'ultimi\n",
    "\n",
    "## Esempio:"
   ]
  },
  {
   "cell_type": "code",
   "execution_count": 146,
   "id": "ee7fe5e6-dced-48cb-a545-a79b20d308a3",
   "metadata": {},
   "outputs": [
    {
     "name": "stdout",
     "output_type": "stream",
     "text": [
      "[8, 10, 12]\n"
     ]
    }
   ],
   "source": [
    "lista1 = [1,2,3]\n",
    "lista2 = [7,8,9]\n",
    "lista1 + lista2\n",
    "somma = []\n",
    "for x,y in zip(lista1,lista2):\n",
    "    somma.append(x+y)\n",
    "print(somma)"
   ]
  },
  {
   "cell_type": "code",
   "execution_count": 147,
   "id": "2c3c233d-a39d-4806-9582-c37c18a047fd",
   "metadata": {},
   "outputs": [
    {
     "data": {
      "text/plain": [
       "array([ 8, 10, 12])"
      ]
     },
     "execution_count": 147,
     "metadata": {},
     "output_type": "execute_result"
    }
   ],
   "source": [
    "arr1 = np.array([1,2,3])\n",
    "arr2 = np.array([7,8,9])\n",
    "arr1+arr2"
   ]
  },
  {
   "cell_type": "markdown",
   "id": "8ec5ac6a-8517-4489-8a65-34c75a923bda",
   "metadata": {},
   "source": [
    "# Dimostriamo l'efficienza nel sommare array rispetto a liste. \n",
    "SIZE consigliata: 100000"
   ]
  },
  {
   "cell_type": "code",
   "execution_count": 152,
   "id": "3f5fa217-ed3d-40b8-b83a-0c8040215475",
   "metadata": {},
   "outputs": [
    {
     "name": "stdout",
     "output_type": "stream",
     "text": [
      "[ 0.   2.5  5.   7.5 10.  12.5 15.  17.5 20. ]\n"
     ]
    }
   ],
   "source": [
    "diag = np.eye(5, dtype=int)\n",
    "ones = np.ones(5)\n",
    "zeros = np.zeros(5)\n",
    "lin = np.linspace(0, 20, num=9)\n",
    "print(lin) # che differenze noti tra linspace e arange?"
   ]
  },
  {
   "cell_type": "code",
   "execution_count": 155,
   "id": "496fea67-bc41-4c67-8676-b4117e0ea37e",
   "metadata": {},
   "outputs": [],
   "source": [
    "emp = np.empty(5) # crea un array vuoto. Vuoto nel senso che non cambia lo stato delle celle di memoria che vengono assegnate all'array"
   ]
  },
  {
   "cell_type": "code",
   "execution_count": 156,
   "id": "2d6ca85c-6ba4-4506-9a36-57ed5ecfe358",
   "metadata": {},
   "outputs": [
    {
     "data": {
      "text/plain": [
       "array([0., 0., 0., 0., 0.])"
      ]
     },
     "execution_count": 156,
     "metadata": {},
     "output_type": "execute_result"
    }
   ],
   "source": [
    "emp"
   ]
  },
  {
   "cell_type": "code",
   "execution_count": 157,
   "id": "b62b96e1-7915-48a6-90ec-3002ad8de45c",
   "metadata": {},
   "outputs": [
    {
     "data": {
      "text/plain": [
       "array([ 0. ,  2.5,  5. ,  7.5, 10. , 12.5, 15. , 17.5, 20. ])"
      ]
     },
     "execution_count": 157,
     "metadata": {},
     "output_type": "execute_result"
    }
   ],
   "source": [
    "lin"
   ]
  },
  {
   "cell_type": "code",
   "execution_count": 158,
   "id": "b5f9a033-c35b-4e5e-932b-827a86ee3be8",
   "metadata": {},
   "outputs": [
    {
     "data": {
      "text/plain": [
       "array([[5, 0, 0, 0, 0],\n",
       "       [0, 4, 0, 0, 0],\n",
       "       [0, 0, 3, 0, 0],\n",
       "       [0, 0, 0, 2, 0],\n",
       "       [0, 0, 0, 0, 1]])"
      ]
     },
     "execution_count": 158,
     "metadata": {},
     "output_type": "execute_result"
    }
   ],
   "source": [
    "diag*[5,4,3,2,1] #supporta anche la moltiplicazione con scalari"
   ]
  },
  {
   "cell_type": "code",
   "execution_count": 159,
   "id": "aa0678ba-b7e0-432c-9cfb-60d84cc41fec",
   "metadata": {},
   "outputs": [],
   "source": [
    "newd = diag*[2,0,1,3,0] #supporta la moltiplicazione tra liste e array (compatibilmente con le regole di moltiplicazione matriciale)"
   ]
  },
  {
   "cell_type": "code",
   "execution_count": 166,
   "id": "5d7bef55-5bde-4878-bb46-651b8d628e72",
   "metadata": {},
   "outputs": [],
   "source": [
    "conc = np.sort(newd, axis=1) # ordina gli array"
   ]
  },
  {
   "cell_type": "code",
   "execution_count": 167,
   "id": "5c2eae4c-d8e4-4be6-8084-1e8782be34e6",
   "metadata": {},
   "outputs": [
    {
     "data": {
      "text/plain": [
       "array([[0, 0, 0, 0, 2],\n",
       "       [0, 0, 0, 0, 0],\n",
       "       [0, 0, 0, 0, 1],\n",
       "       [0, 0, 0, 0, 3],\n",
       "       [0, 0, 0, 0, 0]])"
      ]
     },
     "execution_count": 167,
     "metadata": {},
     "output_type": "execute_result"
    }
   ],
   "source": [
    "conc"
   ]
  },
  {
   "cell_type": "code",
   "execution_count": 168,
   "id": "64aa9c7c-83b1-4b1c-bd5f-cafbb11168ab",
   "metadata": {},
   "outputs": [
    {
     "data": {
      "text/plain": [
       "array([0, 1, 3, 4])"
      ]
     },
     "execution_count": 168,
     "metadata": {},
     "output_type": "execute_result"
    }
   ],
   "source": [
    "# ordinare un array\n",
    "np.sort(np.array([1,0,4,3])) \n",
    "    "
   ]
  },
  {
   "cell_type": "code",
   "execution_count": 90,
   "id": "c68ddf3c-a19e-4239-ba37-f9463b2d243e",
   "metadata": {},
   "outputs": [
    {
     "data": {
      "text/plain": [
       "array([1, 0, 3, 2], dtype=int64)"
      ]
     },
     "execution_count": 90,
     "metadata": {},
     "output_type": "execute_result"
    }
   ],
   "source": [
    "#ordinare gli indici\n",
    "np.argsort(np.array([1,0,4,3]))"
   ]
  },
  {
   "cell_type": "code",
   "execution_count": 169,
   "id": "e0f5ba21-44bc-40b1-8a3e-cbb0f7041226",
   "metadata": {},
   "outputs": [
    {
     "data": {
      "text/plain": [
       "array([1, 2, 3, 4, 5, 6, 7, 8])"
      ]
     },
     "execution_count": 169,
     "metadata": {},
     "output_type": "execute_result"
    }
   ],
   "source": [
    "a = np.array([1, 2, 3, 4])\n",
    "b = np.array([5, 6, 7, 8])\n",
    "np.concatenate((a,b))"
   ]
  },
  {
   "cell_type": "code",
   "execution_count": 174,
   "id": "56c65330-0679-4303-bdc8-a1185954593b",
   "metadata": {},
   "outputs": [
    {
     "data": {
      "text/plain": [
       "array([[1, 2, 3, 4, 0, 2, 4, 6],\n",
       "       [5, 6, 7, 8, 1, 3, 5, 7]])"
      ]
     },
     "execution_count": 174,
     "metadata": {},
     "output_type": "execute_result"
    }
   ],
   "source": [
    "a = np.array([[1, 2, 3, 4],[5, 6, 7, 8]])\n",
    "b = np.array([[0, 2, 4, 6], [1, 3, 5, 7]])\n",
    "np.concatenate((a,b),axis=1) #asse è sinonimo di dimensione"
   ]
  },
  {
   "cell_type": "code",
   "execution_count": 185,
   "id": "55c84e4b-4fdc-4652-a9fb-2b4e0ef57eaf",
   "metadata": {
    "scrolled": true
   },
   "outputs": [
    {
     "data": {
      "text/plain": [
       "array([[0, 1, 2],\n",
       "       [3, 4, 5]])"
      ]
     },
     "execution_count": 185,
     "metadata": {},
     "output_type": "execute_result"
    }
   ],
   "source": [
    "#reshape an array:\n",
    "a = np.arange(6) # --> crea array [0,1,2,3,4,5]\n",
    "a.reshape(2,3)"
   ]
  },
  {
   "cell_type": "code",
   "execution_count": 186,
   "id": "5f1ea807-4f98-400c-8a95-e68cd6adf46a",
   "metadata": {},
   "outputs": [
    {
     "data": {
      "text/plain": [
       "(6,)"
      ]
     },
     "execution_count": 186,
     "metadata": {},
     "output_type": "execute_result"
    }
   ],
   "source": [
    "a.shape"
   ]
  },
  {
   "cell_type": "code",
   "execution_count": 187,
   "id": "63b9d353-2050-45f8-a1cb-06432a41ac0e",
   "metadata": {},
   "outputs": [],
   "source": [
    "# per trasformarlo in un array con due dimensioni:\n",
    "a2 = a[np.newaxis, :]"
   ]
  },
  {
   "cell_type": "code",
   "execution_count": 188,
   "id": "8728cc45-9b49-4592-be55-7aaaef8e69ac",
   "metadata": {},
   "outputs": [
    {
     "data": {
      "text/plain": [
       "(1, 6)"
      ]
     },
     "execution_count": 188,
     "metadata": {},
     "output_type": "execute_result"
    }
   ],
   "source": [
    "a2.shape"
   ]
  },
  {
   "cell_type": "code",
   "execution_count": 183,
   "id": "8cfe01b2-5245-497b-ab31-3ab2ea562ae3",
   "metadata": {},
   "outputs": [
    {
     "data": {
      "text/plain": [
       "array([[1, 2, 3, 4],\n",
       "       [5, 6, 7, 8]])"
      ]
     },
     "execution_count": 183,
     "metadata": {},
     "output_type": "execute_result"
    }
   ],
   "source": [
    "#SLICING\n",
    "a = np.array([[1 , 2, 3, 4], [5, 6, 7, 8], [9, 10, 11, 12]])\n",
    "a[0:2] # si fa slicing come nelle liste"
   ]
  },
  {
   "cell_type": "code",
   "execution_count": 123,
   "id": "3f918ac1-94d2-4625-8c9f-70b1b8c3e557",
   "metadata": {},
   "outputs": [
    {
     "data": {
      "text/plain": [
       "array([ 1,  2,  3,  4,  5, 10, 11, 12])"
      ]
     },
     "execution_count": 123,
     "metadata": {},
     "output_type": "execute_result"
    }
   ],
   "source": [
    "a[( a < 6 ) | (a > 9)] # slicing condizionale"
   ]
  },
  {
   "cell_type": "code",
   "execution_count": 126,
   "id": "b1bb6821-7106-4bea-855e-feac6341bc8d",
   "metadata": {},
   "outputs": [],
   "source": [
    "a1 = np.array([[1, 1],[2, 2]])\n",
    "a2 = np.array([[3, 3],[4, 4]])"
   ]
  },
  {
   "cell_type": "code",
   "execution_count": 134,
   "id": "50f568f5-0e53-46fd-9465-cfc2373e50a5",
   "metadata": {},
   "outputs": [
    {
     "data": {
      "text/plain": [
       "array([[1, 1],\n",
       "       [2, 2],\n",
       "       [3, 3],\n",
       "       [4, 4]])"
      ]
     },
     "execution_count": 134,
     "metadata": {},
     "output_type": "execute_result"
    }
   ],
   "source": [
    "#alternativa a concatenate\n",
    "np.vstack((a1,a2))"
   ]
  },
  {
   "cell_type": "code",
   "execution_count": 135,
   "id": "79e8a597-a00d-489c-9a75-84837271bfc5",
   "metadata": {},
   "outputs": [
    {
     "data": {
      "text/plain": [
       "array([[1, 1, 3, 3],\n",
       "       [2, 2, 4, 4]])"
      ]
     },
     "execution_count": 135,
     "metadata": {},
     "output_type": "execute_result"
    }
   ],
   "source": [
    "np.hstack((a1,a2))"
   ]
  },
  {
   "cell_type": "code",
   "execution_count": null,
   "id": "d043577e-ff2e-483c-bb26-0207606b8386",
   "metadata": {},
   "outputs": [],
   "source": []
  },
  {
   "cell_type": "markdown",
   "id": "29253d80-9b31-48ae-87a6-489a634af889",
   "metadata": {},
   "source": [
    "# DIFFERENZA TRA ARRAY e MATRICI\n",
    "### `np.array`\n",
    "\n",
    "- **Generico**: `np.array` è un array generico che può essere usato per rappresentare vettori, matrici e n-d array.\n",
    "- **Operazioni element-wise**: Le operazioni aritmetiche su `np.array` sono eseguite elemento per elemento (element-wise).\n",
    "- **Dimensioni**: Può avere più di due dimensioni.\n",
    "- **Metodi di creazione**: Si usa `numpy.array()` per creare un array.\n",
    "- **Versatilità**: Può rappresentare sia vettori che matrici e supporta broadcasting, indexing, slicing, ecc.\n"
   ]
  },
  {
   "cell_type": "code",
   "execution_count": 67,
   "id": "40e6f4f1-5b3b-465c-88c6-4169758a3f17",
   "metadata": {},
   "outputs": [
    {
     "name": "stdout",
     "output_type": "stream",
     "text": [
      "[[1 2]\n",
      " [3 4]]\n",
      "\n",
      "risultato array * array:\n",
      "[[ 1  4]\n",
      " [ 9 16]]\n"
     ]
    }
   ],
   "source": [
    "array = np.array([[1, 2], [3, 4]])\n",
    "print(array)\n",
    "\n",
    "# Operazione element-wise\n",
    "print(\"\\nrisultato array * array:\")\n",
    "print(array * array)\n",
    "\n"
   ]
  },
  {
   "cell_type": "markdown",
   "id": "72cd6ec1-fa30-471f-923d-a86a3d1627a0",
   "metadata": {},
   "source": [
    "\n",
    "### `np.matrix`\n",
    "\n",
    "- **Specializzato**: `np.matrix` è una classe specifica per rappresentare matrici (solo 2D).\n",
    "- **Operazioni di algebra lineare**: Le operazioni aritmetiche su `np.matrix` sono operazioni di algebra lineare. Ad esempio, l'operatore `*` esegue la moltiplicazione tra matrici.\n",
    "- **Sempre 2D**: `np.matrix` è sempre bidimensionale.\n",
    "- **Metodi di creazione**: Si usa `numpy.matrix()` o `numpy.mat()` per creare una matrice.\n",
    "- **Deprecato**: L'uso di `np.matrix` è sconsigliato e considerato deprecato perché `np.array` è più flessibile e integrato con il resto dell'ecosistema numpy.\n"
   ]
  },
  {
   "cell_type": "code",
   "execution_count": 68,
   "id": "72f3d583-8275-47f4-b076-bbab0721a540",
   "metadata": {},
   "outputs": [
    {
     "name": "stdout",
     "output_type": "stream",
     "text": [
      "[[1 2]\n",
      " [3 4]]\n",
      "\n",
      "risultato operazione matrix * matrix\n",
      "[[ 7 10]\n",
      " [15 22]]\n"
     ]
    }
   ],
   "source": [
    "matrix = np.matrix([[1, 2], [3, 4]])\n",
    "print(matrix)\n",
    "# Output:\n",
    "# [[1 2]\n",
    "#  [3 4]]\n",
    "\n",
    "# Operazione di algebra lineare\n",
    "print(\"\\nrisultato operazione matrix * matrix\")\n",
    "print(matrix * matrix)\n",
    "# Output:\n",
    "# [[ 7 10]\n",
    "#  [15 22]]\n"
   ]
  },
  {
   "cell_type": "markdown",
   "id": "ebab0f83-6557-43ec-ab4f-7a50c04a79be",
   "metadata": {},
   "source": [
    "# moltiplicazione matriciale tra array"
   ]
  },
  {
   "cell_type": "code",
   "execution_count": 194,
   "id": "9be61531-5638-40ec-9c9d-b2db01c4a1ed",
   "metadata": {},
   "outputs": [
    {
     "data": {
      "text/plain": [
       "array([[ 5, 11],\n",
       "       [11, 25]])"
      ]
     },
     "execution_count": 194,
     "metadata": {},
     "output_type": "execute_result"
    }
   ],
   "source": [
    "array = np.array([[1, 2], [3, 4]])\n",
    "array@array.T"
   ]
  },
  {
   "cell_type": "code",
   "execution_count": 195,
   "id": "83fbd073-0be7-498e-88ab-108cb570ede7",
   "metadata": {},
   "outputs": [
    {
     "data": {
      "text/plain": [
       "array([[ 5, 11],\n",
       "       [11, 25]])"
      ]
     },
     "execution_count": 195,
     "metadata": {},
     "output_type": "execute_result"
    }
   ],
   "source": [
    "# oppure\n",
    "array.dot(array.T)"
   ]
  },
  {
   "cell_type": "code",
   "execution_count": 196,
   "id": "3ebfde8f-ccd3-411f-8e09-e3f6b77ac98d",
   "metadata": {},
   "outputs": [
    {
     "data": {
      "text/plain": [
       "array([[ 5, 11],\n",
       "       [11, 25]])"
      ]
     },
     "execution_count": 196,
     "metadata": {},
     "output_type": "execute_result"
    }
   ],
   "source": [
    "# o ancora\n",
    "np.dot(array,array.T)"
   ]
  },
  {
   "cell_type": "markdown",
   "id": "31921034-d0a5-453d-bcad-9a2ad2188d75",
   "metadata": {},
   "source": [
    "# il prodotto interno di due vettori:"
   ]
  },
  {
   "cell_type": "code",
   "execution_count": 212,
   "id": "c82e4770-1c14-4105-b995-d55df483dc45",
   "metadata": {},
   "outputs": [
    {
     "name": "stdout",
     "output_type": "stream",
     "text": [
      "pr_int_1 =  34.221999999999994  , pr_int_2 =  34.221999999999994  , pr_int_3 =  [[34.222]]\n",
      "\n",
      " Notare che nel primo e secondo caso il risultato è uno scalare, mentre nel terzo è una matrice con un elemento; vettori e matrici con un elemento possono avere comportamenti controintuitivi, vedere \"dimensioni_e_lunghezza_dei_vettori_numpy.ipynb\n"
     ]
    }
   ],
   "source": [
    "v1 = np.array([3.2, 2.4, 4.1, 2.1])\n",
    "v2 = np.array([2.21, 3., 4.2, 1.3])\n",
    "pr_int_1 = np.sum( v1 * v2 )\n",
    "\n",
    "# vediamo l'algoritmo nel dettaglio di un'implementazione scalare:\n",
    "pr_int_2 = 0.0\n",
    "for i in range(len(v1)):\n",
    "    pr_int_2 += v1[i] * v2[i]\n",
    "#endfor\n",
    "\n",
    "# possiamo anche vedere il prodotto interno di due vettori come un caso particolare \n",
    "# di prodotto di matrici:\n",
    "r = np.atleast_2d(v1)  # vettore \"riga\" (e quindi bi-dimensionale)\n",
    "c = np.atleast_2d(v2).T  # vettore \"colonna\" (e quindi bi-dimensionale)\n",
    "pr_int_3 = r @ c  # e' un caso particolare di prodotto di matrici\n",
    "\n",
    "# confronto:\n",
    "print(\"pr_int_1 = \",pr_int_1,\" , pr_int_2 = \",pr_int_2,\" , pr_int_3 = \",pr_int_3)\n",
    "print('\\n','''Notare che nel primo e secondo caso il risultato è uno scalare, mentre nel terzo è una matrice con un elemento; vettori e matrici con un elemento possono avere comportamenti controintuitivi, vedere \"dimensioni_e_lunghezza_dei_vettori_numpy.ipynb''')"
   ]
  },
  {
   "cell_type": "markdown",
   "id": "04f8ddc2-f1ba-4b45-afd4-dfa4020d0de3",
   "metadata": {},
   "source": [
    "# il prodotto esterno di due vettori:"
   ]
  },
  {
   "cell_type": "code",
   "execution_count": 217,
   "id": "b032a25d-d6ae-47ec-835c-f2341e1fec7c",
   "metadata": {},
   "outputs": [
    {
     "name": "stdout",
     "output_type": "stream",
     "text": [
      "pr_est_1 = \n",
      " [[ 7.072  9.6   13.44   4.16 ]\n",
      " [ 5.304  7.2   10.08   3.12 ]\n",
      " [ 9.061 12.3   17.22   5.33 ]\n",
      " [ 4.641  6.3    8.82   2.73 ]] \n",
      "pr_est_2 = \n",
      " [[ 7.072  9.6   13.44   4.16 ]\n",
      " [ 5.304  7.2   10.08   3.12 ]\n",
      " [ 9.061 12.3   17.22   5.33 ]\n",
      " [ 4.641  6.3    8.82   2.73 ]]\n"
     ]
    }
   ],
   "source": [
    "v1 = np.array([3.2, 2.4, 4.1, 2.1])\n",
    "v2 = np.array([2.21, 3., 4.2, 1.3])\n",
    "# possiamo vedere il prodotto esterno di due vettori come un caso particolare \n",
    "# di prodotto di matrici:\n",
    "c = np.atleast_2d(v1).T  # vettore \"colonna\" (e quindi bi-dimensionale)\n",
    "r = np.atleast_2d(v2)  # vettore \"riga\" (e quindi bi-dimensionale)\n",
    "pr_est_1 = c @ r  # e' un caso particolare di prodotto di matrici\n",
    "\n",
    "# vediamo l'algoritmo nel dettaglio di un'implementazione scalare:\n",
    "pr_est_2 = np.zeros((len(v1),len(v2)))\n",
    "for i in range(len(v1)):\n",
    "    for j in range(len(v2)):\n",
    "        pr_est_2[i,j] = v1[i] * v2[j]\n",
    "\n",
    "# confronto:\n",
    "print(\"pr_est_1 = \\n\",pr_est_1,\"\\npr_est_2 = \\n\",pr_est_2)\n",
    "#print(\"np.sum(np.sum(np.abs(pr_int_1-pr_int_2))) = \",np.sum(np.sum(np.abs(pr_int_1-pr_int_2))))"
   ]
  },
  {
   "cell_type": "markdown",
   "id": "42c58df3-fca4-4ba2-b4a8-caeb2809f5d2",
   "metadata": {},
   "source": [
    "# Prodotto matrice/vettore\n"
   ]
  },
  {
   "cell_type": "code",
   "execution_count": null,
   "id": "709b5ccd-64b8-4613-8ea9-f12de1b4def3",
   "metadata": {},
   "outputs": [],
   "source": [
    "# il prodotto matrice-vettore:\n",
    "# possiamo vedere il prodotto matrice-vettore come un caso particolare \n",
    "# di prodotto di matrici:\n",
    "A = np.random.rand(4,5)  # matrice a valori pseudo-casuali\n",
    "tmpv = np.array([2.21, 3., 4.2, 1.3, 4.4])\n",
    "v = np.atleast_2d(tmpv).T  # vettore (bi-dimensionale) \"colonna\"\n",
    "pr_Mv_1 = A @ v  # e' un caso particolare di prodotto di matrici\n",
    "\n",
    "# vediamo l'algoritmo nel dettaglio di un'implementazione scalare:\n",
    "pr_Mv_2 = np.zeros((A.shape[0],1)) # vettore colonna di zeri\n",
    "for i in range(A.shape[0]):\n",
    "    for j in range(A.shape[1]):\n",
    "        pr_Mv_2[i] += A[i,j] * v[j]\n",
    "    #endfor\n",
    "#endfor\n",
    "\n",
    "# confronto:\n",
    "print(\"np.sum(np.abs(pr_Mv_1-pr_Mv_2)) = \",np.sum(np.abs(pr_Mv_1-pr_Mv_2)))"
   ]
  },
  {
   "cell_type": "markdown",
   "id": "e6b76a42-1962-4ff6-a1c2-ff22a7810a0f",
   "metadata": {},
   "source": [
    "# Inversione di una matrice"
   ]
  },
  {
   "cell_type": "code",
   "execution_count": 245,
   "id": "fb49b158-7f15-47d7-ad8e-8331079e4981",
   "metadata": {},
   "outputs": [
    {
     "data": {
      "text/plain": [
       "array([[7, 8, 9, 8],\n",
       "       [8, 2, 0, 2],\n",
       "       [9, 6, 1, 5],\n",
       "       [9, 7, 6, 8]])"
      ]
     },
     "execution_count": 245,
     "metadata": {},
     "output_type": "execute_result"
    }
   ],
   "source": [
    "X = np.random.randint(0, 10, size=(4, 4))\n",
    "X"
   ]
  },
  {
   "cell_type": "code",
   "execution_count": 246,
   "id": "5a0617fd-0ce9-4214-8656-ada84ddd9b70",
   "metadata": {},
   "outputs": [
    {
     "data": {
      "text/plain": [
       "array([[ 0.05343511,  0.23282443, -0.06870229, -0.06870229],\n",
       "       [ 0.32824427, -0.14122137,  0.4351145 , -0.5648855 ],\n",
       "       [ 0.25954198,  0.20229008, -0.19083969, -0.19083969],\n",
       "       [-0.54198473, -0.29007634, -0.16030534,  0.83969466]])"
      ]
     },
     "execution_count": 246,
     "metadata": {},
     "output_type": "execute_result"
    }
   ],
   "source": [
    "from numpy.linalg import inv\n",
    "inv(X)\n"
   ]
  },
  {
   "cell_type": "code",
   "execution_count": 249,
   "id": "dc11bc1d-7db4-4ca3-a1cb-92a9447191d9",
   "metadata": {},
   "outputs": [
    {
     "data": {
      "text/plain": [
       "array([[ 1.00000000e+00,  4.44089210e-16, -4.44089210e-16,\n",
       "        -8.88178420e-16],\n",
       "       [-4.44089210e-16,  1.00000000e+00, -5.55111512e-17,\n",
       "        -4.44089210e-16],\n",
       "       [-1.11022302e-16, -5.55111512e-17,  1.00000000e+00,\n",
       "        -4.44089210e-16],\n",
       "       [-8.88178420e-16,  0.00000000e+00,  2.22044605e-16,\n",
       "         1.00000000e+00]])"
      ]
     },
     "execution_count": 249,
     "metadata": {},
     "output_type": "execute_result"
    }
   ],
   "source": [
    "X @ inv(X)"
   ]
  },
  {
   "cell_type": "markdown",
   "id": "d23ca363-1f96-49cc-9f18-4ae1b775023e",
   "metadata": {},
   "source": [
    "### Meotdi Numpy Veloci ELement-Wise\n",
    "# Unarie\n",
    "- sqrt\n",
    "- exp\n",
    "- abs\n",
    "- log\n",
    "- isnan, isinf\n",
    "- floor\n",
    "- cos, sin\n",
    "- logical_not\n",
    "- ecc\n",
    "# Binarie\n",
    "- add\n",
    "- subtract\n",
    "- multiply\n",
    "- power\n",
    "- maximum, minimum\n",
    "- logical_and, logical_or\n",
    "- greater\n",
    "- -ecc"
   ]
  },
  {
   "cell_type": "markdown",
   "id": "3172dbf9-9b63-43e8-9e56-24a187feb69b",
   "metadata": {},
   "source": [
    "### Metodi Statistici"
   ]
  },
  {
   "cell_type": "code",
   "execution_count": 221,
   "id": "98898ed1-793f-4a87-bd38-80377396f513",
   "metadata": {},
   "outputs": [],
   "source": [
    "arr = np.random.rand(3,5) #distribuzione uniforme tra 0 e 1. I parametri sono le dimensioni degli assi"
   ]
  },
  {
   "cell_type": "code",
   "execution_count": 222,
   "id": "73911c09-6faa-4748-941d-adbe0b3ccc68",
   "metadata": {},
   "outputs": [
    {
     "data": {
      "text/plain": [
       "array([[0.86106614, 0.77583915, 0.59088201, 0.04843808, 0.75468739],\n",
       "       [0.14395205, 0.50197475, 0.79162253, 0.72386012, 0.22167952],\n",
       "       [0.49105749, 0.4569653 , 0.34346897, 0.23386901, 0.55528737]])"
      ]
     },
     "execution_count": 222,
     "metadata": {},
     "output_type": "execute_result"
    }
   ],
   "source": [
    "arr"
   ]
  },
  {
   "cell_type": "code",
   "execution_count": 223,
   "id": "1d887033-1f13-4eb3-b750-2104fefe2049",
   "metadata": {},
   "outputs": [
    {
     "data": {
      "text/plain": [
       "0.4996433260221592"
      ]
     },
     "execution_count": 223,
     "metadata": {},
     "output_type": "execute_result"
    }
   ],
   "source": [
    "arr.mean()"
   ]
  },
  {
   "cell_type": "code",
   "execution_count": 224,
   "id": "7ea5d083-07cb-4794-a9ef-1d4e16f458e8",
   "metadata": {},
   "outputs": [
    {
     "data": {
      "text/plain": [
       "7.494649890332388"
      ]
     },
     "execution_count": 224,
     "metadata": {},
     "output_type": "execute_result"
    }
   ],
   "source": [
    "arr.sum()"
   ]
  },
  {
   "cell_type": "code",
   "execution_count": 225,
   "id": "87c8f5dd-c8fd-4356-991c-592f0daaa232",
   "metadata": {},
   "outputs": [
    {
     "data": {
      "text/plain": [
       "array([0.86106614, 1.63690529, 2.2277873 , 2.27622539, 3.03091277,\n",
       "       3.17486482, 3.67683958, 4.46846211, 5.19232223, 5.41400175,\n",
       "       5.90505924, 6.36202454, 6.70549351, 6.93936252, 7.49464989])"
      ]
     },
     "execution_count": 225,
     "metadata": {},
     "output_type": "execute_result"
    }
   ],
   "source": [
    "arr.cumsum()"
   ]
  },
  {
   "cell_type": "markdown",
   "id": "29bf85a4-9e84-4693-a958-522108eae36d",
   "metadata": {},
   "source": [
    "### esportare o importare Numpyarray su e da file"
   ]
  },
  {
   "cell_type": "code",
   "execution_count": 226,
   "id": "0cdead6c-3d05-4b30-8646-a03132930f5e",
   "metadata": {},
   "outputs": [],
   "source": [
    "arr = np.arange(10)\n",
    "np.save(\"nome_file_array.npy\",arr)"
   ]
  },
  {
   "cell_type": "code",
   "execution_count": 228,
   "id": "4813562f-b1f4-4314-8ae4-aad9a4150437",
   "metadata": {},
   "outputs": [
    {
     "data": {
      "text/plain": [
       "array([0, 1, 2, 3, 4, 5, 6, 7, 8, 9])"
      ]
     },
     "execution_count": 228,
     "metadata": {},
     "output_type": "execute_result"
    }
   ],
   "source": [
    "a_load = np.load(\"nome_file_array.npy\")\n",
    "a_load"
   ]
  },
  {
   "cell_type": "markdown",
   "id": "0d079ec5-eaab-45d1-b40f-82499eaa4da0",
   "metadata": {},
   "source": [
    "# ESERCIZIETTI\n",
    "- Crea un array di dimensione 10 che vada da 1 a 100 di passo 10\n",
    "- Crea un array che vada da 1 a 1000 con 30 numeri dentro. 1000 escluso\n",
    "- Crea un array di shape (3,2) con i quadrati dei primi 6 numeri\n",
    "- Cosa succede se faccio cumsum su un array di più di una dimensione?\n",
    "- Cosa succede se allo slice di un array assegno un un solo valore scalare? e all'array di partenza cosa succede?\n",
    "- Crea una array di dimensioni (5,3) che abbia sulla prima e ultima riga zero, mentre sulle altre 1\n",
    "- Crea un vettore di meno uni di shape 3x4\n",
    "- Facciamo il prodotto tra due matrici sia con le funzionalità numpy che attraverso due cicli in python. Valutiamone anche le performance"
   ]
  },
  {
   "cell_type": "code",
   "execution_count": null,
   "id": "66a053bc-9e02-4034-af33-6f88311f6bf5",
   "metadata": {},
   "outputs": [],
   "source": [
    "\n"
   ]
  }
 ],
 "metadata": {
  "kernelspec": {
   "display_name": "Python 3 (ipykernel)",
   "language": "python",
   "name": "python3"
  },
  "language_info": {
   "codemirror_mode": {
    "name": "ipython",
    "version": 3
   },
   "file_extension": ".py",
   "mimetype": "text/x-python",
   "name": "python",
   "nbconvert_exporter": "python",
   "pygments_lexer": "ipython3",
   "version": "3.8.6"
  }
 },
 "nbformat": 4,
 "nbformat_minor": 5
}
